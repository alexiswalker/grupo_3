{
 "cells": [
  {
   "cell_type": "markdown",
   "metadata": {},
   "source": [
    "<center>Maestría en Explotación de Datos y Gestión del Conocimiento</center>\n",
    "<br><br><br>\n",
    "\n",
    "### <center>Trabajo Práctico Final</center>\n",
    "#### <center>Web Mining</center>\n",
    "<br><br>\n",
    "\n",
    "<center>Franco Lianza, Lucio Scalzo, Ignacio Mujica, Alexis Walker</center>\n",
    "<br>\n",
    "\n",
    "<hr />"
   ]
  },
  {
   "cell_type": "markdown",
   "metadata": {},
   "source": [
    "## Índice\n",
    "\n",
    "* <a href='#Introduccion'>Introducción</a>\n",
    "* <a href='#Objetivo'>Objetivo</a>\n",
    "* <a href='#Alcance'>Alcance</a>\n",
    "* <a href='#Estructura'>Estructura</a>\n",
    "* <a href='#Consideraciones'>Consideraciones</a>\n",
    "* <a href='#Resto'>Resto de tareas</a>\n",
    "* <a href='#Futuraslneasdetrabajo'>Futuras líneas de trabajo</a>"
   ]
  },
  {
   "cell_type": "markdown",
   "metadata": {},
   "source": [
    "<a id='Introduccion'></a>\n",
    "\n",
    "##  Introducción\n",
    "\n",
    "[Clutch](https://clutch.co/) es un sitio B2B (o *Negocio a negocio*, originado de la expresión en inglés: *business-to-business*) de calificaciones y reseñas de empresas tecnológicas. Aquí, éstas son evaluadas en función de una serie de factores cuantitativos y cualitativos, entre los que se encuentran comentarios certificados que realizan sus cliente. Permite constituir una reputación a través de revisiones verificadas de terceros.\n",
    "\n",
    "No solo es relevante como punto de consulta de información valiosa para la ponderación de proveedores; sino también, como se pretende en el presente, hacer un análisis de la presencia de la competencia en el mercado para establecer puntos de comparación."
   ]
  },
  {
   "cell_type": "markdown",
   "metadata": {},
   "source": [
    "<a id='Objetivo'></a>\n",
    "\n",
    "## Objetivo\n",
    "\n",
    "Con este desarrollo se aspira a extraer referencias allí expuesta para constituir una radiografía del mercado. La intensión es simplificar la información en un cuadrante de posicionamiento que permita una rápida comparativa de las empresas que operan en un mismo área (delimitada por rubro y geografía).\n",
    "\n",
    "La principales técnicas a utilizar son: **Web Scraping** para recopilar información de forma automática expuesta en Internet, y **Text Mining** para preprocesar los datos no estructurados obtenidos del portal citado.\n"
   ]
  },
  {
   "cell_type": "markdown",
   "metadata": {},
   "source": [
    "<a id='Alcance'></a>\n",
    "\n",
    "## Alcance\n",
    "\n",
    "El entregable que resulta de este trabajo supone:\n",
    "\n",
    "- Automatización de la extracción del texto tal como se expone en el sitio web.\n",
    "\n",
    "- Preprocesamiento de los registros utilizando técnicas de Text Mining para obtener un set de datos estructurados.\n",
    "\n",
    "- Reconocimiento las entidades relevantes de cada lectura para disponer el resultado en forma adecuada para la construcción el resumen pretendido.\n",
    "\n",
    "- Agrupación de las empresas de similares prestaciones y mercado al que apuntan.\n",
    "\n",
    "- Construcción de un tablero donde se representen las empresas de un grupo, distribuidas de acuerdo a un índice de performance comparable con el resto."
   ]
  },
  {
   "cell_type": "markdown",
   "metadata": {},
   "source": [
    "<a id='Estructura'></a>\n",
    "\n",
    "## Estructura\n",
    "\n",
    "El código resultante se modularizó para ejecutar cada una de las etapa secuencialmente; y poder así, tener capacidad de recupero frente a un error, continuando con la extracción a partir del punto de falla.\n",
    "\n",
    "El flujo de trabajo programado debe orquestar las siguientes operaciones:\n",
    "\n",
    "### Scraping\n",
    "\n",
    "En [01 - scraping](/notebooks/01%20-%20scraping.ipynb) se recuperan los atributos seleccionados para el análisis, la información obtenida se almacena sin ningún tipo de procesamiento previo, tal como se expone en el sitio. El resultado obtenido es entrada para el siguiente paso.\n",
    "\n",
    "### Limpieza\n",
    "\n",
    "En [02 - cleaning](/notebooks/02%20-%20cleaning.ipynb) se revisan los valores posibles y sus respectivos tipos de datos para todos los atributos recuperados. Con las conclusiones obtenidas, se decide qué hacer con los valores que suponen un tratamiento (e.g.: valores nulos, atributos expresados categóricamente, valores numéricos representados como caracteres debido a la presencia de un prefijo/sufijo, etcétera).\n",
    "\n",
    "Se almacena el resultado obtenido y se utiliza como entrada para el siguiente paso.\n",
    "\n",
    "### Análisis\n",
    "\n",
    "En [03 - analysis](/notebooks/03%20-%20analysis.ipynb), brevemente, se hace hace una revisión descriptiva de los índices más importantes para el objetivo del trabajo. Lo construido aquí no forma parte del proceso diario de actualización de la información.\n",
    "\n",
    "### Agrupación\n",
    "\n",
    "En [04 - clustering](/notebooks/04%20-%20clustering.ipynb) se utilizan técnicas de aprendizaje automático para agrupar las empresas afines según el servicio que ofrecen y el mercado sobre el que operan, para comparar entre aquellas que son competencia directa.\n",
    "\n",
    "Se reconocen tres grandes grupos (luego de reducir la dimensionalidad de los datos) y cada compañía es asignada, conforme sus atributos, a uno de ellos.\n",
    "\n",
    "Se almacena el resultado obtenido y se utiliza para calcular los cuadrantes de comparación.\n",
    "\n",
    "### Presentación\n",
    "\n",
    "Por último, se construye el [Dashboard](https://share.streamlit.io/flianza/grupo_3/main/webmining/dashboard/app.py) que habilita al usuario a explorar el posicionamiento de una firma frente a sus colegas.\n",
    "\n",
    "Aquí se puede reconocer:\n",
    "\n",
    "- El score promedio del grupo al que pertenece la empresa seleccionada.\n",
    "\n",
    "- Cómo ésta se ubica respecto a la cantidad de reviews obtenidas y el ranting resultante (cuadrante de la izquierda).\n",
    "\n",
    "- Cuál es la naturaleza de sus clientes (según su tamaño) respecto al resto (cuadrante de la derecha). Para esto, se vectoriza la información de mercado para ubicar dos empresas similares en regiones cercanas.\n",
    "\n",
    "- Y, además, en ambos cuadrantes el punto de ubicación tiene un diámetro proporcional a la cantidad e personas que emplea.\n",
    "\n",
    "#### Un ejemplo\n",
    "\n",
    "![dashboard](../img/dashboard.jpg)"
   ]
  },
  {
   "cell_type": "markdown",
   "metadata": {},
   "source": [
    "<a id='Consideraciones'></a>\n",
    "\n",
    "## Consideraciones\n",
    "\n",
    "* El primer paso cuando se aborda una tarea de *scraping*, es chequear si el sitio sobre el cual se tiene interés en recuperar su información, la ofrece por medio de una API.\n",
    "\n",
    "* Tener en mente la cantidad de solicitudes que se realizan sobre la página web, realizar una gran cantidad en un lapso de tiempo breve puede implicar bloqueos de acceso.\n",
    "\n",
    "* Tener presente los parámetros del 'User-Agent' que son utilizados en las solicitudes; el sitio podría chequear estos valores para prevenir este tipo de prácticas o accesos no autorizados.\n",
    "\n",
    "* Frente a un inconveniente, considerar aplicaciones de otro tipo (como pueden ser las de consola, e.g.: 'curl') para realizar debuging.\n",
    "\n",
    "* Las páginas web son dinámicas. Asegurar que el *scraper* brinde advertencias tempranas y detalladas cuando algo no funciona de acuerdo a las condiciones reconocidas en tiempo de desarrollo.\n",
    "\n",
    "* La presencia de CAPTCHA's es indicio que el acceso automático a la información del sitio no es deseado. Posiblemente una modelo de *deep learning* podría contribuir a sortear este inconveniente.\n",
    "\n",
    "* Aún cuando se recurre a herramientas como 'Selenium', puede que se esté monitoreando el comportamiento de navegación para detectar patrones no humanos.\n",
    "\n",
    "* No dejar pasar los potenciales inconvenientes legales que puede traer aparejada la dependencia excesiva o el mal uso de la técnica.\n",
    "\n",
    "* JavaScript puede ser un motivo de falla, ya que, en ocasiones, es el responsable que el contenido que se visualiza en el navegador no se corresponda con el código fuente de la página."
   ]
  },
  {
   "cell_type": "markdown",
   "metadata": {},
   "source": [
    "<a id='Resto'></a>\n",
    "\n",
    "## Implementación\n",
    "\n",
    "### Estructura\n",
    "\n",
    "El flujo de trabajo puede ejecutarse a intervalos regulares utilizando un administrador de procesos en segundo plano provisto por el sistema operativo donde la solución está publicada. O bien, orquestarse en una herramienta corporativa de *workload automation* (e.g.: Control-M).\n",
    "\n",
    "El primer paso debe controlar todos los posibles códigos de estado de respuesta HTTP que el sitio puede retornar, y tener un comportamiento implementado para resolver cada posibilidad (reintentos, notificaciones, etcétera).\n",
    "\n",
    "En este punto también es mandatorio comprobar posibles cambios que haya sufrido la presentación y afecten el acceso a la información.\n",
    "\n",
    "En todas las etapas, el resultado parcial es almacenado en un archivo y se deja *log* de todas las posibles interrupciones de cada módulo.\n",
    "\n",
    "Cada instancia debe ser idempotente, es decir, admitir tantos reintentos como sea necesario sin depender de ninguna condición previa.\n",
    "\n",
    "Los enumerado se resume en el siguiente diagrama estructural:\n",
    "\n",
    "![structural](../img/structural.png)\n",
    "\n",
    "### Comportamiento\n",
    "\n",
    "Como interactúan los componente se describe en el siguiente diagrama de comportamiento:\n",
    "\n",
    "![behavior](../img/behavior.png)"
   ]
  },
  {
   "cell_type": "markdown",
   "metadata": {},
   "source": [
    "<a id='Futuraslneasdetrabajo'></a>\n",
    "\n",
    "## Futuras líneas de trabajo\n",
    "\n",
    "- Extender el origen de información a otros sitios que brinde un servicio de idénticas características.\n",
    "\n",
    "- Extraer información adicional de cada empresa para mejorar el agrupamiento, incorporando otras técnicas de clustering; como por ejemplo: Asignación Latente de Dirichlet (LDA). "
   ]
  }
 ],
 "metadata": {
  "kernelspec": {
   "display_name": "Python 3.8.10 ('base')",
   "language": "python",
   "name": "python3"
  },
  "language_info": {
   "name": "python",
   "version": "3.8.10"
  },
  "orig_nbformat": 4,
  "vscode": {
   "interpreter": {
    "hash": "c52aacf6b70438758367438767b84ad651ae88409206dee925f0513a0df7651e"
   }
  }
 },
 "nbformat": 4,
 "nbformat_minor": 2
}
