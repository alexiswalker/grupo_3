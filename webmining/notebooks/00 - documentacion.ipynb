{
 "cells": [
  {
   "cell_type": "markdown",
   "metadata": {},
   "source": [
    "<center>Maestría en Explotación de Datos y Gestión del Conocimiento</center>\n",
    "<br><br><br>\n",
    "\n",
    "### <center>Trabajo Práctico Final</center>\n",
    "#### <center>Web Mining</center>\n",
    "<br><br>\n",
    "\n",
    "<center>Franco Lianza, Lucio Scalzo, Ignacio Mujica, Alexis Walker</center>\n",
    "<br>\n",
    "\n",
    "<hr />"
   ]
  },
  {
   "cell_type": "markdown",
   "metadata": {},
   "source": [
    "## Introducción\n",
    "\n",
    "[Clutch](https://clutch.co/) es un sitio B2B (o *Negocio a negocio*, originado de la expresión en inglés: *business-to-business*) de calificaciones y reseñas de empresas tecnológicas. Aquí, éstas son evaluadas en función de una serie de factores cuantitativos y cualitativos, entre los que se encuentran comentarios certificados que realizan sus cliente. Permite constituir una reputación a través de revisiones verificadas de terceros.\n",
    "\n",
    "No solo es relevante como punto de consulta de información valiosa para la ponderación de proveedores; sino también, como se pretende en el presente, hacer un análisis de la presencia de la competencia en el mercado para establecer puntos de comparación."
   ]
  },
  {
   "cell_type": "markdown",
   "metadata": {},
   "source": [
    "## Objetivo\n",
    "\n",
    "Con este desarrollo se aspira a extraer referencias allí expuesta para constituir una radiografía del mercado. La intensión es simplificar la información en un cuadrante de posicionamiento que permita una rápida comparativa de las empresas que operan en un mismo área (delimitada por rubro y geografía).\n",
    "\n",
    "La principales técnicas a utilizar son: **Web Scraping** para recopilar información de forma automática expuesta en Internet, y **Text Mining** para preprocesar los datos no estructurados obtenidos del portal citado.\n"
   ]
  },
  {
   "cell_type": "markdown",
   "metadata": {},
   "source": [
    "## Alcance\n",
    "\n",
    "El entregable que resulta de este trabajo supone:\n",
    "\n",
    "- Automatización de la extracción del texto tal como se expone en el sitio web.\n",
    "- Preprocesamiento de los registros utilizando técnicas de Text Mining para obtener un set de datos estructurados.\n",
    "- Reconocimiento las entidades relevantes de cada lectura para disponer el resultado en forma adecuada para la construcción el resumen pretendido.\n",
    "- Agrupación de las empresas de similares prestaciones.\n",
    "- Construcción de un tablero donde se presenten las empresas de un grupo, distribuidas de acuerdo a un índice de performance comparable con el resto."
   ]
  },
  {
   "cell_type": "markdown",
   "metadata": {},
   "source": [
    "https://share.streamlit.io/flianza/grupo_3/main/webmining/dashboard/app.py"
   ]
  },
  {
   "cell_type": "markdown",
   "metadata": {},
   "source": [
    "## Estructura\n",
    "\n",
    "### Scraping\n",
    "\n",
    "### Limpieza\n",
    "\n",
    "### Procesamiento\n",
    "\n",
    "### Presentación"
   ]
  },
  {
   "cell_type": "markdown",
   "metadata": {},
   "source": [
    "## Consideraciones (a completar)\n",
    "\n",
    "describir los aspectos a tener en cuenta cuando se hace scraping: CAPTCHA, contenido dinámico, etc."
   ]
  },
  {
   "cell_type": "markdown",
   "metadata": {},
   "source": [
    "## Resto de tareas (a completar) \n",
    "\n",
    "Cron en hosting\n",
    "Monitoreo: agente externo para ver si anda -> si anda, me autochequeo\n",
    "Resolver la caida de internet -> por ejemplo, reintentando\n",
    "Resolver errores html (40, 50)\n",
    "Chequear que la estructura cambio o no\n",
    "Describir cómo construir el dashboard sin construir nada\n",
    "..."
   ]
  },
  {
   "cell_type": "markdown",
   "metadata": {},
   "source": [
    "## Futuras líneas de trabajo\n",
    "\n",
    "Extender el origen de información a otros sitios que brinde un servicio de idénticas características.\n",
    "\n",
    "Extraer información adicional de cada empresa para mejorar el agrupamiento, incorporando otras técnicas de clustering."
   ]
  },
  {
   "cell_type": "markdown",
   "metadata": {},
   "source": []
  }
 ],
 "metadata": {
  "kernelspec": {
   "display_name": "Python 3.8.10 ('base')",
   "language": "python",
   "name": "python3"
  },
  "language_info": {
   "name": "python",
   "version": "3.8.10"
  },
  "orig_nbformat": 4,
  "vscode": {
   "interpreter": {
    "hash": "c52aacf6b70438758367438767b84ad651ae88409206dee925f0513a0df7651e"
   }
  }
 },
 "nbformat": 4,
 "nbformat_minor": 2
}
