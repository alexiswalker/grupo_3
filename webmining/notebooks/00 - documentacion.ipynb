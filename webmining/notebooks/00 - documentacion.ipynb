{
 "cells": [
  {
   "cell_type": "markdown",
   "metadata": {},
   "source": [
    "<center>Maestría en Explotación de Datos y Gestión del Conocimiento</center>\n",
    "<br>\n",
    "\n",
    "### <center>Web Mining</center>\n",
    "#### <center>Trabajo Práctico Final</center>\n",
    "\n",
    "<br><br>\n",
    "<center>Franco Lianza, Lucio Scalzo, Ignacio Mujica, Alexis Walker</center>\n",
    "<br>\n",
    "<hr />"
   ]
  },
  {
   "cell_type": "markdown",
   "metadata": {},
   "source": [
    "## Introducción\n",
    "\n",
    "[Clutch](https://clutch.co/) es un sitio B2B (o *Negocio a negocio*, originado de la expresión en inglés: *business-to-business*) de calificaciones y reseñas de empresas tecnológicas. Aquí, éstas son evaluadas en función de una serie de factores cuantitativos y cualitativos, entre los que se encuentran comentarios certificados que realizan sus cliente. Permite constituir una reputación a través de revisiones verificadas de terceros.\n",
    "\n",
    "No solo es relevante como punto de consulta de información valiosa para la ponderación de proveedores; sino también, como se pretende en el presente, hacer un análisis de la presencia de la competencia en el mercado para establecer puntos de comparación."
   ]
  },
  {
   "cell_type": "markdown",
   "metadata": {},
   "source": [
    "## Objetivo\n",
    "\n",
    "Con este desarrollo se aspira a extraer referencias allí expuesta para constituir una radiografía del mercado. La intensión es simplificar la información en un cuadrante de posicionamiento que permita una rápida comparativa de las empresas que operan en un mismo área (delimitada por rubro y geografía).\n",
    "\n",
    "La principales técnicas a utilizar son: **Web Scraping** para recopilar información de forma automática expuesta en Internet, y **Text Mining** para preprocesar los datos no estructurados obtenidos del portal citado.\n"
   ]
  },
  {
   "cell_type": "markdown",
   "metadata": {},
   "source": [
    "## Alcance\n",
    "\n",
    "El entregable que resulta de este trabajo supone:\n",
    "\n",
    "- Una pieza de código automatizable que extraiga el texto tal como se expone en el sitio web.\n",
    "- Preprocesamiento de los registros utilizando técnicas de Text Mining para obtener un set de datos estructurados.\n",
    "- Reconocer las entidades relevantes de cada lectura para disponer el resultado en forma adecuada para la construcción el resumen pretendido. \n"
   ]
  },
  {
   "cell_type": "markdown",
   "metadata": {},
   "source": []
  },
  {
   "cell_type": "markdown",
   "metadata": {},
   "source": [
    "## Consideraciones (a completar)\n",
    "\n",
    "describir los aspectos a tener en cuenta cuando se hace scraping: CAPTCHA, contenido dinámico, etc."
   ]
  },
  {
   "cell_type": "markdown",
   "metadata": {},
   "source": [
    "## Resto de tareas (a completar) \n",
    "\n",
    "Cron en hosting\n",
    "Monitoreo: agente externo para ver si anda -> si anda, me autochequeo\n",
    "Resolver la caida de internet -> por ejemplo, reintentando\n",
    "Resolver errores html (40, 50)\n",
    "Chequear que la estructura cambio o no\n",
    "Describir cómo construir el dashboard sin construir nada\n",
    "..."
   ]
  },
  {
   "cell_type": "markdown",
   "metadata": {},
   "source": [
    "\n",
    "## Futuras lineas de trabajo (a completar)\n",
    "\n",
    "Extender el origen de información a otros sitios que brinde un servicio de idénticas características."
   ]
  },
  {
   "cell_type": "markdown",
   "metadata": {},
   "source": []
  }
 ],
 "metadata": {
  "language_info": {
   "name": "python"
  },
  "orig_nbformat": 4
 },
 "nbformat": 4,
 "nbformat_minor": 2
}
