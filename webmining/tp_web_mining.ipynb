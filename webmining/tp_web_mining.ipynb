{
  "cells": [
    {
      "cell_type": "markdown",
      "metadata": {},
      "source": [
        "# Introducción"
      ]
    },
    {
      "cell_type": "markdown",
      "metadata": {},
      "source": [
        "[Clutch](https://clutch.co/) es un sitio B2B (Negocio a negocio, del inglés business-to-business o B2B) de calificaciones y reseñas de empresas tecnológicas. Aquí, éstas son evaluadas en función de una serie de factores cuantitativos y cualitativos entre las que se encuentran reseñas certificadas que realizan sus cliente. Permite constituir una reputación a través de revisiones verificadas de terceros.\n",
        "\n",
        "No solo es relevante como punto de consulta de información valiosa para la ponderación de proveedores; sino también, como se pretende en el presente, hacer un análisis de la presencia de la competencia en el mercado para establecer puntos de comparación."
      ]
    },
    {
      "cell_type": "markdown",
      "metadata": {},
      "source": [
        "# Objetivo"
      ]
    },
    {
      "cell_type": "markdown",
      "metadata": {},
      "source": [
        "Con este desarrollo se aspira a extraer referencias allí expuesta para constituir una radiografía del mercado. La intensión es simplificar la información en un cuadrante de posicionamiento que permita una rápida comparativa de las empresas que operan en un mismo área (delimitada por rubro y geografía).\n",
        "\n",
        "La principales técnicas a utilizar son: Web Scraping para recopilar información de forma automática expuesta en Internet, y Text Mining para preprocesar los datos no estructurados obtenidos del portal citado."
      ]
    },
    {
      "cell_type": "markdown",
      "metadata": {},
      "source": [
        "# Alcance"
      ]
    },
    {
      "cell_type": "markdown",
      "metadata": {},
      "source": [
        "El entregable que resulta de este trabajo supone:\n",
        "\n",
        "- Una pieza de código automatizable que extraiga el texto tal como se expone en el sitio web.\n",
        "- Preprocesamiento de los registros utilizando técnicas de Text Mining para obtener un set de datos estructurados.\n",
        "- Reconocer las entidades relevantes de cada lectura para disponer el resultado en forma adecuada para la construcción el resumen pretendido. "
      ]
    },
    {
      "cell_type": "markdown",
      "metadata": {},
      "source": [
        "# Consideraciones (a completar)"
      ]
    },
    {
      "cell_type": "markdown",
      "metadata": {},
      "source": [
        "describir los aspectos a tener en cuenta cuando se hace scraping: CAPTCHA, contenido dinámico, etc."
      ]
    },
    {
      "cell_type": "markdown",
      "metadata": {},
      "source": [
        "# Resto de tareas (a completar) "
      ]
    },
    {
      "cell_type": "markdown",
      "metadata": {},
      "source": [
        "Cron en hosting\n",
        "Monitoreo: agente externo para ver si anda -> si anda, me autochequeo\n",
        "Resolver la caida de internet -> por ejemplo, reintentando\n",
        "Resolver errores html (40, 50)\n",
        "Chequear que la estructura cambio o no\n",
        "Describir cómo construir el dashboard sin construir nada\n",
        "..."
      ]
    },
    {
      "cell_type": "markdown",
      "metadata": {},
      "source": [
        "# Futuras lineas de trabajo (a completar)"
      ]
    },
    {
      "cell_type": "markdown",
      "metadata": {},
      "source": [
        "Extender el origen de información a otros sitios que brinde un servicio de idénticas características."
      ]
    },
    {
      "cell_type": "markdown",
      "metadata": {},
      "source": [
        "# Desarrollo"
      ]
    },
    {
      "cell_type": "code",
      "execution_count": 1,
      "metadata": {},
      "outputs": [],
      "source": [
        "import warnings\n",
        "warnings.filterwarnings(\"ignore\")"
      ]
    },
    {
      "cell_type": "code",
      "execution_count": 2,
      "metadata": {
        "id": "TUqigR1uIoUs"
      },
      "outputs": [],
      "source": [
        "import requests\n",
        "import pandas as pd\n",
        "import seaborn as sns\n",
        "\n",
        "from re import sub\n",
        "from bs4 import BeautifulSoup\n",
        "from matplotlib import pyplot as plt\n",
        "from tqdm.notebook import tqdm\n",
        "\n",
        "from typing import Iterable, Union\n",
        "\n",
        "pd.set_option('display.max_columns', None)\n",
        "pd.set_option('display.max_rows', None)"
      ]
    },
    {
      "cell_type": "markdown",
      "metadata": {
        "id": "oozwfHRoVXtZ"
      },
      "source": [
        "## Categorías"
      ]
    },
    {
      "cell_type": "code",
      "execution_count": 3,
      "metadata": {
        "id": "R4J4ss1ML0pR"
      },
      "outputs": [],
      "source": [
        "categories = ['app-developers', 'web-developers', 'developers']"
      ]
    },
    {
      "cell_type": "markdown",
      "metadata": {
        "id": "yxw6wCgEVcEm"
      },
      "source": [
        "## Utilidades"
      ]
    },
    {
      "cell_type": "code",
      "execution_count": 4,
      "metadata": {
        "id": "74CujpkFV_TN"
      },
      "outputs": [],
      "source": [
        "def get_search_page(category: str, page_number: int) -> BeautifulSoup:\n",
        "  clutch_argentina = requests.get(f'https://clutch.co/ar/{category}?page={page_number}')\n",
        "  return BeautifulSoup(clutch_argentina.text)\n",
        "\n",
        "def get_company_profile(profile_link: str) -> BeautifulSoup:\n",
        "  profile = requests.get(f'https://clutch.co/{profile_link}')\n",
        "  return BeautifulSoup(profile.text)\n",
        "\n",
        "def is_last_page(beautiful_soup_page: BeautifulSoup) -> bool:\n",
        "  return not beautiful_soup_page.select('li.page-item.last > a')\n",
        "\n",
        "def get_element_text_if_exists(elements: Iterable) -> Union[str, None]:\n",
        "  if elements is not None and len(elements) > 0:\n",
        "    return elements[0].text.strip()\n",
        "\n",
        "def snake_case(value: str) -> str:\n",
        "  return '_'.join(sub('[^0-9a-zA-Z\\s\\_]+', '', value).split()).lower()"
      ]
    },
    {
      "cell_type": "code",
      "execution_count": 5,
      "metadata": {
        "id": "R3seBM6VZm4n"
      },
      "outputs": [],
      "source": [
        "def create_row(provider_li: BeautifulSoup) -> dict:\n",
        "    row = {}\n",
        "    \n",
        "    company_info = provider_li.select('h3.company_info a')\n",
        "    row['company_name'] = get_element_text_if_exists(company_info)\n",
        "    row['rating'] = get_element_text_if_exists(provider_li.select('.rating'))\n",
        "    row['reviews'] = get_element_text_if_exists(provider_li.select('.reviews-link'))\n",
        "\n",
        "    #Min. project size, Avg. hourly rate, Employees, Location\n",
        "    items = provider_li.select('.module-list > div')\n",
        "    for item in items:\n",
        "      key_name = BeautifulSoup(item.attrs['data-content']).text\n",
        "      row[key_name] = get_element_text_if_exists(item.select('span'))\n",
        "\n",
        "    #Service Focus\n",
        "    percentages = provider_li.select('.chartAreaContainer > div')\n",
        "    for percentage in percentages:\n",
        "      content = BeautifulSoup(percentage.attrs['data-content'])\n",
        "      row[f'service_focus_{content.b.text}'] = content.i.text\n",
        "\n",
        "    #Client focus\n",
        "    profile_link = provider_li.select('li.website-profile > a')[0].attrs['href']\n",
        "    profile = get_company_profile(profile_link)\n",
        "    client_focus = profile.find(\"div\", string='Client focus')\n",
        "\n",
        "    if client_focus:\n",
        "      for client in client_focus.find_next_sibling().select('div.grid.custom_popover'):\n",
        "        key_name = BeautifulSoup(client.attrs['data-content']).b.text\n",
        "        row[f'client_focus_{key_name}'] = client.text\n",
        "      \n",
        "    return row"
      ]
    },
    {
      "cell_type": "markdown",
      "metadata": {
        "id": "UbPtJJfaVgZL"
      },
      "source": [
        "## Scraping"
      ]
    },
    {
      "cell_type": "code",
      "execution_count": 6,
      "metadata": {
        "id": "MOiPocpnT2Ml"
      },
      "outputs": [],
      "source": [
        "def get_companies(category: str) -> pd.DataFrame:\n",
        "  page_number = 0\n",
        "  rows = []\n",
        "\n",
        "  with tqdm() as pbar:\n",
        "    pbar.set_description(f\"Categoria: {category}\")\n",
        "\n",
        "    while True:\n",
        "      pbar.update(1)\n",
        "\n",
        "      page = get_search_page(category, page_number)\n",
        "      company_list = page.select('ul.directory-list li.provider-row')\n",
        "      rows += [create_row(company) for company in company_list]\n",
        "      page_number += 1\n",
        "\n",
        "      if is_last_page(page):\n",
        "        break\n",
        "    \n",
        "  return pd.DataFrame(rows)"
      ]
    },
    {
      "cell_type": "code",
      "execution_count": 8,
      "metadata": {
        "id": "tIQ-azq_bbWQ"
      },
      "outputs": [
        {
          "data": {
            "application/vnd.jupyter.widget-view+json": {
              "model_id": "24eca3a25db642b0ac2826e01149cd60",
              "version_major": 2,
              "version_minor": 0
            },
            "text/plain": [
              "0it [00:00, ?it/s]"
            ]
          },
          "metadata": {},
          "output_type": "display_data"
        },
        {
          "data": {
            "application/vnd.jupyter.widget-view+json": {
              "model_id": "9ecdd8f34bc846fd8b8858f7ce65f25e",
              "version_major": 2,
              "version_minor": 0
            },
            "text/plain": [
              "0it [00:00, ?it/s]"
            ]
          },
          "metadata": {},
          "output_type": "display_data"
        },
        {
          "data": {
            "application/vnd.jupyter.widget-view+json": {
              "model_id": "c89dfdd0e88640279abc7027206e935a",
              "version_major": 2,
              "version_minor": 0
            },
            "text/plain": [
              "0it [00:00, ?it/s]"
            ]
          },
          "metadata": {},
          "output_type": "display_data"
        }
      ],
      "source": [
        "companies = []\n",
        "for category in categories:\n",
        "    companies.append(get_companies(category))\n",
        "\n",
        "companies = pd.concat(companies)"
      ]
    },
    {
      "cell_type": "code",
      "execution_count": 10,
      "metadata": {},
      "outputs": [
        {
          "data": {
            "text/html": [
              "<div>\n",
              "<style scoped>\n",
              "    .dataframe tbody tr th:only-of-type {\n",
              "        vertical-align: middle;\n",
              "    }\n",
              "\n",
              "    .dataframe tbody tr th {\n",
              "        vertical-align: top;\n",
              "    }\n",
              "\n",
              "    .dataframe thead th {\n",
              "        text-align: right;\n",
              "    }\n",
              "</style>\n",
              "<table border=\"1\" class=\"dataframe\">\n",
              "  <thead>\n",
              "    <tr style=\"text-align: right;\">\n",
              "      <th></th>\n",
              "      <th>company_name</th>\n",
              "      <th>rating</th>\n",
              "      <th>reviews</th>\n",
              "      <th>min_project_size</th>\n",
              "      <th>avg_hourly_rate</th>\n",
              "      <th>employees</th>\n",
              "      <th>location</th>\n",
              "      <th>service_focus_mobile_app_development</th>\n",
              "      <th>service_focus_custom_software_development</th>\n",
              "      <th>service_focus_web_development</th>\n",
              "      <th>client_focus_midmarket_10m_1b</th>\n",
              "      <th>client_focus_enterprise_1b</th>\n",
              "      <th>client_focus_small_business_10m</th>\n",
              "      <th>service_focus_artificial_intelligence</th>\n",
              "      <th>service_focus_application_testing</th>\n",
              "      <th>service_focus_architectural_design</th>\n",
              "      <th>service_focus_uxui_design</th>\n",
              "      <th>service_focus_it_staff_augmentation</th>\n",
              "      <th>service_focus_it_strategy_consulting</th>\n",
              "      <th>service_focus_bi_big_data_consulting_si</th>\n",
              "      <th>service_focus_blockchain</th>\n",
              "      <th>service_focus_cloud_consulting_si</th>\n",
              "      <th>service_focus_erp_consulting_and_si</th>\n",
              "      <th>service_focus_ecommerce_development</th>\n",
              "      <th>service_focus_enterprise_app_modernization</th>\n",
              "      <th>service_focus_arvr_development</th>\n",
              "      <th>service_focus_crm_consulting_and_si</th>\n",
              "      <th>service_focus_social_media_marketing</th>\n",
              "      <th>service_focus_content_marketing</th>\n",
              "      <th>service_focus_digital_strategy</th>\n",
              "      <th>service_focus_web_design</th>\n",
              "      <th>service_focus_it_managed_services</th>\n",
              "      <th>service_focus_other</th>\n",
              "      <th>service_focus_other_it_consulting_and_si</th>\n",
              "      <th>service_focus_application_management_support</th>\n",
              "      <th>service_focus_iot_development</th>\n",
              "      <th>service_focus_product_design</th>\n",
              "      <th>service_focus_other_application_development</th>\n",
              "      <th>service_focus_search_engine_optimization</th>\n",
              "      <th>service_focus_graphic_design</th>\n",
              "      <th>service_focus_hr_services</th>\n",
              "      <th>service_focus_wearable_app_development</th>\n",
              "      <th>service_focus_email_marketing</th>\n",
              "      <th>service_focus_branding</th>\n",
              "      <th>service_focus_advertising</th>\n",
              "      <th>service_focus_logo</th>\n",
              "      <th>service_focus_video_production</th>\n",
              "      <th>service_focus_market_research</th>\n",
              "      <th>service_focus_pay_per_click</th>\n",
              "      <th>service_focus_cybersecurity</th>\n",
              "      <th>service_focus_accounting</th>\n",
              "      <th>service_focus_business_consulting</th>\n",
              "      <th>service_focus_translation</th>\n",
              "      <th>service_focus_other_design</th>\n",
              "      <th>service_focus_other_digital_marketing</th>\n",
              "      <th>service_focus_mobile_app_marketing</th>\n",
              "      <th>service_focus_sales_outsourcing</th>\n",
              "      <th>service_focus_media_planning_buying</th>\n",
              "      <th>service_focus_back_office_outsourcing</th>\n",
              "      <th>service_focus_conversion_optimization</th>\n",
              "      <th>service_focus_corporate_training</th>\n",
              "      <th>service_focus_marketing_strategy</th>\n",
              "      <th>service_focus_public_relations</th>\n",
              "      <th>service_focus_corporate_photography</th>\n",
              "      <th>service_focus_packaging_design</th>\n",
              "      <th>service_focus_print_design</th>\n",
              "      <th>service_focus_call_center_services</th>\n",
              "      <th>service_focus_customer_service_outsourcing</th>\n",
              "      <th>service_focus_ocean_freight</th>\n",
              "      <th>service_focus_logistics_supply_chain_consulting</th>\n",
              "      <th>service_focus_trucking</th>\n",
              "      <th>service_focus_air_freight</th>\n",
              "      <th>service_focus_freight_forwarding</th>\n",
              "      <th>service_focus_customs_brokerage</th>\n",
              "      <th>service_focus_commercial_financing_funding_investment</th>\n",
              "      <th>service_focus_unified_communications_consulting_si</th>\n",
              "    </tr>\n",
              "  </thead>\n",
              "  <tbody>\n",
              "    <tr>\n",
              "      <th>0</th>\n",
              "      <td>404 // Software crafters</td>\n",
              "      <td>4.7</td>\n",
              "      <td>5 reviews</td>\n",
              "      <td>$10,000+</td>\n",
              "      <td>$25 - $49 / hr</td>\n",
              "      <td>10 - 49</td>\n",
              "      <td>Buenos Aires, Argentina</td>\n",
              "      <td>40%</td>\n",
              "      <td>30%</td>\n",
              "      <td>30%</td>\n",
              "      <td>80%</td>\n",
              "      <td>10%</td>\n",
              "      <td>10%</td>\n",
              "      <td>NaN</td>\n",
              "      <td>NaN</td>\n",
              "      <td>NaN</td>\n",
              "      <td>NaN</td>\n",
              "      <td>NaN</td>\n",
              "      <td>NaN</td>\n",
              "      <td>NaN</td>\n",
              "      <td>NaN</td>\n",
              "      <td>NaN</td>\n",
              "      <td>NaN</td>\n",
              "      <td>NaN</td>\n",
              "      <td>NaN</td>\n",
              "      <td>NaN</td>\n",
              "      <td>NaN</td>\n",
              "      <td>NaN</td>\n",
              "      <td>NaN</td>\n",
              "      <td>NaN</td>\n",
              "      <td>NaN</td>\n",
              "      <td>NaN</td>\n",
              "      <td>NaN</td>\n",
              "      <td>NaN</td>\n",
              "      <td>NaN</td>\n",
              "      <td>NaN</td>\n",
              "      <td>NaN</td>\n",
              "      <td>NaN</td>\n",
              "      <td>NaN</td>\n",
              "      <td>NaN</td>\n",
              "      <td>NaN</td>\n",
              "      <td>NaN</td>\n",
              "      <td>NaN</td>\n",
              "      <td>NaN</td>\n",
              "      <td>NaN</td>\n",
              "      <td>NaN</td>\n",
              "      <td>NaN</td>\n",
              "      <td>NaN</td>\n",
              "      <td>NaN</td>\n",
              "      <td>NaN</td>\n",
              "      <td>NaN</td>\n",
              "      <td>NaN</td>\n",
              "      <td>NaN</td>\n",
              "      <td>NaN</td>\n",
              "      <td>NaN</td>\n",
              "      <td>NaN</td>\n",
              "      <td>NaN</td>\n",
              "      <td>NaN</td>\n",
              "      <td>NaN</td>\n",
              "      <td>NaN</td>\n",
              "      <td>NaN</td>\n",
              "      <td>NaN</td>\n",
              "      <td>NaN</td>\n",
              "      <td>NaN</td>\n",
              "      <td>NaN</td>\n",
              "      <td>NaN</td>\n",
              "      <td>NaN</td>\n",
              "      <td>NaN</td>\n",
              "      <td>NaN</td>\n",
              "      <td>NaN</td>\n",
              "      <td>NaN</td>\n",
              "      <td>NaN</td>\n",
              "      <td>NaN</td>\n",
              "      <td>NaN</td>\n",
              "      <td>NaN</td>\n",
              "      <td>NaN</td>\n",
              "    </tr>\n",
              "    <tr>\n",
              "      <th>1</th>\n",
              "      <td>Rootstrap</td>\n",
              "      <td>4.8</td>\n",
              "      <td>34 reviews</td>\n",
              "      <td>$50,000+</td>\n",
              "      <td>$100 - $149 / hr</td>\n",
              "      <td>50 - 249</td>\n",
              "      <td>Buenos Aires, Argentina</td>\n",
              "      <td>25%</td>\n",
              "      <td>10%</td>\n",
              "      <td>40%</td>\n",
              "      <td>40%</td>\n",
              "      <td>25%</td>\n",
              "      <td>35%</td>\n",
              "      <td>25%</td>\n",
              "      <td>NaN</td>\n",
              "      <td>NaN</td>\n",
              "      <td>NaN</td>\n",
              "      <td>NaN</td>\n",
              "      <td>NaN</td>\n",
              "      <td>NaN</td>\n",
              "      <td>NaN</td>\n",
              "      <td>NaN</td>\n",
              "      <td>NaN</td>\n",
              "      <td>NaN</td>\n",
              "      <td>NaN</td>\n",
              "      <td>NaN</td>\n",
              "      <td>NaN</td>\n",
              "      <td>NaN</td>\n",
              "      <td>NaN</td>\n",
              "      <td>NaN</td>\n",
              "      <td>NaN</td>\n",
              "      <td>NaN</td>\n",
              "      <td>NaN</td>\n",
              "      <td>NaN</td>\n",
              "      <td>NaN</td>\n",
              "      <td>NaN</td>\n",
              "      <td>NaN</td>\n",
              "      <td>NaN</td>\n",
              "      <td>NaN</td>\n",
              "      <td>NaN</td>\n",
              "      <td>NaN</td>\n",
              "      <td>NaN</td>\n",
              "      <td>NaN</td>\n",
              "      <td>NaN</td>\n",
              "      <td>NaN</td>\n",
              "      <td>NaN</td>\n",
              "      <td>NaN</td>\n",
              "      <td>NaN</td>\n",
              "      <td>NaN</td>\n",
              "      <td>NaN</td>\n",
              "      <td>NaN</td>\n",
              "      <td>NaN</td>\n",
              "      <td>NaN</td>\n",
              "      <td>NaN</td>\n",
              "      <td>NaN</td>\n",
              "      <td>NaN</td>\n",
              "      <td>NaN</td>\n",
              "      <td>NaN</td>\n",
              "      <td>NaN</td>\n",
              "      <td>NaN</td>\n",
              "      <td>NaN</td>\n",
              "      <td>NaN</td>\n",
              "      <td>NaN</td>\n",
              "      <td>NaN</td>\n",
              "      <td>NaN</td>\n",
              "      <td>NaN</td>\n",
              "      <td>NaN</td>\n",
              "      <td>NaN</td>\n",
              "      <td>NaN</td>\n",
              "      <td>NaN</td>\n",
              "      <td>NaN</td>\n",
              "      <td>NaN</td>\n",
              "      <td>NaN</td>\n",
              "      <td>NaN</td>\n",
              "      <td>NaN</td>\n",
              "      <td>NaN</td>\n",
              "    </tr>\n",
              "    <tr>\n",
              "      <th>2</th>\n",
              "      <td>Flux IT</td>\n",
              "      <td>4.9</td>\n",
              "      <td>11 reviews</td>\n",
              "      <td>$10,000+</td>\n",
              "      <td>Undisclosed</td>\n",
              "      <td>50 - 249</td>\n",
              "      <td>Gonnet, Argentina</td>\n",
              "      <td>30%</td>\n",
              "      <td>40%</td>\n",
              "      <td>30%</td>\n",
              "      <td>50%</td>\n",
              "      <td>25%</td>\n",
              "      <td>25%</td>\n",
              "      <td>NaN</td>\n",
              "      <td>NaN</td>\n",
              "      <td>NaN</td>\n",
              "      <td>NaN</td>\n",
              "      <td>NaN</td>\n",
              "      <td>NaN</td>\n",
              "      <td>NaN</td>\n",
              "      <td>NaN</td>\n",
              "      <td>NaN</td>\n",
              "      <td>NaN</td>\n",
              "      <td>NaN</td>\n",
              "      <td>NaN</td>\n",
              "      <td>NaN</td>\n",
              "      <td>NaN</td>\n",
              "      <td>NaN</td>\n",
              "      <td>NaN</td>\n",
              "      <td>NaN</td>\n",
              "      <td>NaN</td>\n",
              "      <td>NaN</td>\n",
              "      <td>NaN</td>\n",
              "      <td>NaN</td>\n",
              "      <td>NaN</td>\n",
              "      <td>NaN</td>\n",
              "      <td>NaN</td>\n",
              "      <td>NaN</td>\n",
              "      <td>NaN</td>\n",
              "      <td>NaN</td>\n",
              "      <td>NaN</td>\n",
              "      <td>NaN</td>\n",
              "      <td>NaN</td>\n",
              "      <td>NaN</td>\n",
              "      <td>NaN</td>\n",
              "      <td>NaN</td>\n",
              "      <td>NaN</td>\n",
              "      <td>NaN</td>\n",
              "      <td>NaN</td>\n",
              "      <td>NaN</td>\n",
              "      <td>NaN</td>\n",
              "      <td>NaN</td>\n",
              "      <td>NaN</td>\n",
              "      <td>NaN</td>\n",
              "      <td>NaN</td>\n",
              "      <td>NaN</td>\n",
              "      <td>NaN</td>\n",
              "      <td>NaN</td>\n",
              "      <td>NaN</td>\n",
              "      <td>NaN</td>\n",
              "      <td>NaN</td>\n",
              "      <td>NaN</td>\n",
              "      <td>NaN</td>\n",
              "      <td>NaN</td>\n",
              "      <td>NaN</td>\n",
              "      <td>NaN</td>\n",
              "      <td>NaN</td>\n",
              "      <td>NaN</td>\n",
              "      <td>NaN</td>\n",
              "      <td>NaN</td>\n",
              "      <td>NaN</td>\n",
              "      <td>NaN</td>\n",
              "      <td>NaN</td>\n",
              "      <td>NaN</td>\n",
              "      <td>NaN</td>\n",
              "      <td>NaN</td>\n",
              "    </tr>\n",
              "    <tr>\n",
              "      <th>3</th>\n",
              "      <td>The App Master</td>\n",
              "      <td>5.0</td>\n",
              "      <td>7 reviews</td>\n",
              "      <td>$10,000+</td>\n",
              "      <td>$25 - $49 / hr</td>\n",
              "      <td>10 - 49</td>\n",
              "      <td>Buenos Aires, Argentina</td>\n",
              "      <td>40%</td>\n",
              "      <td>30%</td>\n",
              "      <td>NaN</td>\n",
              "      <td>50%</td>\n",
              "      <td>20%</td>\n",
              "      <td>30%</td>\n",
              "      <td>NaN</td>\n",
              "      <td>10%</td>\n",
              "      <td>10%</td>\n",
              "      <td>10%</td>\n",
              "      <td>NaN</td>\n",
              "      <td>NaN</td>\n",
              "      <td>NaN</td>\n",
              "      <td>NaN</td>\n",
              "      <td>NaN</td>\n",
              "      <td>NaN</td>\n",
              "      <td>NaN</td>\n",
              "      <td>NaN</td>\n",
              "      <td>NaN</td>\n",
              "      <td>NaN</td>\n",
              "      <td>NaN</td>\n",
              "      <td>NaN</td>\n",
              "      <td>NaN</td>\n",
              "      <td>NaN</td>\n",
              "      <td>NaN</td>\n",
              "      <td>NaN</td>\n",
              "      <td>NaN</td>\n",
              "      <td>NaN</td>\n",
              "      <td>NaN</td>\n",
              "      <td>NaN</td>\n",
              "      <td>NaN</td>\n",
              "      <td>NaN</td>\n",
              "      <td>NaN</td>\n",
              "      <td>NaN</td>\n",
              "      <td>NaN</td>\n",
              "      <td>NaN</td>\n",
              "      <td>NaN</td>\n",
              "      <td>NaN</td>\n",
              "      <td>NaN</td>\n",
              "      <td>NaN</td>\n",
              "      <td>NaN</td>\n",
              "      <td>NaN</td>\n",
              "      <td>NaN</td>\n",
              "      <td>NaN</td>\n",
              "      <td>NaN</td>\n",
              "      <td>NaN</td>\n",
              "      <td>NaN</td>\n",
              "      <td>NaN</td>\n",
              "      <td>NaN</td>\n",
              "      <td>NaN</td>\n",
              "      <td>NaN</td>\n",
              "      <td>NaN</td>\n",
              "      <td>NaN</td>\n",
              "      <td>NaN</td>\n",
              "      <td>NaN</td>\n",
              "      <td>NaN</td>\n",
              "      <td>NaN</td>\n",
              "      <td>NaN</td>\n",
              "      <td>NaN</td>\n",
              "      <td>NaN</td>\n",
              "      <td>NaN</td>\n",
              "      <td>NaN</td>\n",
              "      <td>NaN</td>\n",
              "      <td>NaN</td>\n",
              "      <td>NaN</td>\n",
              "      <td>NaN</td>\n",
              "      <td>NaN</td>\n",
              "      <td>NaN</td>\n",
              "      <td>NaN</td>\n",
              "    </tr>\n",
              "    <tr>\n",
              "      <th>4</th>\n",
              "      <td>Clarika</td>\n",
              "      <td>4.8</td>\n",
              "      <td>14 reviews</td>\n",
              "      <td>$10,000+</td>\n",
              "      <td>$25 - $49 / hr</td>\n",
              "      <td>50 - 249</td>\n",
              "      <td>Córdoba, Argentina</td>\n",
              "      <td>20%</td>\n",
              "      <td>30%</td>\n",
              "      <td>10%</td>\n",
              "      <td>70%</td>\n",
              "      <td>NaN</td>\n",
              "      <td>30%</td>\n",
              "      <td>NaN</td>\n",
              "      <td>NaN</td>\n",
              "      <td>NaN</td>\n",
              "      <td>NaN</td>\n",
              "      <td>30%</td>\n",
              "      <td>10%</td>\n",
              "      <td>NaN</td>\n",
              "      <td>NaN</td>\n",
              "      <td>NaN</td>\n",
              "      <td>NaN</td>\n",
              "      <td>NaN</td>\n",
              "      <td>NaN</td>\n",
              "      <td>NaN</td>\n",
              "      <td>NaN</td>\n",
              "      <td>NaN</td>\n",
              "      <td>NaN</td>\n",
              "      <td>NaN</td>\n",
              "      <td>NaN</td>\n",
              "      <td>NaN</td>\n",
              "      <td>NaN</td>\n",
              "      <td>NaN</td>\n",
              "      <td>NaN</td>\n",
              "      <td>NaN</td>\n",
              "      <td>NaN</td>\n",
              "      <td>NaN</td>\n",
              "      <td>NaN</td>\n",
              "      <td>NaN</td>\n",
              "      <td>NaN</td>\n",
              "      <td>NaN</td>\n",
              "      <td>NaN</td>\n",
              "      <td>NaN</td>\n",
              "      <td>NaN</td>\n",
              "      <td>NaN</td>\n",
              "      <td>NaN</td>\n",
              "      <td>NaN</td>\n",
              "      <td>NaN</td>\n",
              "      <td>NaN</td>\n",
              "      <td>NaN</td>\n",
              "      <td>NaN</td>\n",
              "      <td>NaN</td>\n",
              "      <td>NaN</td>\n",
              "      <td>NaN</td>\n",
              "      <td>NaN</td>\n",
              "      <td>NaN</td>\n",
              "      <td>NaN</td>\n",
              "      <td>NaN</td>\n",
              "      <td>NaN</td>\n",
              "      <td>NaN</td>\n",
              "      <td>NaN</td>\n",
              "      <td>NaN</td>\n",
              "      <td>NaN</td>\n",
              "      <td>NaN</td>\n",
              "      <td>NaN</td>\n",
              "      <td>NaN</td>\n",
              "      <td>NaN</td>\n",
              "      <td>NaN</td>\n",
              "      <td>NaN</td>\n",
              "      <td>NaN</td>\n",
              "      <td>NaN</td>\n",
              "      <td>NaN</td>\n",
              "      <td>NaN</td>\n",
              "      <td>NaN</td>\n",
              "      <td>NaN</td>\n",
              "    </tr>\n",
              "  </tbody>\n",
              "</table>\n",
              "</div>"
            ],
            "text/plain": [
              "               company_name rating     reviews min_project_size  \\\n",
              "0  404 // Software crafters    4.7   5 reviews         $10,000+   \n",
              "1                 Rootstrap    4.8  34 reviews         $50,000+   \n",
              "2                   Flux IT    4.9  11 reviews         $10,000+   \n",
              "3            The App Master    5.0   7 reviews         $10,000+   \n",
              "4                   Clarika    4.8  14 reviews         $10,000+   \n",
              "\n",
              "    avg_hourly_rate employees                 location  \\\n",
              "0    $25 - $49 / hr   10 - 49  Buenos Aires, Argentina   \n",
              "1  $100 - $149 / hr  50 - 249  Buenos Aires, Argentina   \n",
              "2       Undisclosed  50 - 249        Gonnet, Argentina   \n",
              "3    $25 - $49 / hr   10 - 49  Buenos Aires, Argentina   \n",
              "4    $25 - $49 / hr  50 - 249       Córdoba, Argentina   \n",
              "\n",
              "  service_focus_mobile_app_development  \\\n",
              "0                                  40%   \n",
              "1                                  25%   \n",
              "2                                  30%   \n",
              "3                                  40%   \n",
              "4                                  20%   \n",
              "\n",
              "  service_focus_custom_software_development service_focus_web_development  \\\n",
              "0                                       30%                           30%   \n",
              "1                                       10%                           40%   \n",
              "2                                       40%                           30%   \n",
              "3                                       30%                           NaN   \n",
              "4                                       30%                           10%   \n",
              "\n",
              "  client_focus_midmarket_10m_1b client_focus_enterprise_1b  \\\n",
              "0                           80%                        10%   \n",
              "1                           40%                        25%   \n",
              "2                           50%                        25%   \n",
              "3                           50%                        20%   \n",
              "4                           70%                        NaN   \n",
              "\n",
              "  client_focus_small_business_10m service_focus_artificial_intelligence  \\\n",
              "0                             10%                                   NaN   \n",
              "1                             35%                                   25%   \n",
              "2                             25%                                   NaN   \n",
              "3                             30%                                   NaN   \n",
              "4                             30%                                   NaN   \n",
              "\n",
              "  service_focus_application_testing service_focus_architectural_design  \\\n",
              "0                               NaN                                NaN   \n",
              "1                               NaN                                NaN   \n",
              "2                               NaN                                NaN   \n",
              "3                               10%                                10%   \n",
              "4                               NaN                                NaN   \n",
              "\n",
              "  service_focus_uxui_design service_focus_it_staff_augmentation  \\\n",
              "0                       NaN                                 NaN   \n",
              "1                       NaN                                 NaN   \n",
              "2                       NaN                                 NaN   \n",
              "3                       10%                                 NaN   \n",
              "4                       NaN                                 30%   \n",
              "\n",
              "  service_focus_it_strategy_consulting  \\\n",
              "0                                  NaN   \n",
              "1                                  NaN   \n",
              "2                                  NaN   \n",
              "3                                  NaN   \n",
              "4                                  10%   \n",
              "\n",
              "  service_focus_bi_big_data_consulting_si service_focus_blockchain  \\\n",
              "0                                     NaN                      NaN   \n",
              "1                                     NaN                      NaN   \n",
              "2                                     NaN                      NaN   \n",
              "3                                     NaN                      NaN   \n",
              "4                                     NaN                      NaN   \n",
              "\n",
              "  service_focus_cloud_consulting_si service_focus_erp_consulting_and_si  \\\n",
              "0                               NaN                                 NaN   \n",
              "1                               NaN                                 NaN   \n",
              "2                               NaN                                 NaN   \n",
              "3                               NaN                                 NaN   \n",
              "4                               NaN                                 NaN   \n",
              "\n",
              "  service_focus_ecommerce_development  \\\n",
              "0                                 NaN   \n",
              "1                                 NaN   \n",
              "2                                 NaN   \n",
              "3                                 NaN   \n",
              "4                                 NaN   \n",
              "\n",
              "  service_focus_enterprise_app_modernization service_focus_arvr_development  \\\n",
              "0                                        NaN                            NaN   \n",
              "1                                        NaN                            NaN   \n",
              "2                                        NaN                            NaN   \n",
              "3                                        NaN                            NaN   \n",
              "4                                        NaN                            NaN   \n",
              "\n",
              "  service_focus_crm_consulting_and_si service_focus_social_media_marketing  \\\n",
              "0                                 NaN                                  NaN   \n",
              "1                                 NaN                                  NaN   \n",
              "2                                 NaN                                  NaN   \n",
              "3                                 NaN                                  NaN   \n",
              "4                                 NaN                                  NaN   \n",
              "\n",
              "  service_focus_content_marketing service_focus_digital_strategy  \\\n",
              "0                             NaN                            NaN   \n",
              "1                             NaN                            NaN   \n",
              "2                             NaN                            NaN   \n",
              "3                             NaN                            NaN   \n",
              "4                             NaN                            NaN   \n",
              "\n",
              "  service_focus_web_design service_focus_it_managed_services  \\\n",
              "0                      NaN                               NaN   \n",
              "1                      NaN                               NaN   \n",
              "2                      NaN                               NaN   \n",
              "3                      NaN                               NaN   \n",
              "4                      NaN                               NaN   \n",
              "\n",
              "  service_focus_other service_focus_other_it_consulting_and_si  \\\n",
              "0                 NaN                                      NaN   \n",
              "1                 NaN                                      NaN   \n",
              "2                 NaN                                      NaN   \n",
              "3                 NaN                                      NaN   \n",
              "4                 NaN                                      NaN   \n",
              "\n",
              "  service_focus_application_management_support service_focus_iot_development  \\\n",
              "0                                          NaN                           NaN   \n",
              "1                                          NaN                           NaN   \n",
              "2                                          NaN                           NaN   \n",
              "3                                          NaN                           NaN   \n",
              "4                                          NaN                           NaN   \n",
              "\n",
              "  service_focus_product_design service_focus_other_application_development  \\\n",
              "0                          NaN                                         NaN   \n",
              "1                          NaN                                         NaN   \n",
              "2                          NaN                                         NaN   \n",
              "3                          NaN                                         NaN   \n",
              "4                          NaN                                         NaN   \n",
              "\n",
              "  service_focus_search_engine_optimization service_focus_graphic_design  \\\n",
              "0                                      NaN                          NaN   \n",
              "1                                      NaN                          NaN   \n",
              "2                                      NaN                          NaN   \n",
              "3                                      NaN                          NaN   \n",
              "4                                      NaN                          NaN   \n",
              "\n",
              "  service_focus_hr_services service_focus_wearable_app_development  \\\n",
              "0                       NaN                                    NaN   \n",
              "1                       NaN                                    NaN   \n",
              "2                       NaN                                    NaN   \n",
              "3                       NaN                                    NaN   \n",
              "4                       NaN                                    NaN   \n",
              "\n",
              "  service_focus_email_marketing service_focus_branding  \\\n",
              "0                           NaN                    NaN   \n",
              "1                           NaN                    NaN   \n",
              "2                           NaN                    NaN   \n",
              "3                           NaN                    NaN   \n",
              "4                           NaN                    NaN   \n",
              "\n",
              "  service_focus_advertising service_focus_logo service_focus_video_production  \\\n",
              "0                       NaN                NaN                            NaN   \n",
              "1                       NaN                NaN                            NaN   \n",
              "2                       NaN                NaN                            NaN   \n",
              "3                       NaN                NaN                            NaN   \n",
              "4                       NaN                NaN                            NaN   \n",
              "\n",
              "  service_focus_market_research service_focus_pay_per_click  \\\n",
              "0                           NaN                         NaN   \n",
              "1                           NaN                         NaN   \n",
              "2                           NaN                         NaN   \n",
              "3                           NaN                         NaN   \n",
              "4                           NaN                         NaN   \n",
              "\n",
              "  service_focus_cybersecurity service_focus_accounting  \\\n",
              "0                         NaN                      NaN   \n",
              "1                         NaN                      NaN   \n",
              "2                         NaN                      NaN   \n",
              "3                         NaN                      NaN   \n",
              "4                         NaN                      NaN   \n",
              "\n",
              "  service_focus_business_consulting service_focus_translation  \\\n",
              "0                               NaN                       NaN   \n",
              "1                               NaN                       NaN   \n",
              "2                               NaN                       NaN   \n",
              "3                               NaN                       NaN   \n",
              "4                               NaN                       NaN   \n",
              "\n",
              "  service_focus_other_design service_focus_other_digital_marketing  \\\n",
              "0                        NaN                                   NaN   \n",
              "1                        NaN                                   NaN   \n",
              "2                        NaN                                   NaN   \n",
              "3                        NaN                                   NaN   \n",
              "4                        NaN                                   NaN   \n",
              "\n",
              "  service_focus_mobile_app_marketing service_focus_sales_outsourcing  \\\n",
              "0                                NaN                             NaN   \n",
              "1                                NaN                             NaN   \n",
              "2                                NaN                             NaN   \n",
              "3                                NaN                             NaN   \n",
              "4                                NaN                             NaN   \n",
              "\n",
              "  service_focus_media_planning_buying service_focus_back_office_outsourcing  \\\n",
              "0                                 NaN                                   NaN   \n",
              "1                                 NaN                                   NaN   \n",
              "2                                 NaN                                   NaN   \n",
              "3                                 NaN                                   NaN   \n",
              "4                                 NaN                                   NaN   \n",
              "\n",
              "  service_focus_conversion_optimization service_focus_corporate_training  \\\n",
              "0                                   NaN                              NaN   \n",
              "1                                   NaN                              NaN   \n",
              "2                                   NaN                              NaN   \n",
              "3                                   NaN                              NaN   \n",
              "4                                   NaN                              NaN   \n",
              "\n",
              "  service_focus_marketing_strategy service_focus_public_relations  \\\n",
              "0                              NaN                            NaN   \n",
              "1                              NaN                            NaN   \n",
              "2                              NaN                            NaN   \n",
              "3                              NaN                            NaN   \n",
              "4                              NaN                            NaN   \n",
              "\n",
              "  service_focus_corporate_photography service_focus_packaging_design  \\\n",
              "0                                 NaN                            NaN   \n",
              "1                                 NaN                            NaN   \n",
              "2                                 NaN                            NaN   \n",
              "3                                 NaN                            NaN   \n",
              "4                                 NaN                            NaN   \n",
              "\n",
              "  service_focus_print_design service_focus_call_center_services  \\\n",
              "0                        NaN                                NaN   \n",
              "1                        NaN                                NaN   \n",
              "2                        NaN                                NaN   \n",
              "3                        NaN                                NaN   \n",
              "4                        NaN                                NaN   \n",
              "\n",
              "  service_focus_customer_service_outsourcing service_focus_ocean_freight  \\\n",
              "0                                        NaN                         NaN   \n",
              "1                                        NaN                         NaN   \n",
              "2                                        NaN                         NaN   \n",
              "3                                        NaN                         NaN   \n",
              "4                                        NaN                         NaN   \n",
              "\n",
              "  service_focus_logistics_supply_chain_consulting service_focus_trucking  \\\n",
              "0                                             NaN                    NaN   \n",
              "1                                             NaN                    NaN   \n",
              "2                                             NaN                    NaN   \n",
              "3                                             NaN                    NaN   \n",
              "4                                             NaN                    NaN   \n",
              "\n",
              "  service_focus_air_freight service_focus_freight_forwarding  \\\n",
              "0                       NaN                              NaN   \n",
              "1                       NaN                              NaN   \n",
              "2                       NaN                              NaN   \n",
              "3                       NaN                              NaN   \n",
              "4                       NaN                              NaN   \n",
              "\n",
              "  service_focus_customs_brokerage  \\\n",
              "0                             NaN   \n",
              "1                             NaN   \n",
              "2                             NaN   \n",
              "3                             NaN   \n",
              "4                             NaN   \n",
              "\n",
              "  service_focus_commercial_financing_funding_investment  \\\n",
              "0                                                NaN      \n",
              "1                                                NaN      \n",
              "2                                                NaN      \n",
              "3                                                NaN      \n",
              "4                                                NaN      \n",
              "\n",
              "  service_focus_unified_communications_consulting_si  \n",
              "0                                                NaN  \n",
              "1                                                NaN  \n",
              "2                                                NaN  \n",
              "3                                                NaN  \n",
              "4                                                NaN  "
            ]
          },
          "execution_count": 10,
          "metadata": {},
          "output_type": "execute_result"
        }
      ],
      "source": [
        "companies.head()"
      ]
    },
    {
      "cell_type": "markdown",
      "metadata": {
        "id": "rb7tUEFL-Osz"
      },
      "source": [
        "Cambiamos el nombre de las columnas para que sean snake_case"
      ]
    },
    {
      "cell_type": "code",
      "execution_count": 9,
      "metadata": {
        "id": "kGLxgVw79uMe"
      },
      "outputs": [],
      "source": [
        "companies.columns = map(snake_case, companies.columns)"
      ]
    },
    {
      "cell_type": "code",
      "execution_count": null,
      "metadata": {},
      "outputs": [],
      "source": [
        "companies.columns"
      ]
    },
    {
      "cell_type": "markdown",
      "metadata": {
        "id": "BQkRZbnjoarT"
      },
      "source": [
        "## Preproceso"
      ]
    },
    {
      "cell_type": "markdown",
      "metadata": {
        "id": "nqUX1CB5odAO"
      },
      "source": [
        "Podria ocurrir que una misma empresa puede estar en varias categorias. Tenemos datos duplicados? "
      ]
    },
    {
      "cell_type": "code",
      "execution_count": 11,
      "metadata": {},
      "outputs": [
        {
          "data": {
            "text/plain": [
              "419"
            ]
          },
          "execution_count": 11,
          "metadata": {},
          "output_type": "execute_result"
        }
      ],
      "source": [
        "companies.duplicated().sum()"
      ]
    },
    {
      "cell_type": "code",
      "execution_count": 12,
      "metadata": {
        "id": "SU-XY_8roFWI"
      },
      "outputs": [],
      "source": [
        "companies = companies.drop_duplicates()"
      ]
    },
    {
      "cell_type": "markdown",
      "metadata": {
        "id": "pNDIFuOaCTru"
      },
      "source": [
        "Hay valores de columnas que no todas las empresas tendran. Tenemos valores nulos?"
      ]
    },
    {
      "cell_type": "code",
      "execution_count": 16,
      "metadata": {},
      "outputs": [
        {
          "data": {
            "text/plain": [
              "Index(['company_name', 'rating', 'reviews', 'min_project_size',\n",
              "       'avg_hourly_rate', 'employees', 'location',\n",
              "       'service_focus_mobile_app_development',\n",
              "       'service_focus_custom_software_development',\n",
              "       'service_focus_web_development', 'client_focus_midmarket_10m_1b',\n",
              "       'client_focus_enterprise_1b', 'client_focus_small_business_10m',\n",
              "       'service_focus_artificial_intelligence',\n",
              "       'service_focus_application_testing',\n",
              "       'service_focus_architectural_design', 'service_focus_uxui_design',\n",
              "       'service_focus_it_staff_augmentation',\n",
              "       'service_focus_it_strategy_consulting',\n",
              "       'service_focus_bi_big_data_consulting_si', 'service_focus_blockchain',\n",
              "       'service_focus_cloud_consulting_si',\n",
              "       'service_focus_erp_consulting_and_si',\n",
              "       'service_focus_ecommerce_development',\n",
              "       'service_focus_enterprise_app_modernization',\n",
              "       'service_focus_arvr_development', 'service_focus_crm_consulting_and_si',\n",
              "       'service_focus_social_media_marketing',\n",
              "       'service_focus_content_marketing', 'service_focus_digital_strategy',\n",
              "       'service_focus_web_design', 'service_focus_it_managed_services',\n",
              "       'service_focus_other', 'service_focus_other_it_consulting_and_si',\n",
              "       'service_focus_application_management_support',\n",
              "       'service_focus_iot_development', 'service_focus_product_design',\n",
              "       'service_focus_other_application_development',\n",
              "       'service_focus_search_engine_optimization',\n",
              "       'service_focus_graphic_design', 'service_focus_hr_services',\n",
              "       'service_focus_wearable_app_development',\n",
              "       'service_focus_email_marketing', 'service_focus_branding',\n",
              "       'service_focus_advertising', 'service_focus_logo',\n",
              "       'service_focus_video_production', 'service_focus_market_research',\n",
              "       'service_focus_pay_per_click', 'service_focus_cybersecurity',\n",
              "       'service_focus_accounting', 'service_focus_business_consulting',\n",
              "       'service_focus_translation', 'service_focus_other_design',\n",
              "       'service_focus_other_digital_marketing',\n",
              "       'service_focus_mobile_app_marketing', 'service_focus_sales_outsourcing',\n",
              "       'service_focus_media_planning_buying',\n",
              "       'service_focus_back_office_outsourcing',\n",
              "       'service_focus_conversion_optimization',\n",
              "       'service_focus_corporate_training', 'service_focus_marketing_strategy',\n",
              "       'service_focus_public_relations', 'service_focus_corporate_photography',\n",
              "       'service_focus_packaging_design', 'service_focus_print_design',\n",
              "       'service_focus_call_center_services',\n",
              "       'service_focus_customer_service_outsourcing',\n",
              "       'service_focus_ocean_freight',\n",
              "       'service_focus_logistics_supply_chain_consulting',\n",
              "       'service_focus_trucking', 'service_focus_air_freight',\n",
              "       'service_focus_freight_forwarding', 'service_focus_customs_brokerage',\n",
              "       'service_focus_commercial_financing_funding_investment',\n",
              "       'service_focus_unified_communications_consulting_si'],\n",
              "      dtype='object')"
            ]
          },
          "execution_count": 16,
          "metadata": {},
          "output_type": "execute_result"
        }
      ],
      "source": [
        "companies.columns[companies.isna().sum() == 0]"
      ]
    },
    {
      "cell_type": "code",
      "execution_count": 17,
      "metadata": {
        "id": "05-Zj55RB-UF"
      },
      "outputs": [],
      "source": [
        "companies = companies.fillna('0')"
      ]
    },
    {
      "cell_type": "code",
      "execution_count": 18,
      "metadata": {},
      "outputs": [
        {
          "data": {
            "text/html": [
              "<div>\n",
              "<style scoped>\n",
              "    .dataframe tbody tr th:only-of-type {\n",
              "        vertical-align: middle;\n",
              "    }\n",
              "\n",
              "    .dataframe tbody tr th {\n",
              "        vertical-align: top;\n",
              "    }\n",
              "\n",
              "    .dataframe thead th {\n",
              "        text-align: right;\n",
              "    }\n",
              "</style>\n",
              "<table border=\"1\" class=\"dataframe\">\n",
              "  <thead>\n",
              "    <tr style=\"text-align: right;\">\n",
              "      <th></th>\n",
              "      <th>company_name</th>\n",
              "      <th>rating</th>\n",
              "      <th>reviews</th>\n",
              "      <th>min_project_size</th>\n",
              "      <th>avg_hourly_rate</th>\n",
              "      <th>employees</th>\n",
              "      <th>location</th>\n",
              "      <th>service_focus_mobile_app_development</th>\n",
              "      <th>service_focus_custom_software_development</th>\n",
              "      <th>service_focus_web_development</th>\n",
              "      <th>client_focus_midmarket_10m_1b</th>\n",
              "      <th>client_focus_enterprise_1b</th>\n",
              "      <th>client_focus_small_business_10m</th>\n",
              "      <th>service_focus_artificial_intelligence</th>\n",
              "      <th>service_focus_application_testing</th>\n",
              "      <th>service_focus_architectural_design</th>\n",
              "      <th>service_focus_uxui_design</th>\n",
              "      <th>service_focus_it_staff_augmentation</th>\n",
              "      <th>service_focus_it_strategy_consulting</th>\n",
              "      <th>service_focus_bi_big_data_consulting_si</th>\n",
              "      <th>service_focus_blockchain</th>\n",
              "      <th>service_focus_cloud_consulting_si</th>\n",
              "      <th>service_focus_erp_consulting_and_si</th>\n",
              "      <th>service_focus_ecommerce_development</th>\n",
              "      <th>service_focus_enterprise_app_modernization</th>\n",
              "      <th>service_focus_arvr_development</th>\n",
              "      <th>service_focus_crm_consulting_and_si</th>\n",
              "      <th>service_focus_social_media_marketing</th>\n",
              "      <th>service_focus_content_marketing</th>\n",
              "      <th>service_focus_digital_strategy</th>\n",
              "      <th>service_focus_web_design</th>\n",
              "      <th>service_focus_it_managed_services</th>\n",
              "      <th>service_focus_other</th>\n",
              "      <th>service_focus_other_it_consulting_and_si</th>\n",
              "      <th>service_focus_application_management_support</th>\n",
              "      <th>service_focus_iot_development</th>\n",
              "      <th>service_focus_product_design</th>\n",
              "      <th>service_focus_other_application_development</th>\n",
              "      <th>service_focus_search_engine_optimization</th>\n",
              "      <th>service_focus_graphic_design</th>\n",
              "      <th>service_focus_hr_services</th>\n",
              "      <th>service_focus_wearable_app_development</th>\n",
              "      <th>service_focus_email_marketing</th>\n",
              "      <th>service_focus_branding</th>\n",
              "      <th>service_focus_advertising</th>\n",
              "      <th>service_focus_logo</th>\n",
              "      <th>service_focus_video_production</th>\n",
              "      <th>service_focus_market_research</th>\n",
              "      <th>service_focus_pay_per_click</th>\n",
              "      <th>service_focus_cybersecurity</th>\n",
              "      <th>service_focus_accounting</th>\n",
              "      <th>service_focus_business_consulting</th>\n",
              "      <th>service_focus_translation</th>\n",
              "      <th>service_focus_other_design</th>\n",
              "      <th>service_focus_other_digital_marketing</th>\n",
              "      <th>service_focus_mobile_app_marketing</th>\n",
              "      <th>service_focus_sales_outsourcing</th>\n",
              "      <th>service_focus_media_planning_buying</th>\n",
              "      <th>service_focus_back_office_outsourcing</th>\n",
              "      <th>service_focus_conversion_optimization</th>\n",
              "      <th>service_focus_corporate_training</th>\n",
              "      <th>service_focus_marketing_strategy</th>\n",
              "      <th>service_focus_public_relations</th>\n",
              "      <th>service_focus_corporate_photography</th>\n",
              "      <th>service_focus_packaging_design</th>\n",
              "      <th>service_focus_print_design</th>\n",
              "      <th>service_focus_call_center_services</th>\n",
              "      <th>service_focus_customer_service_outsourcing</th>\n",
              "      <th>service_focus_ocean_freight</th>\n",
              "      <th>service_focus_logistics_supply_chain_consulting</th>\n",
              "      <th>service_focus_trucking</th>\n",
              "      <th>service_focus_air_freight</th>\n",
              "      <th>service_focus_freight_forwarding</th>\n",
              "      <th>service_focus_customs_brokerage</th>\n",
              "      <th>service_focus_commercial_financing_funding_investment</th>\n",
              "      <th>service_focus_unified_communications_consulting_si</th>\n",
              "    </tr>\n",
              "  </thead>\n",
              "  <tbody>\n",
              "    <tr>\n",
              "      <th>0</th>\n",
              "      <td>404 // Software crafters</td>\n",
              "      <td>4.7</td>\n",
              "      <td>5 reviews</td>\n",
              "      <td>$10,000+</td>\n",
              "      <td>$25 - $49 / hr</td>\n",
              "      <td>10 - 49</td>\n",
              "      <td>Buenos Aires, Argentina</td>\n",
              "      <td>40%</td>\n",
              "      <td>30%</td>\n",
              "      <td>30%</td>\n",
              "      <td>80%</td>\n",
              "      <td>10%</td>\n",
              "      <td>10%</td>\n",
              "      <td>0</td>\n",
              "      <td>0</td>\n",
              "      <td>0</td>\n",
              "      <td>0</td>\n",
              "      <td>0</td>\n",
              "      <td>0</td>\n",
              "      <td>0</td>\n",
              "      <td>0</td>\n",
              "      <td>0</td>\n",
              "      <td>0</td>\n",
              "      <td>0</td>\n",
              "      <td>0</td>\n",
              "      <td>0</td>\n",
              "      <td>0</td>\n",
              "      <td>0</td>\n",
              "      <td>0</td>\n",
              "      <td>0</td>\n",
              "      <td>0</td>\n",
              "      <td>0</td>\n",
              "      <td>0</td>\n",
              "      <td>0</td>\n",
              "      <td>0</td>\n",
              "      <td>0</td>\n",
              "      <td>0</td>\n",
              "      <td>0</td>\n",
              "      <td>0</td>\n",
              "      <td>0</td>\n",
              "      <td>0</td>\n",
              "      <td>0</td>\n",
              "      <td>0</td>\n",
              "      <td>0</td>\n",
              "      <td>0</td>\n",
              "      <td>0</td>\n",
              "      <td>0</td>\n",
              "      <td>0</td>\n",
              "      <td>0</td>\n",
              "      <td>0</td>\n",
              "      <td>0</td>\n",
              "      <td>0</td>\n",
              "      <td>0</td>\n",
              "      <td>0</td>\n",
              "      <td>0</td>\n",
              "      <td>0</td>\n",
              "      <td>0</td>\n",
              "      <td>0</td>\n",
              "      <td>0</td>\n",
              "      <td>0</td>\n",
              "      <td>0</td>\n",
              "      <td>0</td>\n",
              "      <td>0</td>\n",
              "      <td>0</td>\n",
              "      <td>0</td>\n",
              "      <td>0</td>\n",
              "      <td>0</td>\n",
              "      <td>0</td>\n",
              "      <td>0</td>\n",
              "      <td>0</td>\n",
              "      <td>0</td>\n",
              "      <td>0</td>\n",
              "      <td>0</td>\n",
              "      <td>0</td>\n",
              "      <td>0</td>\n",
              "      <td>0</td>\n",
              "    </tr>\n",
              "    <tr>\n",
              "      <th>1</th>\n",
              "      <td>Rootstrap</td>\n",
              "      <td>4.8</td>\n",
              "      <td>34 reviews</td>\n",
              "      <td>$50,000+</td>\n",
              "      <td>$100 - $149 / hr</td>\n",
              "      <td>50 - 249</td>\n",
              "      <td>Buenos Aires, Argentina</td>\n",
              "      <td>25%</td>\n",
              "      <td>10%</td>\n",
              "      <td>40%</td>\n",
              "      <td>40%</td>\n",
              "      <td>25%</td>\n",
              "      <td>35%</td>\n",
              "      <td>25%</td>\n",
              "      <td>0</td>\n",
              "      <td>0</td>\n",
              "      <td>0</td>\n",
              "      <td>0</td>\n",
              "      <td>0</td>\n",
              "      <td>0</td>\n",
              "      <td>0</td>\n",
              "      <td>0</td>\n",
              "      <td>0</td>\n",
              "      <td>0</td>\n",
              "      <td>0</td>\n",
              "      <td>0</td>\n",
              "      <td>0</td>\n",
              "      <td>0</td>\n",
              "      <td>0</td>\n",
              "      <td>0</td>\n",
              "      <td>0</td>\n",
              "      <td>0</td>\n",
              "      <td>0</td>\n",
              "      <td>0</td>\n",
              "      <td>0</td>\n",
              "      <td>0</td>\n",
              "      <td>0</td>\n",
              "      <td>0</td>\n",
              "      <td>0</td>\n",
              "      <td>0</td>\n",
              "      <td>0</td>\n",
              "      <td>0</td>\n",
              "      <td>0</td>\n",
              "      <td>0</td>\n",
              "      <td>0</td>\n",
              "      <td>0</td>\n",
              "      <td>0</td>\n",
              "      <td>0</td>\n",
              "      <td>0</td>\n",
              "      <td>0</td>\n",
              "      <td>0</td>\n",
              "      <td>0</td>\n",
              "      <td>0</td>\n",
              "      <td>0</td>\n",
              "      <td>0</td>\n",
              "      <td>0</td>\n",
              "      <td>0</td>\n",
              "      <td>0</td>\n",
              "      <td>0</td>\n",
              "      <td>0</td>\n",
              "      <td>0</td>\n",
              "      <td>0</td>\n",
              "      <td>0</td>\n",
              "      <td>0</td>\n",
              "      <td>0</td>\n",
              "      <td>0</td>\n",
              "      <td>0</td>\n",
              "      <td>0</td>\n",
              "      <td>0</td>\n",
              "      <td>0</td>\n",
              "      <td>0</td>\n",
              "      <td>0</td>\n",
              "      <td>0</td>\n",
              "      <td>0</td>\n",
              "      <td>0</td>\n",
              "      <td>0</td>\n",
              "    </tr>\n",
              "    <tr>\n",
              "      <th>2</th>\n",
              "      <td>Flux IT</td>\n",
              "      <td>4.9</td>\n",
              "      <td>11 reviews</td>\n",
              "      <td>$10,000+</td>\n",
              "      <td>Undisclosed</td>\n",
              "      <td>50 - 249</td>\n",
              "      <td>Gonnet, Argentina</td>\n",
              "      <td>30%</td>\n",
              "      <td>40%</td>\n",
              "      <td>30%</td>\n",
              "      <td>50%</td>\n",
              "      <td>25%</td>\n",
              "      <td>25%</td>\n",
              "      <td>0</td>\n",
              "      <td>0</td>\n",
              "      <td>0</td>\n",
              "      <td>0</td>\n",
              "      <td>0</td>\n",
              "      <td>0</td>\n",
              "      <td>0</td>\n",
              "      <td>0</td>\n",
              "      <td>0</td>\n",
              "      <td>0</td>\n",
              "      <td>0</td>\n",
              "      <td>0</td>\n",
              "      <td>0</td>\n",
              "      <td>0</td>\n",
              "      <td>0</td>\n",
              "      <td>0</td>\n",
              "      <td>0</td>\n",
              "      <td>0</td>\n",
              "      <td>0</td>\n",
              "      <td>0</td>\n",
              "      <td>0</td>\n",
              "      <td>0</td>\n",
              "      <td>0</td>\n",
              "      <td>0</td>\n",
              "      <td>0</td>\n",
              "      <td>0</td>\n",
              "      <td>0</td>\n",
              "      <td>0</td>\n",
              "      <td>0</td>\n",
              "      <td>0</td>\n",
              "      <td>0</td>\n",
              "      <td>0</td>\n",
              "      <td>0</td>\n",
              "      <td>0</td>\n",
              "      <td>0</td>\n",
              "      <td>0</td>\n",
              "      <td>0</td>\n",
              "      <td>0</td>\n",
              "      <td>0</td>\n",
              "      <td>0</td>\n",
              "      <td>0</td>\n",
              "      <td>0</td>\n",
              "      <td>0</td>\n",
              "      <td>0</td>\n",
              "      <td>0</td>\n",
              "      <td>0</td>\n",
              "      <td>0</td>\n",
              "      <td>0</td>\n",
              "      <td>0</td>\n",
              "      <td>0</td>\n",
              "      <td>0</td>\n",
              "      <td>0</td>\n",
              "      <td>0</td>\n",
              "      <td>0</td>\n",
              "      <td>0</td>\n",
              "      <td>0</td>\n",
              "      <td>0</td>\n",
              "      <td>0</td>\n",
              "      <td>0</td>\n",
              "      <td>0</td>\n",
              "      <td>0</td>\n",
              "      <td>0</td>\n",
              "      <td>0</td>\n",
              "    </tr>\n",
              "    <tr>\n",
              "      <th>3</th>\n",
              "      <td>The App Master</td>\n",
              "      <td>5.0</td>\n",
              "      <td>7 reviews</td>\n",
              "      <td>$10,000+</td>\n",
              "      <td>$25 - $49 / hr</td>\n",
              "      <td>10 - 49</td>\n",
              "      <td>Buenos Aires, Argentina</td>\n",
              "      <td>40%</td>\n",
              "      <td>30%</td>\n",
              "      <td>0</td>\n",
              "      <td>50%</td>\n",
              "      <td>20%</td>\n",
              "      <td>30%</td>\n",
              "      <td>0</td>\n",
              "      <td>10%</td>\n",
              "      <td>10%</td>\n",
              "      <td>10%</td>\n",
              "      <td>0</td>\n",
              "      <td>0</td>\n",
              "      <td>0</td>\n",
              "      <td>0</td>\n",
              "      <td>0</td>\n",
              "      <td>0</td>\n",
              "      <td>0</td>\n",
              "      <td>0</td>\n",
              "      <td>0</td>\n",
              "      <td>0</td>\n",
              "      <td>0</td>\n",
              "      <td>0</td>\n",
              "      <td>0</td>\n",
              "      <td>0</td>\n",
              "      <td>0</td>\n",
              "      <td>0</td>\n",
              "      <td>0</td>\n",
              "      <td>0</td>\n",
              "      <td>0</td>\n",
              "      <td>0</td>\n",
              "      <td>0</td>\n",
              "      <td>0</td>\n",
              "      <td>0</td>\n",
              "      <td>0</td>\n",
              "      <td>0</td>\n",
              "      <td>0</td>\n",
              "      <td>0</td>\n",
              "      <td>0</td>\n",
              "      <td>0</td>\n",
              "      <td>0</td>\n",
              "      <td>0</td>\n",
              "      <td>0</td>\n",
              "      <td>0</td>\n",
              "      <td>0</td>\n",
              "      <td>0</td>\n",
              "      <td>0</td>\n",
              "      <td>0</td>\n",
              "      <td>0</td>\n",
              "      <td>0</td>\n",
              "      <td>0</td>\n",
              "      <td>0</td>\n",
              "      <td>0</td>\n",
              "      <td>0</td>\n",
              "      <td>0</td>\n",
              "      <td>0</td>\n",
              "      <td>0</td>\n",
              "      <td>0</td>\n",
              "      <td>0</td>\n",
              "      <td>0</td>\n",
              "      <td>0</td>\n",
              "      <td>0</td>\n",
              "      <td>0</td>\n",
              "      <td>0</td>\n",
              "      <td>0</td>\n",
              "      <td>0</td>\n",
              "      <td>0</td>\n",
              "      <td>0</td>\n",
              "      <td>0</td>\n",
              "      <td>0</td>\n",
              "    </tr>\n",
              "    <tr>\n",
              "      <th>4</th>\n",
              "      <td>Clarika</td>\n",
              "      <td>4.8</td>\n",
              "      <td>14 reviews</td>\n",
              "      <td>$10,000+</td>\n",
              "      <td>$25 - $49 / hr</td>\n",
              "      <td>50 - 249</td>\n",
              "      <td>Córdoba, Argentina</td>\n",
              "      <td>20%</td>\n",
              "      <td>30%</td>\n",
              "      <td>10%</td>\n",
              "      <td>70%</td>\n",
              "      <td>0</td>\n",
              "      <td>30%</td>\n",
              "      <td>0</td>\n",
              "      <td>0</td>\n",
              "      <td>0</td>\n",
              "      <td>0</td>\n",
              "      <td>30%</td>\n",
              "      <td>10%</td>\n",
              "      <td>0</td>\n",
              "      <td>0</td>\n",
              "      <td>0</td>\n",
              "      <td>0</td>\n",
              "      <td>0</td>\n",
              "      <td>0</td>\n",
              "      <td>0</td>\n",
              "      <td>0</td>\n",
              "      <td>0</td>\n",
              "      <td>0</td>\n",
              "      <td>0</td>\n",
              "      <td>0</td>\n",
              "      <td>0</td>\n",
              "      <td>0</td>\n",
              "      <td>0</td>\n",
              "      <td>0</td>\n",
              "      <td>0</td>\n",
              "      <td>0</td>\n",
              "      <td>0</td>\n",
              "      <td>0</td>\n",
              "      <td>0</td>\n",
              "      <td>0</td>\n",
              "      <td>0</td>\n",
              "      <td>0</td>\n",
              "      <td>0</td>\n",
              "      <td>0</td>\n",
              "      <td>0</td>\n",
              "      <td>0</td>\n",
              "      <td>0</td>\n",
              "      <td>0</td>\n",
              "      <td>0</td>\n",
              "      <td>0</td>\n",
              "      <td>0</td>\n",
              "      <td>0</td>\n",
              "      <td>0</td>\n",
              "      <td>0</td>\n",
              "      <td>0</td>\n",
              "      <td>0</td>\n",
              "      <td>0</td>\n",
              "      <td>0</td>\n",
              "      <td>0</td>\n",
              "      <td>0</td>\n",
              "      <td>0</td>\n",
              "      <td>0</td>\n",
              "      <td>0</td>\n",
              "      <td>0</td>\n",
              "      <td>0</td>\n",
              "      <td>0</td>\n",
              "      <td>0</td>\n",
              "      <td>0</td>\n",
              "      <td>0</td>\n",
              "      <td>0</td>\n",
              "      <td>0</td>\n",
              "      <td>0</td>\n",
              "      <td>0</td>\n",
              "      <td>0</td>\n",
              "      <td>0</td>\n",
              "    </tr>\n",
              "  </tbody>\n",
              "</table>\n",
              "</div>"
            ],
            "text/plain": [
              "               company_name rating     reviews min_project_size  \\\n",
              "0  404 // Software crafters    4.7   5 reviews         $10,000+   \n",
              "1                 Rootstrap    4.8  34 reviews         $50,000+   \n",
              "2                   Flux IT    4.9  11 reviews         $10,000+   \n",
              "3            The App Master    5.0   7 reviews         $10,000+   \n",
              "4                   Clarika    4.8  14 reviews         $10,000+   \n",
              "\n",
              "    avg_hourly_rate employees                 location  \\\n",
              "0    $25 - $49 / hr   10 - 49  Buenos Aires, Argentina   \n",
              "1  $100 - $149 / hr  50 - 249  Buenos Aires, Argentina   \n",
              "2       Undisclosed  50 - 249        Gonnet, Argentina   \n",
              "3    $25 - $49 / hr   10 - 49  Buenos Aires, Argentina   \n",
              "4    $25 - $49 / hr  50 - 249       Córdoba, Argentina   \n",
              "\n",
              "  service_focus_mobile_app_development  \\\n",
              "0                                  40%   \n",
              "1                                  25%   \n",
              "2                                  30%   \n",
              "3                                  40%   \n",
              "4                                  20%   \n",
              "\n",
              "  service_focus_custom_software_development service_focus_web_development  \\\n",
              "0                                       30%                           30%   \n",
              "1                                       10%                           40%   \n",
              "2                                       40%                           30%   \n",
              "3                                       30%                             0   \n",
              "4                                       30%                           10%   \n",
              "\n",
              "  client_focus_midmarket_10m_1b client_focus_enterprise_1b  \\\n",
              "0                           80%                        10%   \n",
              "1                           40%                        25%   \n",
              "2                           50%                        25%   \n",
              "3                           50%                        20%   \n",
              "4                           70%                          0   \n",
              "\n",
              "  client_focus_small_business_10m service_focus_artificial_intelligence  \\\n",
              "0                             10%                                     0   \n",
              "1                             35%                                   25%   \n",
              "2                             25%                                     0   \n",
              "3                             30%                                     0   \n",
              "4                             30%                                     0   \n",
              "\n",
              "  service_focus_application_testing service_focus_architectural_design  \\\n",
              "0                                 0                                  0   \n",
              "1                                 0                                  0   \n",
              "2                                 0                                  0   \n",
              "3                               10%                                10%   \n",
              "4                                 0                                  0   \n",
              "\n",
              "  service_focus_uxui_design service_focus_it_staff_augmentation  \\\n",
              "0                         0                                   0   \n",
              "1                         0                                   0   \n",
              "2                         0                                   0   \n",
              "3                       10%                                   0   \n",
              "4                         0                                 30%   \n",
              "\n",
              "  service_focus_it_strategy_consulting  \\\n",
              "0                                    0   \n",
              "1                                    0   \n",
              "2                                    0   \n",
              "3                                    0   \n",
              "4                                  10%   \n",
              "\n",
              "  service_focus_bi_big_data_consulting_si service_focus_blockchain  \\\n",
              "0                                       0                        0   \n",
              "1                                       0                        0   \n",
              "2                                       0                        0   \n",
              "3                                       0                        0   \n",
              "4                                       0                        0   \n",
              "\n",
              "  service_focus_cloud_consulting_si service_focus_erp_consulting_and_si  \\\n",
              "0                                 0                                   0   \n",
              "1                                 0                                   0   \n",
              "2                                 0                                   0   \n",
              "3                                 0                                   0   \n",
              "4                                 0                                   0   \n",
              "\n",
              "  service_focus_ecommerce_development  \\\n",
              "0                                   0   \n",
              "1                                   0   \n",
              "2                                   0   \n",
              "3                                   0   \n",
              "4                                   0   \n",
              "\n",
              "  service_focus_enterprise_app_modernization service_focus_arvr_development  \\\n",
              "0                                          0                              0   \n",
              "1                                          0                              0   \n",
              "2                                          0                              0   \n",
              "3                                          0                              0   \n",
              "4                                          0                              0   \n",
              "\n",
              "  service_focus_crm_consulting_and_si service_focus_social_media_marketing  \\\n",
              "0                                   0                                    0   \n",
              "1                                   0                                    0   \n",
              "2                                   0                                    0   \n",
              "3                                   0                                    0   \n",
              "4                                   0                                    0   \n",
              "\n",
              "  service_focus_content_marketing service_focus_digital_strategy  \\\n",
              "0                               0                              0   \n",
              "1                               0                              0   \n",
              "2                               0                              0   \n",
              "3                               0                              0   \n",
              "4                               0                              0   \n",
              "\n",
              "  service_focus_web_design service_focus_it_managed_services  \\\n",
              "0                        0                                 0   \n",
              "1                        0                                 0   \n",
              "2                        0                                 0   \n",
              "3                        0                                 0   \n",
              "4                        0                                 0   \n",
              "\n",
              "  service_focus_other service_focus_other_it_consulting_and_si  \\\n",
              "0                   0                                        0   \n",
              "1                   0                                        0   \n",
              "2                   0                                        0   \n",
              "3                   0                                        0   \n",
              "4                   0                                        0   \n",
              "\n",
              "  service_focus_application_management_support service_focus_iot_development  \\\n",
              "0                                            0                             0   \n",
              "1                                            0                             0   \n",
              "2                                            0                             0   \n",
              "3                                            0                             0   \n",
              "4                                            0                             0   \n",
              "\n",
              "  service_focus_product_design service_focus_other_application_development  \\\n",
              "0                            0                                           0   \n",
              "1                            0                                           0   \n",
              "2                            0                                           0   \n",
              "3                            0                                           0   \n",
              "4                            0                                           0   \n",
              "\n",
              "  service_focus_search_engine_optimization service_focus_graphic_design  \\\n",
              "0                                        0                            0   \n",
              "1                                        0                            0   \n",
              "2                                        0                            0   \n",
              "3                                        0                            0   \n",
              "4                                        0                            0   \n",
              "\n",
              "  service_focus_hr_services service_focus_wearable_app_development  \\\n",
              "0                         0                                      0   \n",
              "1                         0                                      0   \n",
              "2                         0                                      0   \n",
              "3                         0                                      0   \n",
              "4                         0                                      0   \n",
              "\n",
              "  service_focus_email_marketing service_focus_branding  \\\n",
              "0                             0                      0   \n",
              "1                             0                      0   \n",
              "2                             0                      0   \n",
              "3                             0                      0   \n",
              "4                             0                      0   \n",
              "\n",
              "  service_focus_advertising service_focus_logo service_focus_video_production  \\\n",
              "0                         0                  0                              0   \n",
              "1                         0                  0                              0   \n",
              "2                         0                  0                              0   \n",
              "3                         0                  0                              0   \n",
              "4                         0                  0                              0   \n",
              "\n",
              "  service_focus_market_research service_focus_pay_per_click  \\\n",
              "0                             0                           0   \n",
              "1                             0                           0   \n",
              "2                             0                           0   \n",
              "3                             0                           0   \n",
              "4                             0                           0   \n",
              "\n",
              "  service_focus_cybersecurity service_focus_accounting  \\\n",
              "0                           0                        0   \n",
              "1                           0                        0   \n",
              "2                           0                        0   \n",
              "3                           0                        0   \n",
              "4                           0                        0   \n",
              "\n",
              "  service_focus_business_consulting service_focus_translation  \\\n",
              "0                                 0                         0   \n",
              "1                                 0                         0   \n",
              "2                                 0                         0   \n",
              "3                                 0                         0   \n",
              "4                                 0                         0   \n",
              "\n",
              "  service_focus_other_design service_focus_other_digital_marketing  \\\n",
              "0                          0                                     0   \n",
              "1                          0                                     0   \n",
              "2                          0                                     0   \n",
              "3                          0                                     0   \n",
              "4                          0                                     0   \n",
              "\n",
              "  service_focus_mobile_app_marketing service_focus_sales_outsourcing  \\\n",
              "0                                  0                               0   \n",
              "1                                  0                               0   \n",
              "2                                  0                               0   \n",
              "3                                  0                               0   \n",
              "4                                  0                               0   \n",
              "\n",
              "  service_focus_media_planning_buying service_focus_back_office_outsourcing  \\\n",
              "0                                   0                                     0   \n",
              "1                                   0                                     0   \n",
              "2                                   0                                     0   \n",
              "3                                   0                                     0   \n",
              "4                                   0                                     0   \n",
              "\n",
              "  service_focus_conversion_optimization service_focus_corporate_training  \\\n",
              "0                                     0                                0   \n",
              "1                                     0                                0   \n",
              "2                                     0                                0   \n",
              "3                                     0                                0   \n",
              "4                                     0                                0   \n",
              "\n",
              "  service_focus_marketing_strategy service_focus_public_relations  \\\n",
              "0                                0                              0   \n",
              "1                                0                              0   \n",
              "2                                0                              0   \n",
              "3                                0                              0   \n",
              "4                                0                              0   \n",
              "\n",
              "  service_focus_corporate_photography service_focus_packaging_design  \\\n",
              "0                                   0                              0   \n",
              "1                                   0                              0   \n",
              "2                                   0                              0   \n",
              "3                                   0                              0   \n",
              "4                                   0                              0   \n",
              "\n",
              "  service_focus_print_design service_focus_call_center_services  \\\n",
              "0                          0                                  0   \n",
              "1                          0                                  0   \n",
              "2                          0                                  0   \n",
              "3                          0                                  0   \n",
              "4                          0                                  0   \n",
              "\n",
              "  service_focus_customer_service_outsourcing service_focus_ocean_freight  \\\n",
              "0                                          0                           0   \n",
              "1                                          0                           0   \n",
              "2                                          0                           0   \n",
              "3                                          0                           0   \n",
              "4                                          0                           0   \n",
              "\n",
              "  service_focus_logistics_supply_chain_consulting service_focus_trucking  \\\n",
              "0                                               0                      0   \n",
              "1                                               0                      0   \n",
              "2                                               0                      0   \n",
              "3                                               0                      0   \n",
              "4                                               0                      0   \n",
              "\n",
              "  service_focus_air_freight service_focus_freight_forwarding  \\\n",
              "0                         0                                0   \n",
              "1                         0                                0   \n",
              "2                         0                                0   \n",
              "3                         0                                0   \n",
              "4                         0                                0   \n",
              "\n",
              "  service_focus_customs_brokerage  \\\n",
              "0                               0   \n",
              "1                               0   \n",
              "2                               0   \n",
              "3                               0   \n",
              "4                               0   \n",
              "\n",
              "  service_focus_commercial_financing_funding_investment  \\\n",
              "0                                                  0      \n",
              "1                                                  0      \n",
              "2                                                  0      \n",
              "3                                                  0      \n",
              "4                                                  0      \n",
              "\n",
              "  service_focus_unified_communications_consulting_si  \n",
              "0                                                  0  \n",
              "1                                                  0  \n",
              "2                                                  0  \n",
              "3                                                  0  \n",
              "4                                                  0  "
            ]
          },
          "execution_count": 18,
          "metadata": {},
          "output_type": "execute_result"
        }
      ],
      "source": [
        "companies.head()"
      ]
    },
    {
      "cell_type": "markdown",
      "metadata": {},
      "source": [
        "Hay algunas columnas que son porcentajes pero en tipo string, vamos a reemplazarlos como variables numericas."
      ]
    },
    {
      "cell_type": "code",
      "execution_count": 31,
      "metadata": {},
      "outputs": [],
      "source": [
        "columns_no_porcentajes = ['company_name','rating', 'reviews', 'min_project_size', 'avg_hourly_rate', 'employees', 'location']\n",
        "\n",
        "columns_porcetajes = companies.columns.difference(columns_no_porcentajes)"
      ]
    },
    {
      "cell_type": "code",
      "execution_count": 32,
      "metadata": {},
      "outputs": [],
      "source": [
        "for column in columns_porcetajes:\n",
        "  companies[column] = companies[column].str.replace('%', '')\n",
        "  companies[column] = companies[column].astype(int)"
      ]
    },
    {
      "cell_type": "code",
      "execution_count": 33,
      "metadata": {},
      "outputs": [
        {
          "data": {
            "text/html": [
              "<div>\n",
              "<style scoped>\n",
              "    .dataframe tbody tr th:only-of-type {\n",
              "        vertical-align: middle;\n",
              "    }\n",
              "\n",
              "    .dataframe tbody tr th {\n",
              "        vertical-align: top;\n",
              "    }\n",
              "\n",
              "    .dataframe thead th {\n",
              "        text-align: right;\n",
              "    }\n",
              "</style>\n",
              "<table border=\"1\" class=\"dataframe\">\n",
              "  <thead>\n",
              "    <tr style=\"text-align: right;\">\n",
              "      <th></th>\n",
              "      <th>company_name</th>\n",
              "      <th>rating</th>\n",
              "      <th>reviews</th>\n",
              "      <th>min_project_size</th>\n",
              "      <th>avg_hourly_rate</th>\n",
              "      <th>employees</th>\n",
              "      <th>location</th>\n",
              "      <th>service_focus_mobile_app_development</th>\n",
              "      <th>service_focus_custom_software_development</th>\n",
              "      <th>service_focus_web_development</th>\n",
              "      <th>client_focus_midmarket_10m_1b</th>\n",
              "      <th>client_focus_enterprise_1b</th>\n",
              "      <th>client_focus_small_business</th>\n",
              "      <th>service_focus_artificial_intelligence</th>\n",
              "      <th>service_focus_it_staff_augmentation</th>\n",
              "      <th>service_focus_it_strategy_consulting</th>\n",
              "      <th>service_focus_bi_big_data_consulting_si</th>\n",
              "      <th>service_focus_blockchain</th>\n",
              "      <th>service_focus_cloud_consulting_si</th>\n",
              "      <th>service_focus_application_testing</th>\n",
              "      <th>service_focus_architectural_design</th>\n",
              "      <th>service_focus_uxui_design</th>\n",
              "      <th>service_focus_erp_consulting_and_si</th>\n",
              "      <th>service_focus_ecommerce_development</th>\n",
              "      <th>service_focus_iot_development</th>\n",
              "      <th>service_focus_enterprise_app_modernization</th>\n",
              "      <th>service_focus_arvr_development</th>\n",
              "      <th>service_focus_crm_consulting_and_si</th>\n",
              "      <th>service_focus_other</th>\n",
              "      <th>service_focus_content_marketing</th>\n",
              "      <th>service_focus_digital_strategy</th>\n",
              "      <th>service_focus_social_media_marketing</th>\n",
              "      <th>service_focus_web_design</th>\n",
              "      <th>service_focus_it_managed_services</th>\n",
              "      <th>service_focus_other_it_consulting_and_si</th>\n",
              "      <th>service_focus_application_management_support</th>\n",
              "      <th>service_focus_product_design</th>\n",
              "      <th>service_focus_other_application_development</th>\n",
              "      <th>service_focus_search_engine_optimization</th>\n",
              "      <th>service_focus_graphic_design</th>\n",
              "      <th>service_focus_hr_services</th>\n",
              "      <th>service_focus_wearable_app_development</th>\n",
              "      <th>service_focus_branding</th>\n",
              "      <th>service_focus_email_marketing</th>\n",
              "      <th>service_focus_advertising</th>\n",
              "      <th>service_focus_logo</th>\n",
              "      <th>service_focus_video_production</th>\n",
              "      <th>service_focus_market_research</th>\n",
              "      <th>service_focus_pay_per_click</th>\n",
              "      <th>service_focus_cybersecurity</th>\n",
              "      <th>service_focus_accounting</th>\n",
              "      <th>service_focus_business_consulting</th>\n",
              "      <th>service_focus_translation</th>\n",
              "      <th>service_focus_other_design</th>\n",
              "      <th>service_focus_other_digital_marketing</th>\n",
              "      <th>service_focus_mobile_app_marketing</th>\n",
              "      <th>service_focus_sales_outsourcing</th>\n",
              "      <th>service_focus_media_planning_buying</th>\n",
              "      <th>service_focus_back_office_outsourcing</th>\n",
              "      <th>service_focus_conversion_optimization</th>\n",
              "      <th>service_focus_corporate_training</th>\n",
              "      <th>service_focus_marketing_strategy</th>\n",
              "      <th>service_focus_public_relations</th>\n",
              "      <th>service_focus_corporate_photography</th>\n",
              "      <th>service_focus_packaging_design</th>\n",
              "      <th>service_focus_print_design</th>\n",
              "      <th>service_focus_call_center_services</th>\n",
              "      <th>service_focus_customer_service_outsourcing</th>\n",
              "      <th>service_focus_ocean_freight</th>\n",
              "      <th>service_focus_logistics_supply_chain_consulting</th>\n",
              "      <th>service_focus_trucking</th>\n",
              "      <th>service_focus_air_freight</th>\n",
              "      <th>service_focus_freight_forwarding</th>\n",
              "      <th>service_focus_customs_brokerage</th>\n",
              "      <th>service_focus_commercial_financing_funding_investment</th>\n",
              "      <th>service_focus_unified_communications_consulting_si</th>\n",
              "    </tr>\n",
              "  </thead>\n",
              "  <tbody>\n",
              "    <tr>\n",
              "      <th>0</th>\n",
              "      <td>404 // Software crafters</td>\n",
              "      <td>4.7</td>\n",
              "      <td>5 reviews</td>\n",
              "      <td>$10,000+</td>\n",
              "      <td>$25 - $49 / hr</td>\n",
              "      <td>10 - 49</td>\n",
              "      <td>Campo Salles, Argentina</td>\n",
              "      <td>40</td>\n",
              "      <td>30</td>\n",
              "      <td>30</td>\n",
              "      <td>80</td>\n",
              "      <td>10</td>\n",
              "      <td>10</td>\n",
              "      <td>0</td>\n",
              "      <td>0</td>\n",
              "      <td>0</td>\n",
              "      <td>0</td>\n",
              "      <td>0</td>\n",
              "      <td>0</td>\n",
              "      <td>0</td>\n",
              "      <td>0</td>\n",
              "      <td>0</td>\n",
              "      <td>0</td>\n",
              "      <td>0</td>\n",
              "      <td>0</td>\n",
              "      <td>0</td>\n",
              "      <td>0</td>\n",
              "      <td>0</td>\n",
              "      <td>0</td>\n",
              "      <td>0</td>\n",
              "      <td>0</td>\n",
              "      <td>0</td>\n",
              "      <td>0</td>\n",
              "      <td>0</td>\n",
              "      <td>0</td>\n",
              "      <td>0</td>\n",
              "      <td>0</td>\n",
              "      <td>0</td>\n",
              "      <td>0</td>\n",
              "      <td>0</td>\n",
              "      <td>0</td>\n",
              "      <td>0</td>\n",
              "      <td>0</td>\n",
              "      <td>0</td>\n",
              "      <td>0</td>\n",
              "      <td>0</td>\n",
              "      <td>0</td>\n",
              "      <td>0</td>\n",
              "      <td>0</td>\n",
              "      <td>0</td>\n",
              "      <td>0</td>\n",
              "      <td>0</td>\n",
              "      <td>0</td>\n",
              "      <td>0</td>\n",
              "      <td>0</td>\n",
              "      <td>0</td>\n",
              "      <td>0</td>\n",
              "      <td>0</td>\n",
              "      <td>0</td>\n",
              "      <td>0</td>\n",
              "      <td>0</td>\n",
              "      <td>0</td>\n",
              "      <td>0</td>\n",
              "      <td>0</td>\n",
              "      <td>0</td>\n",
              "      <td>0</td>\n",
              "      <td>0</td>\n",
              "      <td>0</td>\n",
              "      <td>0</td>\n",
              "      <td>0</td>\n",
              "      <td>0</td>\n",
              "      <td>0</td>\n",
              "      <td>0</td>\n",
              "      <td>0</td>\n",
              "      <td>0</td>\n",
              "      <td>0</td>\n",
              "    </tr>\n",
              "    <tr>\n",
              "      <th>1</th>\n",
              "      <td>Rootstrap</td>\n",
              "      <td>4.8</td>\n",
              "      <td>34 reviews</td>\n",
              "      <td>$50,000+</td>\n",
              "      <td>$100 - $149 / hr</td>\n",
              "      <td>50 - 249</td>\n",
              "      <td>Buenos Aires, Argentina</td>\n",
              "      <td>25</td>\n",
              "      <td>10</td>\n",
              "      <td>40</td>\n",
              "      <td>40</td>\n",
              "      <td>25</td>\n",
              "      <td>35</td>\n",
              "      <td>25</td>\n",
              "      <td>0</td>\n",
              "      <td>0</td>\n",
              "      <td>0</td>\n",
              "      <td>0</td>\n",
              "      <td>0</td>\n",
              "      <td>0</td>\n",
              "      <td>0</td>\n",
              "      <td>0</td>\n",
              "      <td>0</td>\n",
              "      <td>0</td>\n",
              "      <td>0</td>\n",
              "      <td>0</td>\n",
              "      <td>0</td>\n",
              "      <td>0</td>\n",
              "      <td>0</td>\n",
              "      <td>0</td>\n",
              "      <td>0</td>\n",
              "      <td>0</td>\n",
              "      <td>0</td>\n",
              "      <td>0</td>\n",
              "      <td>0</td>\n",
              "      <td>0</td>\n",
              "      <td>0</td>\n",
              "      <td>0</td>\n",
              "      <td>0</td>\n",
              "      <td>0</td>\n",
              "      <td>0</td>\n",
              "      <td>0</td>\n",
              "      <td>0</td>\n",
              "      <td>0</td>\n",
              "      <td>0</td>\n",
              "      <td>0</td>\n",
              "      <td>0</td>\n",
              "      <td>0</td>\n",
              "      <td>0</td>\n",
              "      <td>0</td>\n",
              "      <td>0</td>\n",
              "      <td>0</td>\n",
              "      <td>0</td>\n",
              "      <td>0</td>\n",
              "      <td>0</td>\n",
              "      <td>0</td>\n",
              "      <td>0</td>\n",
              "      <td>0</td>\n",
              "      <td>0</td>\n",
              "      <td>0</td>\n",
              "      <td>0</td>\n",
              "      <td>0</td>\n",
              "      <td>0</td>\n",
              "      <td>0</td>\n",
              "      <td>0</td>\n",
              "      <td>0</td>\n",
              "      <td>0</td>\n",
              "      <td>0</td>\n",
              "      <td>0</td>\n",
              "      <td>0</td>\n",
              "      <td>0</td>\n",
              "      <td>0</td>\n",
              "      <td>0</td>\n",
              "      <td>0</td>\n",
              "      <td>0</td>\n",
              "      <td>0</td>\n",
              "    </tr>\n",
              "    <tr>\n",
              "      <th>2</th>\n",
              "      <td>Flux IT</td>\n",
              "      <td>4.9</td>\n",
              "      <td>10 reviews</td>\n",
              "      <td>$10,000+</td>\n",
              "      <td>Undisclosed</td>\n",
              "      <td>50 - 249</td>\n",
              "      <td>Gonnet, Argentina</td>\n",
              "      <td>30</td>\n",
              "      <td>40</td>\n",
              "      <td>30</td>\n",
              "      <td>50</td>\n",
              "      <td>25</td>\n",
              "      <td>25</td>\n",
              "      <td>0</td>\n",
              "      <td>0</td>\n",
              "      <td>0</td>\n",
              "      <td>0</td>\n",
              "      <td>0</td>\n",
              "      <td>0</td>\n",
              "      <td>0</td>\n",
              "      <td>0</td>\n",
              "      <td>0</td>\n",
              "      <td>0</td>\n",
              "      <td>0</td>\n",
              "      <td>0</td>\n",
              "      <td>0</td>\n",
              "      <td>0</td>\n",
              "      <td>0</td>\n",
              "      <td>0</td>\n",
              "      <td>0</td>\n",
              "      <td>0</td>\n",
              "      <td>0</td>\n",
              "      <td>0</td>\n",
              "      <td>0</td>\n",
              "      <td>0</td>\n",
              "      <td>0</td>\n",
              "      <td>0</td>\n",
              "      <td>0</td>\n",
              "      <td>0</td>\n",
              "      <td>0</td>\n",
              "      <td>0</td>\n",
              "      <td>0</td>\n",
              "      <td>0</td>\n",
              "      <td>0</td>\n",
              "      <td>0</td>\n",
              "      <td>0</td>\n",
              "      <td>0</td>\n",
              "      <td>0</td>\n",
              "      <td>0</td>\n",
              "      <td>0</td>\n",
              "      <td>0</td>\n",
              "      <td>0</td>\n",
              "      <td>0</td>\n",
              "      <td>0</td>\n",
              "      <td>0</td>\n",
              "      <td>0</td>\n",
              "      <td>0</td>\n",
              "      <td>0</td>\n",
              "      <td>0</td>\n",
              "      <td>0</td>\n",
              "      <td>0</td>\n",
              "      <td>0</td>\n",
              "      <td>0</td>\n",
              "      <td>0</td>\n",
              "      <td>0</td>\n",
              "      <td>0</td>\n",
              "      <td>0</td>\n",
              "      <td>0</td>\n",
              "      <td>0</td>\n",
              "      <td>0</td>\n",
              "      <td>0</td>\n",
              "      <td>0</td>\n",
              "      <td>0</td>\n",
              "      <td>0</td>\n",
              "      <td>0</td>\n",
              "      <td>0</td>\n",
              "    </tr>\n",
              "    <tr>\n",
              "      <th>3</th>\n",
              "      <td>Clarika</td>\n",
              "      <td>4.8</td>\n",
              "      <td>14 reviews</td>\n",
              "      <td>$10,000+</td>\n",
              "      <td>$25 - $49 / hr</td>\n",
              "      <td>50 - 249</td>\n",
              "      <td>Córdoba, Argentina</td>\n",
              "      <td>20</td>\n",
              "      <td>30</td>\n",
              "      <td>10</td>\n",
              "      <td>70</td>\n",
              "      <td>0</td>\n",
              "      <td>30</td>\n",
              "      <td>0</td>\n",
              "      <td>30</td>\n",
              "      <td>10</td>\n",
              "      <td>0</td>\n",
              "      <td>0</td>\n",
              "      <td>0</td>\n",
              "      <td>0</td>\n",
              "      <td>0</td>\n",
              "      <td>0</td>\n",
              "      <td>0</td>\n",
              "      <td>0</td>\n",
              "      <td>0</td>\n",
              "      <td>0</td>\n",
              "      <td>0</td>\n",
              "      <td>0</td>\n",
              "      <td>0</td>\n",
              "      <td>0</td>\n",
              "      <td>0</td>\n",
              "      <td>0</td>\n",
              "      <td>0</td>\n",
              "      <td>0</td>\n",
              "      <td>0</td>\n",
              "      <td>0</td>\n",
              "      <td>0</td>\n",
              "      <td>0</td>\n",
              "      <td>0</td>\n",
              "      <td>0</td>\n",
              "      <td>0</td>\n",
              "      <td>0</td>\n",
              "      <td>0</td>\n",
              "      <td>0</td>\n",
              "      <td>0</td>\n",
              "      <td>0</td>\n",
              "      <td>0</td>\n",
              "      <td>0</td>\n",
              "      <td>0</td>\n",
              "      <td>0</td>\n",
              "      <td>0</td>\n",
              "      <td>0</td>\n",
              "      <td>0</td>\n",
              "      <td>0</td>\n",
              "      <td>0</td>\n",
              "      <td>0</td>\n",
              "      <td>0</td>\n",
              "      <td>0</td>\n",
              "      <td>0</td>\n",
              "      <td>0</td>\n",
              "      <td>0</td>\n",
              "      <td>0</td>\n",
              "      <td>0</td>\n",
              "      <td>0</td>\n",
              "      <td>0</td>\n",
              "      <td>0</td>\n",
              "      <td>0</td>\n",
              "      <td>0</td>\n",
              "      <td>0</td>\n",
              "      <td>0</td>\n",
              "      <td>0</td>\n",
              "      <td>0</td>\n",
              "      <td>0</td>\n",
              "      <td>0</td>\n",
              "      <td>0</td>\n",
              "      <td>0</td>\n",
              "    </tr>\n",
              "    <tr>\n",
              "      <th>4</th>\n",
              "      <td>Azumo</td>\n",
              "      <td>4.9</td>\n",
              "      <td>10 reviews</td>\n",
              "      <td>$25,000+</td>\n",
              "      <td>$25 - $49 / hr</td>\n",
              "      <td>50 - 249</td>\n",
              "      <td>Rosario, Argentina</td>\n",
              "      <td>10</td>\n",
              "      <td>20</td>\n",
              "      <td>20</td>\n",
              "      <td>40</td>\n",
              "      <td>30</td>\n",
              "      <td>30</td>\n",
              "      <td>20</td>\n",
              "      <td>0</td>\n",
              "      <td>0</td>\n",
              "      <td>10</td>\n",
              "      <td>10</td>\n",
              "      <td>10</td>\n",
              "      <td>0</td>\n",
              "      <td>0</td>\n",
              "      <td>0</td>\n",
              "      <td>0</td>\n",
              "      <td>0</td>\n",
              "      <td>0</td>\n",
              "      <td>0</td>\n",
              "      <td>0</td>\n",
              "      <td>0</td>\n",
              "      <td>0</td>\n",
              "      <td>0</td>\n",
              "      <td>0</td>\n",
              "      <td>0</td>\n",
              "      <td>0</td>\n",
              "      <td>0</td>\n",
              "      <td>0</td>\n",
              "      <td>0</td>\n",
              "      <td>0</td>\n",
              "      <td>0</td>\n",
              "      <td>0</td>\n",
              "      <td>0</td>\n",
              "      <td>0</td>\n",
              "      <td>0</td>\n",
              "      <td>0</td>\n",
              "      <td>0</td>\n",
              "      <td>0</td>\n",
              "      <td>0</td>\n",
              "      <td>0</td>\n",
              "      <td>0</td>\n",
              "      <td>0</td>\n",
              "      <td>0</td>\n",
              "      <td>0</td>\n",
              "      <td>0</td>\n",
              "      <td>0</td>\n",
              "      <td>0</td>\n",
              "      <td>0</td>\n",
              "      <td>0</td>\n",
              "      <td>0</td>\n",
              "      <td>0</td>\n",
              "      <td>0</td>\n",
              "      <td>0</td>\n",
              "      <td>0</td>\n",
              "      <td>0</td>\n",
              "      <td>0</td>\n",
              "      <td>0</td>\n",
              "      <td>0</td>\n",
              "      <td>0</td>\n",
              "      <td>0</td>\n",
              "      <td>0</td>\n",
              "      <td>0</td>\n",
              "      <td>0</td>\n",
              "      <td>0</td>\n",
              "      <td>0</td>\n",
              "      <td>0</td>\n",
              "      <td>0</td>\n",
              "      <td>0</td>\n",
              "      <td>0</td>\n",
              "    </tr>\n",
              "  </tbody>\n",
              "</table>\n",
              "</div>"
            ],
            "text/plain": [
              "               company_name  rating     reviews min_project_size  \\\n",
              "0  404 // Software crafters     4.7   5 reviews         $10,000+   \n",
              "1                 Rootstrap     4.8  34 reviews         $50,000+   \n",
              "2                   Flux IT     4.9  10 reviews         $10,000+   \n",
              "3                   Clarika     4.8  14 reviews         $10,000+   \n",
              "4                     Azumo     4.9  10 reviews         $25,000+   \n",
              "\n",
              "    avg_hourly_rate employees                 location  \\\n",
              "0    $25 - $49 / hr   10 - 49  Campo Salles, Argentina   \n",
              "1  $100 - $149 / hr  50 - 249  Buenos Aires, Argentina   \n",
              "2       Undisclosed  50 - 249        Gonnet, Argentina   \n",
              "3    $25 - $49 / hr  50 - 249       Córdoba, Argentina   \n",
              "4    $25 - $49 / hr  50 - 249       Rosario, Argentina   \n",
              "\n",
              "   service_focus_mobile_app_development  \\\n",
              "0                                    40   \n",
              "1                                    25   \n",
              "2                                    30   \n",
              "3                                    20   \n",
              "4                                    10   \n",
              "\n",
              "   service_focus_custom_software_development  service_focus_web_development  \\\n",
              "0                                         30                             30   \n",
              "1                                         10                             40   \n",
              "2                                         40                             30   \n",
              "3                                         30                             10   \n",
              "4                                         20                             20   \n",
              "\n",
              "   client_focus_midmarket_10m_1b  client_focus_enterprise_1b  \\\n",
              "0                             80                          10   \n",
              "1                             40                          25   \n",
              "2                             50                          25   \n",
              "3                             70                           0   \n",
              "4                             40                          30   \n",
              "\n",
              "   client_focus_small_business  service_focus_artificial_intelligence  \\\n",
              "0                           10                                      0   \n",
              "1                           35                                     25   \n",
              "2                           25                                      0   \n",
              "3                           30                                      0   \n",
              "4                           30                                     20   \n",
              "\n",
              "   service_focus_it_staff_augmentation  service_focus_it_strategy_consulting  \\\n",
              "0                                    0                                     0   \n",
              "1                                    0                                     0   \n",
              "2                                    0                                     0   \n",
              "3                                   30                                    10   \n",
              "4                                    0                                     0   \n",
              "\n",
              "   service_focus_bi_big_data_consulting_si  service_focus_blockchain  \\\n",
              "0                                        0                         0   \n",
              "1                                        0                         0   \n",
              "2                                        0                         0   \n",
              "3                                        0                         0   \n",
              "4                                       10                        10   \n",
              "\n",
              "   service_focus_cloud_consulting_si  service_focus_application_testing  \\\n",
              "0                                  0                                  0   \n",
              "1                                  0                                  0   \n",
              "2                                  0                                  0   \n",
              "3                                  0                                  0   \n",
              "4                                 10                                  0   \n",
              "\n",
              "   service_focus_architectural_design  service_focus_uxui_design  \\\n",
              "0                                   0                          0   \n",
              "1                                   0                          0   \n",
              "2                                   0                          0   \n",
              "3                                   0                          0   \n",
              "4                                   0                          0   \n",
              "\n",
              "   service_focus_erp_consulting_and_si  service_focus_ecommerce_development  \\\n",
              "0                                    0                                    0   \n",
              "1                                    0                                    0   \n",
              "2                                    0                                    0   \n",
              "3                                    0                                    0   \n",
              "4                                    0                                    0   \n",
              "\n",
              "   service_focus_iot_development  service_focus_enterprise_app_modernization  \\\n",
              "0                              0                                           0   \n",
              "1                              0                                           0   \n",
              "2                              0                                           0   \n",
              "3                              0                                           0   \n",
              "4                              0                                           0   \n",
              "\n",
              "   service_focus_arvr_development  service_focus_crm_consulting_and_si  \\\n",
              "0                               0                                    0   \n",
              "1                               0                                    0   \n",
              "2                               0                                    0   \n",
              "3                               0                                    0   \n",
              "4                               0                                    0   \n",
              "\n",
              "   service_focus_other  service_focus_content_marketing  \\\n",
              "0                    0                                0   \n",
              "1                    0                                0   \n",
              "2                    0                                0   \n",
              "3                    0                                0   \n",
              "4                    0                                0   \n",
              "\n",
              "   service_focus_digital_strategy  service_focus_social_media_marketing  \\\n",
              "0                               0                                     0   \n",
              "1                               0                                     0   \n",
              "2                               0                                     0   \n",
              "3                               0                                     0   \n",
              "4                               0                                     0   \n",
              "\n",
              "   service_focus_web_design  service_focus_it_managed_services  \\\n",
              "0                         0                                  0   \n",
              "1                         0                                  0   \n",
              "2                         0                                  0   \n",
              "3                         0                                  0   \n",
              "4                         0                                  0   \n",
              "\n",
              "   service_focus_other_it_consulting_and_si  \\\n",
              "0                                         0   \n",
              "1                                         0   \n",
              "2                                         0   \n",
              "3                                         0   \n",
              "4                                         0   \n",
              "\n",
              "   service_focus_application_management_support  service_focus_product_design  \\\n",
              "0                                             0                             0   \n",
              "1                                             0                             0   \n",
              "2                                             0                             0   \n",
              "3                                             0                             0   \n",
              "4                                             0                             0   \n",
              "\n",
              "   service_focus_other_application_development  \\\n",
              "0                                            0   \n",
              "1                                            0   \n",
              "2                                            0   \n",
              "3                                            0   \n",
              "4                                            0   \n",
              "\n",
              "   service_focus_search_engine_optimization  service_focus_graphic_design  \\\n",
              "0                                         0                             0   \n",
              "1                                         0                             0   \n",
              "2                                         0                             0   \n",
              "3                                         0                             0   \n",
              "4                                         0                             0   \n",
              "\n",
              "   service_focus_hr_services  service_focus_wearable_app_development  \\\n",
              "0                          0                                       0   \n",
              "1                          0                                       0   \n",
              "2                          0                                       0   \n",
              "3                          0                                       0   \n",
              "4                          0                                       0   \n",
              "\n",
              "   service_focus_branding  service_focus_email_marketing  \\\n",
              "0                       0                              0   \n",
              "1                       0                              0   \n",
              "2                       0                              0   \n",
              "3                       0                              0   \n",
              "4                       0                              0   \n",
              "\n",
              "   service_focus_advertising  service_focus_logo  \\\n",
              "0                          0                   0   \n",
              "1                          0                   0   \n",
              "2                          0                   0   \n",
              "3                          0                   0   \n",
              "4                          0                   0   \n",
              "\n",
              "   service_focus_video_production  service_focus_market_research  \\\n",
              "0                               0                              0   \n",
              "1                               0                              0   \n",
              "2                               0                              0   \n",
              "3                               0                              0   \n",
              "4                               0                              0   \n",
              "\n",
              "   service_focus_pay_per_click  service_focus_cybersecurity  \\\n",
              "0                            0                            0   \n",
              "1                            0                            0   \n",
              "2                            0                            0   \n",
              "3                            0                            0   \n",
              "4                            0                            0   \n",
              "\n",
              "   service_focus_accounting  service_focus_business_consulting  \\\n",
              "0                         0                                  0   \n",
              "1                         0                                  0   \n",
              "2                         0                                  0   \n",
              "3                         0                                  0   \n",
              "4                         0                                  0   \n",
              "\n",
              "   service_focus_translation  service_focus_other_design  \\\n",
              "0                          0                           0   \n",
              "1                          0                           0   \n",
              "2                          0                           0   \n",
              "3                          0                           0   \n",
              "4                          0                           0   \n",
              "\n",
              "   service_focus_other_digital_marketing  service_focus_mobile_app_marketing  \\\n",
              "0                                      0                                   0   \n",
              "1                                      0                                   0   \n",
              "2                                      0                                   0   \n",
              "3                                      0                                   0   \n",
              "4                                      0                                   0   \n",
              "\n",
              "   service_focus_sales_outsourcing  service_focus_media_planning_buying  \\\n",
              "0                                0                                    0   \n",
              "1                                0                                    0   \n",
              "2                                0                                    0   \n",
              "3                                0                                    0   \n",
              "4                                0                                    0   \n",
              "\n",
              "   service_focus_back_office_outsourcing  \\\n",
              "0                                      0   \n",
              "1                                      0   \n",
              "2                                      0   \n",
              "3                                      0   \n",
              "4                                      0   \n",
              "\n",
              "   service_focus_conversion_optimization  service_focus_corporate_training  \\\n",
              "0                                      0                                 0   \n",
              "1                                      0                                 0   \n",
              "2                                      0                                 0   \n",
              "3                                      0                                 0   \n",
              "4                                      0                                 0   \n",
              "\n",
              "   service_focus_marketing_strategy  service_focus_public_relations  \\\n",
              "0                                 0                               0   \n",
              "1                                 0                               0   \n",
              "2                                 0                               0   \n",
              "3                                 0                               0   \n",
              "4                                 0                               0   \n",
              "\n",
              "   service_focus_corporate_photography  service_focus_packaging_design  \\\n",
              "0                                    0                               0   \n",
              "1                                    0                               0   \n",
              "2                                    0                               0   \n",
              "3                                    0                               0   \n",
              "4                                    0                               0   \n",
              "\n",
              "   service_focus_print_design  service_focus_call_center_services  \\\n",
              "0                           0                                   0   \n",
              "1                           0                                   0   \n",
              "2                           0                                   0   \n",
              "3                           0                                   0   \n",
              "4                           0                                   0   \n",
              "\n",
              "   service_focus_customer_service_outsourcing  service_focus_ocean_freight  \\\n",
              "0                                           0                            0   \n",
              "1                                           0                            0   \n",
              "2                                           0                            0   \n",
              "3                                           0                            0   \n",
              "4                                           0                            0   \n",
              "\n",
              "   service_focus_logistics_supply_chain_consulting  service_focus_trucking  \\\n",
              "0                                                0                       0   \n",
              "1                                                0                       0   \n",
              "2                                                0                       0   \n",
              "3                                                0                       0   \n",
              "4                                                0                       0   \n",
              "\n",
              "   service_focus_air_freight  service_focus_freight_forwarding  \\\n",
              "0                          0                                 0   \n",
              "1                          0                                 0   \n",
              "2                          0                                 0   \n",
              "3                          0                                 0   \n",
              "4                          0                                 0   \n",
              "\n",
              "   service_focus_customs_brokerage  \\\n",
              "0                                0   \n",
              "1                                0   \n",
              "2                                0   \n",
              "3                                0   \n",
              "4                                0   \n",
              "\n",
              "   service_focus_commercial_financing_funding_investment  \\\n",
              "0                                                  0       \n",
              "1                                                  0       \n",
              "2                                                  0       \n",
              "3                                                  0       \n",
              "4                                                  0       \n",
              "\n",
              "   service_focus_unified_communications_consulting_si  \n",
              "0                                                  0   \n",
              "1                                                  0   \n",
              "2                                                  0   \n",
              "3                                                  0   \n",
              "4                                                  0   "
            ]
          },
          "execution_count": 33,
          "metadata": {},
          "output_type": "execute_result"
        }
      ],
      "source": [
        "companies.head()"
      ]
    },
    {
      "cell_type": "markdown",
      "metadata": {},
      "source": [
        "En el caso particualar de `reviews`, se le agrega la palabra `review/s` ademas del numero.\n",
        "Vamos a quedarnos solo con el numero"
      ]
    },
    {
      "cell_type": "code",
      "execution_count": 34,
      "metadata": {},
      "outputs": [],
      "source": [
        "companies['reviews'] = companies.reviews.str.replace('[reviews|review]', '').astype(int)"
      ]
    },
    {
      "cell_type": "markdown",
      "metadata": {},
      "source": [
        "Tenemos muchas columnas que representan el `service_focus` y `client_focus`.\n",
        "\n",
        "Algunas son muy especificas, teniendo 1 o 2 empresas que se dedican a eso.\n",
        "\n",
        "Vamos a quedarnos con aquellas columnas de `service_focus` y `client_focus` que aparezcan en al menos el 10% de las empresas que tenemos."
      ]
    },
    {
      "cell_type": "code",
      "execution_count": 35,
      "metadata": {},
      "outputs": [
        {
          "data": {
            "text/plain": [
              "(538, 76)"
            ]
          },
          "execution_count": 35,
          "metadata": {},
          "output_type": "execute_result"
        }
      ],
      "source": [
        "companies.shape"
      ]
    },
    {
      "cell_type": "code",
      "execution_count": 36,
      "metadata": {},
      "outputs": [],
      "source": [
        "services = (companies[columns_porcetajes] != 0).astype(int).sum()\n",
        "columnas_procentaje_principales = ((services.sort_values() / companies.shape[0]) >= 0.1).reset_index()\n",
        "\n",
        "columnas_procentaje_principales.columns = ['columna', 'incluir']\n",
        "columnas_porcentajes_a_excluir = columnas_procentaje_principales.query('incluir == False').columna.tolist()"
      ]
    },
    {
      "cell_type": "code",
      "execution_count": 37,
      "metadata": {},
      "outputs": [],
      "source": [
        "companies = companies[companies.columns.difference(columnas_porcentajes_a_excluir)]"
      ]
    },
    {
      "cell_type": "code",
      "execution_count": 38,
      "metadata": {},
      "outputs": [
        {
          "data": {
            "text/plain": [
              "(538, 22)"
            ]
          },
          "execution_count": 38,
          "metadata": {},
          "output_type": "execute_result"
        }
      ],
      "source": [
        "companies.shape"
      ]
    },
    {
      "cell_type": "code",
      "execution_count": 39,
      "metadata": {},
      "outputs": [
        {
          "data": {
            "text/html": [
              "<div>\n",
              "<style scoped>\n",
              "    .dataframe tbody tr th:only-of-type {\n",
              "        vertical-align: middle;\n",
              "    }\n",
              "\n",
              "    .dataframe tbody tr th {\n",
              "        vertical-align: top;\n",
              "    }\n",
              "\n",
              "    .dataframe thead th {\n",
              "        text-align: right;\n",
              "    }\n",
              "</style>\n",
              "<table border=\"1\" class=\"dataframe\">\n",
              "  <thead>\n",
              "    <tr style=\"text-align: right;\">\n",
              "      <th></th>\n",
              "      <th>avg_hourly_rate</th>\n",
              "      <th>client_focus_enterprise_1b</th>\n",
              "      <th>client_focus_midmarket_10m_1b</th>\n",
              "      <th>client_focus_small_business</th>\n",
              "      <th>company_name</th>\n",
              "      <th>employees</th>\n",
              "      <th>location</th>\n",
              "      <th>min_project_size</th>\n",
              "      <th>rating</th>\n",
              "      <th>reviews</th>\n",
              "      <th>service_focus_custom_software_development</th>\n",
              "      <th>service_focus_digital_strategy</th>\n",
              "      <th>service_focus_ecommerce_development</th>\n",
              "      <th>service_focus_it_managed_services</th>\n",
              "      <th>service_focus_it_staff_augmentation</th>\n",
              "      <th>service_focus_it_strategy_consulting</th>\n",
              "      <th>service_focus_mobile_app_development</th>\n",
              "      <th>service_focus_search_engine_optimization</th>\n",
              "      <th>service_focus_social_media_marketing</th>\n",
              "      <th>service_focus_uxui_design</th>\n",
              "      <th>service_focus_web_design</th>\n",
              "      <th>service_focus_web_development</th>\n",
              "    </tr>\n",
              "  </thead>\n",
              "  <tbody>\n",
              "    <tr>\n",
              "      <th>0</th>\n",
              "      <td>$25 - $49 / hr</td>\n",
              "      <td>10</td>\n",
              "      <td>80</td>\n",
              "      <td>10</td>\n",
              "      <td>404 // Software crafters</td>\n",
              "      <td>10 - 49</td>\n",
              "      <td>Campo Salles, Argentina</td>\n",
              "      <td>$10,000+</td>\n",
              "      <td>4.7</td>\n",
              "      <td>5</td>\n",
              "      <td>30</td>\n",
              "      <td>0</td>\n",
              "      <td>0</td>\n",
              "      <td>0</td>\n",
              "      <td>0</td>\n",
              "      <td>0</td>\n",
              "      <td>40</td>\n",
              "      <td>0</td>\n",
              "      <td>0</td>\n",
              "      <td>0</td>\n",
              "      <td>0</td>\n",
              "      <td>30</td>\n",
              "    </tr>\n",
              "    <tr>\n",
              "      <th>1</th>\n",
              "      <td>$100 - $149 / hr</td>\n",
              "      <td>25</td>\n",
              "      <td>40</td>\n",
              "      <td>35</td>\n",
              "      <td>Rootstrap</td>\n",
              "      <td>50 - 249</td>\n",
              "      <td>Buenos Aires, Argentina</td>\n",
              "      <td>$50,000+</td>\n",
              "      <td>4.8</td>\n",
              "      <td>34</td>\n",
              "      <td>10</td>\n",
              "      <td>0</td>\n",
              "      <td>0</td>\n",
              "      <td>0</td>\n",
              "      <td>0</td>\n",
              "      <td>0</td>\n",
              "      <td>25</td>\n",
              "      <td>0</td>\n",
              "      <td>0</td>\n",
              "      <td>0</td>\n",
              "      <td>0</td>\n",
              "      <td>40</td>\n",
              "    </tr>\n",
              "    <tr>\n",
              "      <th>2</th>\n",
              "      <td>Undisclosed</td>\n",
              "      <td>25</td>\n",
              "      <td>50</td>\n",
              "      <td>25</td>\n",
              "      <td>Flux IT</td>\n",
              "      <td>50 - 249</td>\n",
              "      <td>Gonnet, Argentina</td>\n",
              "      <td>$10,000+</td>\n",
              "      <td>4.9</td>\n",
              "      <td>10</td>\n",
              "      <td>40</td>\n",
              "      <td>0</td>\n",
              "      <td>0</td>\n",
              "      <td>0</td>\n",
              "      <td>0</td>\n",
              "      <td>0</td>\n",
              "      <td>30</td>\n",
              "      <td>0</td>\n",
              "      <td>0</td>\n",
              "      <td>0</td>\n",
              "      <td>0</td>\n",
              "      <td>30</td>\n",
              "    </tr>\n",
              "    <tr>\n",
              "      <th>3</th>\n",
              "      <td>$25 - $49 / hr</td>\n",
              "      <td>0</td>\n",
              "      <td>70</td>\n",
              "      <td>30</td>\n",
              "      <td>Clarika</td>\n",
              "      <td>50 - 249</td>\n",
              "      <td>Córdoba, Argentina</td>\n",
              "      <td>$10,000+</td>\n",
              "      <td>4.8</td>\n",
              "      <td>14</td>\n",
              "      <td>30</td>\n",
              "      <td>0</td>\n",
              "      <td>0</td>\n",
              "      <td>0</td>\n",
              "      <td>30</td>\n",
              "      <td>10</td>\n",
              "      <td>20</td>\n",
              "      <td>0</td>\n",
              "      <td>0</td>\n",
              "      <td>0</td>\n",
              "      <td>0</td>\n",
              "      <td>10</td>\n",
              "    </tr>\n",
              "    <tr>\n",
              "      <th>4</th>\n",
              "      <td>$25 - $49 / hr</td>\n",
              "      <td>30</td>\n",
              "      <td>40</td>\n",
              "      <td>30</td>\n",
              "      <td>Azumo</td>\n",
              "      <td>50 - 249</td>\n",
              "      <td>Rosario, Argentina</td>\n",
              "      <td>$25,000+</td>\n",
              "      <td>4.9</td>\n",
              "      <td>10</td>\n",
              "      <td>20</td>\n",
              "      <td>0</td>\n",
              "      <td>0</td>\n",
              "      <td>0</td>\n",
              "      <td>0</td>\n",
              "      <td>0</td>\n",
              "      <td>10</td>\n",
              "      <td>0</td>\n",
              "      <td>0</td>\n",
              "      <td>0</td>\n",
              "      <td>0</td>\n",
              "      <td>20</td>\n",
              "    </tr>\n",
              "  </tbody>\n",
              "</table>\n",
              "</div>"
            ],
            "text/plain": [
              "    avg_hourly_rate  client_focus_enterprise_1b  \\\n",
              "0    $25 - $49 / hr                          10   \n",
              "1  $100 - $149 / hr                          25   \n",
              "2       Undisclosed                          25   \n",
              "3    $25 - $49 / hr                           0   \n",
              "4    $25 - $49 / hr                          30   \n",
              "\n",
              "   client_focus_midmarket_10m_1b  client_focus_small_business  \\\n",
              "0                             80                           10   \n",
              "1                             40                           35   \n",
              "2                             50                           25   \n",
              "3                             70                           30   \n",
              "4                             40                           30   \n",
              "\n",
              "               company_name employees                 location  \\\n",
              "0  404 // Software crafters   10 - 49  Campo Salles, Argentina   \n",
              "1                 Rootstrap  50 - 249  Buenos Aires, Argentina   \n",
              "2                   Flux IT  50 - 249        Gonnet, Argentina   \n",
              "3                   Clarika  50 - 249       Córdoba, Argentina   \n",
              "4                     Azumo  50 - 249       Rosario, Argentina   \n",
              "\n",
              "  min_project_size  rating  reviews  \\\n",
              "0         $10,000+     4.7        5   \n",
              "1         $50,000+     4.8       34   \n",
              "2         $10,000+     4.9       10   \n",
              "3         $10,000+     4.8       14   \n",
              "4         $25,000+     4.9       10   \n",
              "\n",
              "   service_focus_custom_software_development  service_focus_digital_strategy  \\\n",
              "0                                         30                               0   \n",
              "1                                         10                               0   \n",
              "2                                         40                               0   \n",
              "3                                         30                               0   \n",
              "4                                         20                               0   \n",
              "\n",
              "   service_focus_ecommerce_development  service_focus_it_managed_services  \\\n",
              "0                                    0                                  0   \n",
              "1                                    0                                  0   \n",
              "2                                    0                                  0   \n",
              "3                                    0                                  0   \n",
              "4                                    0                                  0   \n",
              "\n",
              "   service_focus_it_staff_augmentation  service_focus_it_strategy_consulting  \\\n",
              "0                                    0                                     0   \n",
              "1                                    0                                     0   \n",
              "2                                    0                                     0   \n",
              "3                                   30                                    10   \n",
              "4                                    0                                     0   \n",
              "\n",
              "   service_focus_mobile_app_development  \\\n",
              "0                                    40   \n",
              "1                                    25   \n",
              "2                                    30   \n",
              "3                                    20   \n",
              "4                                    10   \n",
              "\n",
              "   service_focus_search_engine_optimization  \\\n",
              "0                                         0   \n",
              "1                                         0   \n",
              "2                                         0   \n",
              "3                                         0   \n",
              "4                                         0   \n",
              "\n",
              "   service_focus_social_media_marketing  service_focus_uxui_design  \\\n",
              "0                                     0                          0   \n",
              "1                                     0                          0   \n",
              "2                                     0                          0   \n",
              "3                                     0                          0   \n",
              "4                                     0                          0   \n",
              "\n",
              "   service_focus_web_design  service_focus_web_development  \n",
              "0                         0                             30  \n",
              "1                         0                             40  \n",
              "2                         0                             30  \n",
              "3                         0                             10  \n",
              "4                         0                             20  "
            ]
          },
          "execution_count": 39,
          "metadata": {},
          "output_type": "execute_result"
        }
      ],
      "source": [
        "companies.head()"
      ]
    },
    {
      "cell_type": "markdown",
      "metadata": {},
      "source": [
        "La variable `employees` se presenta como rangos (por ejemplo `10-49`).\n",
        "\n",
        "Vamos a cambiarla a una variable numerica imputandole el valor medio del rango.\n",
        "\n",
        "Para los casos extremos, `Freelancer` sera imputado con 1 mientras que `10,000+` con 10.000."
      ]
    },
    {
      "cell_type": "code",
      "execution_count": 42,
      "metadata": {},
      "outputs": [
        {
          "data": {
            "text/plain": [
              "array(['10 - 49', '50 - 249', '250 - 999', '10,000+', '2 - 9',\n",
              "       '1,000 - 9,999', 'Freelancer'], dtype=object)"
            ]
          },
          "execution_count": 42,
          "metadata": {},
          "output_type": "execute_result"
        }
      ],
      "source": [
        "companies.employees.unique()"
      ]
    },
    {
      "cell_type": "code",
      "execution_count": 43,
      "metadata": {},
      "outputs": [],
      "source": [
        "companies['employees'] = companies.employees.str.replace('Freelancer', '1')"
      ]
    },
    {
      "cell_type": "code",
      "execution_count": 44,
      "metadata": {},
      "outputs": [],
      "source": [
        "def calcular_punto_medio(value: str) -> int:\n",
        "    value = value.replace('+', '').replace(',', '')\n",
        "    values =  [int(v) for v in value.split(' - ')]\n",
        "    return int(sum(values) / len(values))"
      ]
    },
    {
      "cell_type": "code",
      "execution_count": 45,
      "metadata": {},
      "outputs": [],
      "source": [
        "companies['employees'] = companies.employees.apply(calcular_punto_medio)"
      ]
    },
    {
      "cell_type": "code",
      "execution_count": 51,
      "metadata": {},
      "outputs": [
        {
          "data": {
            "text/plain": [
              "array([   29,   149,   624, 10000,     5,  5499,     1], dtype=int64)"
            ]
          },
          "execution_count": 51,
          "metadata": {},
          "output_type": "execute_result"
        }
      ],
      "source": [
        "companies.employees.unique()"
      ]
    },
    {
      "cell_type": "markdown",
      "metadata": {},
      "source": [
        "La variable `min_project_size` presenta valores \"nulos\" con el valor `Undisclosed`.\n",
        "\n",
        "Vamos a cambiar esta variable para que sea numerica tambien."
      ]
    },
    {
      "cell_type": "code",
      "execution_count": 48,
      "metadata": {},
      "outputs": [
        {
          "data": {
            "text/plain": [
              "array(['$10,000+', '$50,000+', '$25,000+', '$5,000+', '$75,000+',\n",
              "       'Undisclosed', '$1,000+', '$250,000+', '$100,000+'], dtype=object)"
            ]
          },
          "execution_count": 48,
          "metadata": {},
          "output_type": "execute_result"
        }
      ],
      "source": [
        "companies.min_project_size.unique()"
      ]
    },
    {
      "cell_type": "code",
      "execution_count": 49,
      "metadata": {},
      "outputs": [],
      "source": [
        "companies['min_project_size'] = companies.min_project_size.str.replace('Undisclosed', '-1')\n",
        "companies['min_project_size'] = companies.min_project_size.str.replace('$', '')\n",
        "companies['min_project_size'] = companies.min_project_size.str.replace(',', '')\n",
        "companies['min_project_size'] = companies.min_project_size.str.replace('+', '')\n",
        "companies['min_project_size'] = companies.min_project_size.astype(int)"
      ]
    },
    {
      "cell_type": "code",
      "execution_count": 52,
      "metadata": {},
      "outputs": [
        {
          "data": {
            "text/plain": [
              "array([ 10000,  50000,  25000,   5000,  75000,     -1,   1000, 250000,\n",
              "       100000])"
            ]
          },
          "execution_count": 52,
          "metadata": {},
          "output_type": "execute_result"
        }
      ],
      "source": [
        "companies.min_project_size.unique()"
      ]
    },
    {
      "cell_type": "markdown",
      "metadata": {},
      "source": [
        "La variable `avg_hourly_rate` presenta rangos como `employees`.\n",
        "\n",
        "Tambien presenta valores \"nulos\" con `Undisclosed` como `min_project_size`.\n",
        "\n",
        "Vamos a imputarlo como hicimos antes con ambas."
      ]
    },
    {
      "cell_type": "code",
      "execution_count": 53,
      "metadata": {},
      "outputs": [
        {
          "data": {
            "text/plain": [
              "array(['$25 - $49 / hr', '$100 - $149 / hr', 'Undisclosed',\n",
              "       '$50 - $99 / hr', '< $25 / hr', '$150 - $199 / hr'], dtype=object)"
            ]
          },
          "execution_count": 53,
          "metadata": {},
          "output_type": "execute_result"
        }
      ],
      "source": [
        "companies.avg_hourly_rate.unique()"
      ]
    },
    {
      "cell_type": "code",
      "execution_count": 54,
      "metadata": {},
      "outputs": [],
      "source": [
        "companies['avg_hourly_rate'] = companies.avg_hourly_rate.str.replace('Undisclosed', '-1')\n",
        "companies['avg_hourly_rate'] = companies.avg_hourly_rate.str.replace(' / hr', '')\n",
        "companies['avg_hourly_rate'] = companies.avg_hourly_rate.str.replace('< ', '')\n",
        "companies['avg_hourly_rate'] = companies.avg_hourly_rate.str.replace('$', '')\n",
        "\n",
        "companies['avg_hourly_rate']  = companies.avg_hourly_rate.apply(calcular_punto_medio)"
      ]
    },
    {
      "cell_type": "code",
      "execution_count": 55,
      "metadata": {},
      "outputs": [
        {
          "data": {
            "text/plain": [
              "array([ 37, 124,  -1,  74,  25, 174], dtype=int64)"
            ]
          },
          "execution_count": 55,
          "metadata": {},
          "output_type": "execute_result"
        }
      ],
      "source": [
        "companies.avg_hourly_rate.unique()"
      ]
    },
    {
      "cell_type": "code",
      "execution_count": 106,
      "metadata": {},
      "outputs": [
        {
          "data": {
            "text/html": [
              "<div>\n",
              "<style scoped>\n",
              "    .dataframe tbody tr th:only-of-type {\n",
              "        vertical-align: middle;\n",
              "    }\n",
              "\n",
              "    .dataframe tbody tr th {\n",
              "        vertical-align: top;\n",
              "    }\n",
              "\n",
              "    .dataframe thead th {\n",
              "        text-align: right;\n",
              "    }\n",
              "</style>\n",
              "<table border=\"1\" class=\"dataframe\">\n",
              "  <thead>\n",
              "    <tr style=\"text-align: right;\">\n",
              "      <th></th>\n",
              "      <th>company_name</th>\n",
              "      <th>rating</th>\n",
              "      <th>reviews</th>\n",
              "      <th>min_project_size</th>\n",
              "      <th>avg_hourly_rate</th>\n",
              "      <th>employees</th>\n",
              "      <th>location</th>\n",
              "      <th>service_focus_search_engine_optimization</th>\n",
              "      <th>service_focus_digital_strategy</th>\n",
              "      <th>service_focus_social_media_marketing</th>\n",
              "      <th>service_focus_it_managed_services</th>\n",
              "      <th>service_focus_it_staff_augmentation</th>\n",
              "      <th>service_focus_ecommerce_development</th>\n",
              "      <th>service_focus_it_strategy_consulting</th>\n",
              "      <th>service_focus_uxui_design</th>\n",
              "      <th>client_focus_enterprise_1b</th>\n",
              "      <th>service_focus_web_design</th>\n",
              "      <th>client_focus_small_business</th>\n",
              "      <th>client_focus_midmarket_10m_1b</th>\n",
              "      <th>service_focus_mobile_app_development</th>\n",
              "      <th>service_focus_custom_software_development</th>\n",
              "      <th>service_focus_web_development</th>\n",
              "    </tr>\n",
              "  </thead>\n",
              "  <tbody>\n",
              "    <tr>\n",
              "      <th>0</th>\n",
              "      <td>404 // Software crafters</td>\n",
              "      <td>4.7</td>\n",
              "      <td>5</td>\n",
              "      <td>10000</td>\n",
              "      <td>37</td>\n",
              "      <td>29</td>\n",
              "      <td>Campo Salles, Argentina</td>\n",
              "      <td>0</td>\n",
              "      <td>0</td>\n",
              "      <td>0</td>\n",
              "      <td>0</td>\n",
              "      <td>0</td>\n",
              "      <td>0</td>\n",
              "      <td>0</td>\n",
              "      <td>0</td>\n",
              "      <td>10</td>\n",
              "      <td>0</td>\n",
              "      <td>10</td>\n",
              "      <td>80</td>\n",
              "      <td>40</td>\n",
              "      <td>30</td>\n",
              "      <td>30</td>\n",
              "    </tr>\n",
              "    <tr>\n",
              "      <th>1</th>\n",
              "      <td>Rootstrap</td>\n",
              "      <td>4.8</td>\n",
              "      <td>34</td>\n",
              "      <td>50000</td>\n",
              "      <td>124</td>\n",
              "      <td>149</td>\n",
              "      <td>Buenos Aires, Argentina</td>\n",
              "      <td>0</td>\n",
              "      <td>0</td>\n",
              "      <td>0</td>\n",
              "      <td>0</td>\n",
              "      <td>0</td>\n",
              "      <td>0</td>\n",
              "      <td>0</td>\n",
              "      <td>0</td>\n",
              "      <td>25</td>\n",
              "      <td>0</td>\n",
              "      <td>35</td>\n",
              "      <td>40</td>\n",
              "      <td>25</td>\n",
              "      <td>10</td>\n",
              "      <td>40</td>\n",
              "    </tr>\n",
              "    <tr>\n",
              "      <th>2</th>\n",
              "      <td>Flux IT</td>\n",
              "      <td>4.9</td>\n",
              "      <td>10</td>\n",
              "      <td>10000</td>\n",
              "      <td>-1</td>\n",
              "      <td>149</td>\n",
              "      <td>Gonnet, Argentina</td>\n",
              "      <td>0</td>\n",
              "      <td>0</td>\n",
              "      <td>0</td>\n",
              "      <td>0</td>\n",
              "      <td>0</td>\n",
              "      <td>0</td>\n",
              "      <td>0</td>\n",
              "      <td>0</td>\n",
              "      <td>25</td>\n",
              "      <td>0</td>\n",
              "      <td>25</td>\n",
              "      <td>50</td>\n",
              "      <td>30</td>\n",
              "      <td>40</td>\n",
              "      <td>30</td>\n",
              "    </tr>\n",
              "    <tr>\n",
              "      <th>3</th>\n",
              "      <td>Clarika</td>\n",
              "      <td>4.8</td>\n",
              "      <td>14</td>\n",
              "      <td>10000</td>\n",
              "      <td>37</td>\n",
              "      <td>149</td>\n",
              "      <td>Córdoba, Argentina</td>\n",
              "      <td>0</td>\n",
              "      <td>0</td>\n",
              "      <td>0</td>\n",
              "      <td>0</td>\n",
              "      <td>30</td>\n",
              "      <td>0</td>\n",
              "      <td>10</td>\n",
              "      <td>0</td>\n",
              "      <td>0</td>\n",
              "      <td>0</td>\n",
              "      <td>30</td>\n",
              "      <td>70</td>\n",
              "      <td>20</td>\n",
              "      <td>30</td>\n",
              "      <td>10</td>\n",
              "    </tr>\n",
              "    <tr>\n",
              "      <th>4</th>\n",
              "      <td>Azumo</td>\n",
              "      <td>4.9</td>\n",
              "      <td>10</td>\n",
              "      <td>25000</td>\n",
              "      <td>37</td>\n",
              "      <td>149</td>\n",
              "      <td>Rosario, Argentina</td>\n",
              "      <td>0</td>\n",
              "      <td>0</td>\n",
              "      <td>0</td>\n",
              "      <td>0</td>\n",
              "      <td>0</td>\n",
              "      <td>0</td>\n",
              "      <td>0</td>\n",
              "      <td>0</td>\n",
              "      <td>30</td>\n",
              "      <td>0</td>\n",
              "      <td>30</td>\n",
              "      <td>40</td>\n",
              "      <td>10</td>\n",
              "      <td>20</td>\n",
              "      <td>20</td>\n",
              "    </tr>\n",
              "  </tbody>\n",
              "</table>\n",
              "</div>"
            ],
            "text/plain": [
              "               company_name  rating  reviews  min_project_size  \\\n",
              "0  404 // Software crafters     4.7        5             10000   \n",
              "1                 Rootstrap     4.8       34             50000   \n",
              "2                   Flux IT     4.9       10             10000   \n",
              "3                   Clarika     4.8       14             10000   \n",
              "4                     Azumo     4.9       10             25000   \n",
              "\n",
              "   avg_hourly_rate  employees                 location  \\\n",
              "0               37         29  Campo Salles, Argentina   \n",
              "1              124        149  Buenos Aires, Argentina   \n",
              "2               -1        149        Gonnet, Argentina   \n",
              "3               37        149       Córdoba, Argentina   \n",
              "4               37        149       Rosario, Argentina   \n",
              "\n",
              "   service_focus_search_engine_optimization  service_focus_digital_strategy  \\\n",
              "0                                         0                               0   \n",
              "1                                         0                               0   \n",
              "2                                         0                               0   \n",
              "3                                         0                               0   \n",
              "4                                         0                               0   \n",
              "\n",
              "   service_focus_social_media_marketing  service_focus_it_managed_services  \\\n",
              "0                                     0                                  0   \n",
              "1                                     0                                  0   \n",
              "2                                     0                                  0   \n",
              "3                                     0                                  0   \n",
              "4                                     0                                  0   \n",
              "\n",
              "   service_focus_it_staff_augmentation  service_focus_ecommerce_development  \\\n",
              "0                                    0                                    0   \n",
              "1                                    0                                    0   \n",
              "2                                    0                                    0   \n",
              "3                                   30                                    0   \n",
              "4                                    0                                    0   \n",
              "\n",
              "   service_focus_it_strategy_consulting  service_focus_uxui_design  \\\n",
              "0                                     0                          0   \n",
              "1                                     0                          0   \n",
              "2                                     0                          0   \n",
              "3                                    10                          0   \n",
              "4                                     0                          0   \n",
              "\n",
              "   client_focus_enterprise_1b  service_focus_web_design  \\\n",
              "0                          10                         0   \n",
              "1                          25                         0   \n",
              "2                          25                         0   \n",
              "3                           0                         0   \n",
              "4                          30                         0   \n",
              "\n",
              "   client_focus_small_business  client_focus_midmarket_10m_1b  \\\n",
              "0                           10                             80   \n",
              "1                           35                             40   \n",
              "2                           25                             50   \n",
              "3                           30                             70   \n",
              "4                           30                             40   \n",
              "\n",
              "   service_focus_mobile_app_development  \\\n",
              "0                                    40   \n",
              "1                                    25   \n",
              "2                                    30   \n",
              "3                                    20   \n",
              "4                                    10   \n",
              "\n",
              "   service_focus_custom_software_development  service_focus_web_development  \n",
              "0                                         30                             30  \n",
              "1                                         10                             40  \n",
              "2                                         40                             30  \n",
              "3                                         30                             10  \n",
              "4                                         20                             20  "
            ]
          },
          "execution_count": 106,
          "metadata": {},
          "output_type": "execute_result"
        }
      ],
      "source": [
        "companies.head()"
      ]
    },
    {
      "cell_type": "code",
      "execution_count": 3,
      "metadata": {},
      "outputs": [],
      "source": [
        "# companies.to_csv('clutch_ar_companies.csv', index=False)\n",
        "companies = pd.read_csv('clutch_ar_companies.csv')"
      ]
    },
    {
      "cell_type": "markdown",
      "metadata": {},
      "source": [
        "## EDA"
      ]
    },
    {
      "cell_type": "code",
      "execution_count": 4,
      "metadata": {},
      "outputs": [
        {
          "data": {
            "text/plain": [
              "True     0.739777\n",
              "False    0.260223\n",
              "Name: rating, dtype: float64"
            ]
          },
          "execution_count": 4,
          "metadata": {},
          "output_type": "execute_result"
        }
      ],
      "source": [
        "(companies.rating == 0).value_counts(normalize=True)"
      ]
    },
    {
      "cell_type": "code",
      "execution_count": 5,
      "metadata": {},
      "outputs": [
        {
          "data": {
            "text/plain": [
              "(538, 22)"
            ]
          },
          "execution_count": 5,
          "metadata": {},
          "output_type": "execute_result"
        }
      ],
      "source": [
        "companies.shape"
      ]
    },
    {
      "cell_type": "code",
      "execution_count": 6,
      "metadata": {},
      "outputs": [
        {
          "data": {
            "text/plain": [
              "(398, 22)"
            ]
          },
          "execution_count": 6,
          "metadata": {},
          "output_type": "execute_result"
        }
      ],
      "source": [
        "companies.query('rating == 0').shape"
      ]
    },
    {
      "cell_type": "code",
      "execution_count": 7,
      "metadata": {},
      "outputs": [
        {
          "data": {
            "text/plain": [
              "(398, 22)"
            ]
          },
          "execution_count": 7,
          "metadata": {},
          "output_type": "execute_result"
        }
      ],
      "source": [
        "companies.query('(rating == 0) & (reviews == 0)').shape"
      ]
    },
    {
      "cell_type": "code",
      "execution_count": 8,
      "metadata": {},
      "outputs": [
        {
          "data": {
            "image/png": "[encoded data removed]",
            "text/plain": [
              "<Figure size 432x288 with 1 Axes>"
            ]
          },
          "metadata": {
            "needs_background": "light"
          },
          "output_type": "display_data"
        }
      ],
      "source": [
        "empresas_con_rating = companies.query('reviews != 0')\n",
        "plt.scatter(empresas_con_rating.reviews, empresas_con_rating.rating)\n",
        "plt.xlabel(\"reviews\")\n",
        "plt.ylabel(\"rating\")\n",
        "plt.show()"
      ]
    },
    {
      "cell_type": "code",
      "execution_count": 9,
      "metadata": {},
      "outputs": [
        {
          "data": {
            "image/png": "[encoded data removed]",
            "text/plain": [
              "<Figure size 432x288 with 1 Axes>"
            ]
          },
          "metadata": {
            "needs_background": "light"
          },
          "output_type": "display_data"
        }
      ],
      "source": [
        "companies.query('rating != 0').rating.astype(float).plot.hist()\n",
        "plt.show()"
      ]
    },
    {
      "cell_type": "markdown",
      "metadata": {},
      "source": [
        "## Clustering?"
      ]
    },
    {
      "cell_type": "markdown",
      "metadata": {},
      "source": [
        "Podriamos armar clusters de empresas para cuando el usuario elija una, le mostremos las caracteristicas de sus competidores mas similares."
      ]
    },
    {
      "cell_type": "code",
      "execution_count": 10,
      "metadata": {},
      "outputs": [],
      "source": [
        "from sklearn.preprocessing import StandardScaler\n",
        "from sklearn.cluster import KMeans\n",
        "from sklearn.pipeline import Pipeline\n",
        "from umap import UMAP"
      ]
    },
    {
      "cell_type": "code",
      "execution_count": 11,
      "metadata": {},
      "outputs": [
        {
          "data": {
            "text/plain": [
              "Index(['avg_hourly_rate', 'client_focus_enterprise_1b',\n",
              "       'client_focus_midmarket_10m_1b', 'client_focus_small_business',\n",
              "       'company_name', 'employees', 'location', 'min_project_size', 'rating',\n",
              "       'reviews', 'service_focus_custom_software_development',\n",
              "       'service_focus_digital_strategy', 'service_focus_ecommerce_development',\n",
              "       'service_focus_it_managed_services',\n",
              "       'service_focus_it_staff_augmentation',\n",
              "       'service_focus_it_strategy_consulting',\n",
              "       'service_focus_mobile_app_development',\n",
              "       'service_focus_search_engine_optimization',\n",
              "       'service_focus_social_media_marketing', 'service_focus_uxui_design',\n",
              "       'service_focus_web_design', 'service_focus_web_development'],\n",
              "      dtype='object')"
            ]
          },
          "execution_count": 11,
          "metadata": {},
          "output_type": "execute_result"
        }
      ],
      "source": [
        "companies.columns"
      ]
    },
    {
      "cell_type": "code",
      "execution_count": 14,
      "metadata": {},
      "outputs": [],
      "source": [
        "columns_clustering = [\n",
        "    columna for columna in companies.columns \n",
        "    if columna.startswith(\"service_\") or columna.startswith(\"client_focus_\")\n",
        "]"
      ]
    },
    {
      "cell_type": "code",
      "execution_count": 15,
      "metadata": {},
      "outputs": [
        {
          "data": {
            "text/plain": [
              "['client_focus_enterprise_1b',\n",
              " 'client_focus_midmarket_10m_1b',\n",
              " 'client_focus_small_business',\n",
              " 'service_focus_custom_software_development',\n",
              " 'service_focus_digital_strategy',\n",
              " 'service_focus_ecommerce_development',\n",
              " 'service_focus_it_managed_services',\n",
              " 'service_focus_it_staff_augmentation',\n",
              " 'service_focus_it_strategy_consulting',\n",
              " 'service_focus_mobile_app_development',\n",
              " 'service_focus_search_engine_optimization',\n",
              " 'service_focus_social_media_marketing',\n",
              " 'service_focus_uxui_design',\n",
              " 'service_focus_web_design',\n",
              " 'service_focus_web_development']"
            ]
          },
          "execution_count": 15,
          "metadata": {},
          "output_type": "execute_result"
        }
      ],
      "source": [
        "columns_clustering"
      ]
    },
    {
      "cell_type": "code",
      "execution_count": 16,
      "metadata": {},
      "outputs": [],
      "source": [
        "ss = StandardScaler()\n",
        "x = companies[columns_clustering]\n",
        "x = ss.fit_transform(x)"
      ]
    },
    {
      "cell_type": "code",
      "execution_count": 18,
      "metadata": {},
      "outputs": [],
      "source": [
        "umap = UMAP(n_components=4, random_state=42)\n",
        "x_reduced = umap.fit_transform(x)\n",
        "df_reduced = pd.DataFrame(x_reduced)"
      ]
    },
    {
      "cell_type": "code",
      "execution_count": 20,
      "metadata": {},
      "outputs": [
        {
          "data": {
            "image/png": "[encoded data removed]",
            "text/plain": [
              "<Figure size 720x720 with 20 Axes>"
            ]
          },
          "metadata": {
            "needs_background": "light"
          },
          "output_type": "display_data"
        }
      ],
      "source": [
        "sns.pairplot(df_reduced, kind='scatter', plot_kws={'alpha':0.3})\n",
        "plt.show()"
      ]
    },
    {
      "cell_type": "code",
      "execution_count": 21,
      "metadata": {},
      "outputs": [],
      "source": [
        "clustering_model = KMeans(n_clusters=3, random_state=42)\n",
        "df_reduced['cluster'] = clustering_model.fit_predict(df_reduced)"
      ]
    },
    {
      "cell_type": "code",
      "execution_count": 23,
      "metadata": {},
      "outputs": [
        {
          "data": {
            "image/png": "[encoded data removed]",
            "text/plain": [
              "<Figure size 762.375x720 with 20 Axes>"
            ]
          },
          "metadata": {
            "needs_background": "light"
          },
          "output_type": "display_data"
        }
      ],
      "source": [
        "sns.pairplot(df_reduced, hue=\"cluster\", kind='scatter', plot_kws={'alpha':0.3}, palette=\"tab10\")\n",
        "plt.show()"
      ]
    },
    {
      "cell_type": "code",
      "execution_count": 24,
      "metadata": {},
      "outputs": [],
      "source": [
        "model = Pipeline(steps=[\n",
        "    (\"standard_scaler\", ss),\n",
        "    (\"umap\", umap),\n",
        "    (\"clustering\", clustering_model)\n",
        "])"
      ]
    },
    {
      "cell_type": "code",
      "execution_count": 147,
      "metadata": {},
      "outputs": [],
      "source": [
        "import pickle\n",
        "\n",
        "with open('model.pkl','wb') as f:\n",
        "    pickle.dump(model, f)"
      ]
    },
    {
      "cell_type": "code",
      "execution_count": 25,
      "metadata": {},
      "outputs": [],
      "source": [
        "companies[\"cluster\"] = model.predict(companies[columns_clustering])\n",
        "\n",
        "companies.to_csv('clutch_ar_companies_cluster.csv', index=False)\n",
        "# companies = pd.read_csv('clutch_ar_companies_cluster.csv')"
      ]
    },
    {
      "cell_type": "code",
      "execution_count": 26,
      "metadata": {},
      "outputs": [
        {
          "data": {
            "text/plain": [
              "1    0.807143\n",
              "2    0.142857\n",
              "0    0.050000\n",
              "Name: cluster, dtype: float64"
            ]
          },
          "execution_count": 26,
          "metadata": {},
          "output_type": "execute_result"
        }
      ],
      "source": [
        "(\n",
        "    companies\n",
        "    .query('rating != 0')\n",
        "    .cluster\n",
        "    .value_counts(normalize=True)\n",
        ")"
      ]
    },
    {
      "cell_type": "code",
      "execution_count": null,
      "metadata": {},
      "outputs": [],
      "source": [
        "companies[\"empresa\"]"
      ]
    },
    {
      "cell_type": "code",
      "execution_count": 71,
      "metadata": {},
      "outputs": [],
      "source": [
        "empresa = companies.query('company_name == \"Flux IT\"')"
      ]
    },
    {
      "cell_type": "code",
      "execution_count": 31,
      "metadata": {},
      "outputs": [],
      "source": [
        "empresas_del_cluster = companies.query(f'cluster == {empresa.cluster}')"
      ]
    },
    {
      "cell_type": "code",
      "execution_count": 33,
      "metadata": {},
      "outputs": [
        {
          "data": {
            "text/plain": [
              "(214, 23)"
            ]
          },
          "execution_count": 33,
          "metadata": {},
          "output_type": "execute_result"
        }
      ],
      "source": [
        "empresas_del_cluster.shape"
      ]
    },
    {
      "cell_type": "code",
      "execution_count": 36,
      "metadata": {},
      "outputs": [
        {
          "data": {
            "text/html": [
              "<div>\n",
              "<style scoped>\n",
              "    .dataframe tbody tr th:only-of-type {\n",
              "        vertical-align: middle;\n",
              "    }\n",
              "\n",
              "    .dataframe tbody tr th {\n",
              "        vertical-align: top;\n",
              "    }\n",
              "\n",
              "    .dataframe thead th {\n",
              "        text-align: right;\n",
              "    }\n",
              "</style>\n",
              "<table border=\"1\" class=\"dataframe\">\n",
              "  <thead>\n",
              "    <tr style=\"text-align: right;\">\n",
              "      <th></th>\n",
              "      <th>avg_hourly_rate</th>\n",
              "      <th>client_focus_enterprise_1b</th>\n",
              "      <th>client_focus_midmarket_10m_1b</th>\n",
              "      <th>client_focus_small_business</th>\n",
              "      <th>company_name</th>\n",
              "      <th>employees</th>\n",
              "      <th>location</th>\n",
              "      <th>min_project_size</th>\n",
              "      <th>rating</th>\n",
              "      <th>reviews</th>\n",
              "      <th>service_focus_custom_software_development</th>\n",
              "      <th>service_focus_digital_strategy</th>\n",
              "      <th>service_focus_ecommerce_development</th>\n",
              "      <th>service_focus_it_managed_services</th>\n",
              "      <th>service_focus_it_staff_augmentation</th>\n",
              "      <th>service_focus_it_strategy_consulting</th>\n",
              "      <th>service_focus_mobile_app_development</th>\n",
              "      <th>service_focus_search_engine_optimization</th>\n",
              "      <th>service_focus_social_media_marketing</th>\n",
              "      <th>service_focus_uxui_design</th>\n",
              "      <th>service_focus_web_design</th>\n",
              "      <th>service_focus_web_development</th>\n",
              "      <th>cluster</th>\n",
              "    </tr>\n",
              "  </thead>\n",
              "  <tbody>\n",
              "    <tr>\n",
              "      <th>0</th>\n",
              "      <td>37</td>\n",
              "      <td>10</td>\n",
              "      <td>80</td>\n",
              "      <td>10</td>\n",
              "      <td>404 // Software crafters</td>\n",
              "      <td>29</td>\n",
              "      <td>Campo Salles, Argentina</td>\n",
              "      <td>10000</td>\n",
              "      <td>4.7</td>\n",
              "      <td>5</td>\n",
              "      <td>30</td>\n",
              "      <td>0</td>\n",
              "      <td>0</td>\n",
              "      <td>0</td>\n",
              "      <td>0</td>\n",
              "      <td>0</td>\n",
              "      <td>40</td>\n",
              "      <td>0</td>\n",
              "      <td>0</td>\n",
              "      <td>0</td>\n",
              "      <td>0</td>\n",
              "      <td>30</td>\n",
              "      <td>1</td>\n",
              "    </tr>\n",
              "    <tr>\n",
              "      <th>1</th>\n",
              "      <td>124</td>\n",
              "      <td>25</td>\n",
              "      <td>40</td>\n",
              "      <td>35</td>\n",
              "      <td>Rootstrap</td>\n",
              "      <td>149</td>\n",
              "      <td>Buenos Aires, Argentina</td>\n",
              "      <td>50000</td>\n",
              "      <td>4.8</td>\n",
              "      <td>34</td>\n",
              "      <td>10</td>\n",
              "      <td>0</td>\n",
              "      <td>0</td>\n",
              "      <td>0</td>\n",
              "      <td>0</td>\n",
              "      <td>0</td>\n",
              "      <td>25</td>\n",
              "      <td>0</td>\n",
              "      <td>0</td>\n",
              "      <td>0</td>\n",
              "      <td>0</td>\n",
              "      <td>40</td>\n",
              "      <td>1</td>\n",
              "    </tr>\n",
              "    <tr>\n",
              "      <th>2</th>\n",
              "      <td>-1</td>\n",
              "      <td>25</td>\n",
              "      <td>50</td>\n",
              "      <td>25</td>\n",
              "      <td>Flux IT</td>\n",
              "      <td>149</td>\n",
              "      <td>Gonnet, Argentina</td>\n",
              "      <td>10000</td>\n",
              "      <td>4.9</td>\n",
              "      <td>10</td>\n",
              "      <td>40</td>\n",
              "      <td>0</td>\n",
              "      <td>0</td>\n",
              "      <td>0</td>\n",
              "      <td>0</td>\n",
              "      <td>0</td>\n",
              "      <td>30</td>\n",
              "      <td>0</td>\n",
              "      <td>0</td>\n",
              "      <td>0</td>\n",
              "      <td>0</td>\n",
              "      <td>30</td>\n",
              "      <td>1</td>\n",
              "    </tr>\n",
              "    <tr>\n",
              "      <th>3</th>\n",
              "      <td>37</td>\n",
              "      <td>0</td>\n",
              "      <td>70</td>\n",
              "      <td>30</td>\n",
              "      <td>Clarika</td>\n",
              "      <td>149</td>\n",
              "      <td>Córdoba, Argentina</td>\n",
              "      <td>10000</td>\n",
              "      <td>4.8</td>\n",
              "      <td>14</td>\n",
              "      <td>30</td>\n",
              "      <td>0</td>\n",
              "      <td>0</td>\n",
              "      <td>0</td>\n",
              "      <td>30</td>\n",
              "      <td>10</td>\n",
              "      <td>20</td>\n",
              "      <td>0</td>\n",
              "      <td>0</td>\n",
              "      <td>0</td>\n",
              "      <td>0</td>\n",
              "      <td>10</td>\n",
              "      <td>1</td>\n",
              "    </tr>\n",
              "    <tr>\n",
              "      <th>4</th>\n",
              "      <td>37</td>\n",
              "      <td>30</td>\n",
              "      <td>40</td>\n",
              "      <td>30</td>\n",
              "      <td>Azumo</td>\n",
              "      <td>149</td>\n",
              "      <td>Rosario, Argentina</td>\n",
              "      <td>25000</td>\n",
              "      <td>4.9</td>\n",
              "      <td>10</td>\n",
              "      <td>20</td>\n",
              "      <td>0</td>\n",
              "      <td>0</td>\n",
              "      <td>0</td>\n",
              "      <td>0</td>\n",
              "      <td>0</td>\n",
              "      <td>10</td>\n",
              "      <td>0</td>\n",
              "      <td>0</td>\n",
              "      <td>0</td>\n",
              "      <td>0</td>\n",
              "      <td>20</td>\n",
              "      <td>1</td>\n",
              "    </tr>\n",
              "  </tbody>\n",
              "</table>\n",
              "</div>"
            ],
            "text/plain": [
              "   avg_hourly_rate  client_focus_enterprise_1b  client_focus_midmarket_10m_1b  \\\n",
              "0               37                          10                             80   \n",
              "1              124                          25                             40   \n",
              "2               -1                          25                             50   \n",
              "3               37                           0                             70   \n",
              "4               37                          30                             40   \n",
              "\n",
              "   client_focus_small_business              company_name  employees  \\\n",
              "0                           10  404 // Software crafters         29   \n",
              "1                           35                 Rootstrap        149   \n",
              "2                           25                   Flux IT        149   \n",
              "3                           30                   Clarika        149   \n",
              "4                           30                     Azumo        149   \n",
              "\n",
              "                  location  min_project_size  rating  reviews  \\\n",
              "0  Campo Salles, Argentina             10000     4.7        5   \n",
              "1  Buenos Aires, Argentina             50000     4.8       34   \n",
              "2        Gonnet, Argentina             10000     4.9       10   \n",
              "3       Córdoba, Argentina             10000     4.8       14   \n",
              "4       Rosario, Argentina             25000     4.9       10   \n",
              "\n",
              "   service_focus_custom_software_development  service_focus_digital_strategy  \\\n",
              "0                                         30                               0   \n",
              "1                                         10                               0   \n",
              "2                                         40                               0   \n",
              "3                                         30                               0   \n",
              "4                                         20                               0   \n",
              "\n",
              "   service_focus_ecommerce_development  service_focus_it_managed_services  \\\n",
              "0                                    0                                  0   \n",
              "1                                    0                                  0   \n",
              "2                                    0                                  0   \n",
              "3                                    0                                  0   \n",
              "4                                    0                                  0   \n",
              "\n",
              "   service_focus_it_staff_augmentation  service_focus_it_strategy_consulting  \\\n",
              "0                                    0                                     0   \n",
              "1                                    0                                     0   \n",
              "2                                    0                                     0   \n",
              "3                                   30                                    10   \n",
              "4                                    0                                     0   \n",
              "\n",
              "   service_focus_mobile_app_development  \\\n",
              "0                                    40   \n",
              "1                                    25   \n",
              "2                                    30   \n",
              "3                                    20   \n",
              "4                                    10   \n",
              "\n",
              "   service_focus_search_engine_optimization  \\\n",
              "0                                         0   \n",
              "1                                         0   \n",
              "2                                         0   \n",
              "3                                         0   \n",
              "4                                         0   \n",
              "\n",
              "   service_focus_social_media_marketing  service_focus_uxui_design  \\\n",
              "0                                     0                          0   \n",
              "1                                     0                          0   \n",
              "2                                     0                          0   \n",
              "3                                     0                          0   \n",
              "4                                     0                          0   \n",
              "\n",
              "   service_focus_web_design  service_focus_web_development  cluster  \n",
              "0                         0                             30        1  \n",
              "1                         0                             40        1  \n",
              "2                         0                             30        1  \n",
              "3                         0                             10        1  \n",
              "4                         0                             20        1  "
            ]
          },
          "execution_count": 36,
          "metadata": {},
          "output_type": "execute_result"
        }
      ],
      "source": [
        "empresas_del_cluster.head()"
      ]
    },
    {
      "cell_type": "code",
      "execution_count": 56,
      "metadata": {},
      "outputs": [],
      "source": [
        "import plotly.express as px"
      ]
    },
    {
      "cell_type": "code",
      "execution_count": 74,
      "metadata": {},
      "outputs": [],
      "source": [
        "empresas_del_cluster_con_rating = empresas_del_cluster.query(\"rating != 0\")\n",
        "empresas_del_cluster_con_rating[\"referencia\"] = \"competencia\"\n",
        "empresas_del_cluster_con_rating.loc[empresa.index, [\"referencia\"]] = \"nosotros\"\n",
        "empresas_del_cluster_con_rating = empresas_del_cluster_con_rating.sort_values([\"referencia\"], ascending=True)"
      ]
    },
    {
      "cell_type": "code",
      "execution_count": 87,
      "metadata": {},
      "outputs": [
        {
          "data": {
            "application/vnd.plotly.v1+json": {
              "config": {
                "plotlyServerURL": "https://plot.ly"
              },
              "data": [
                {
                  "hovertemplate": "<b>%{hovertext}</b><br><br>referencia=competencia<br>reviews=%{x}<br>rating=%{y}<br>employees=%{marker.size}<extra></extra>",
                  "hovertext": [
                    "404 // Software crafters",
                    "Menlo Technologies, A Quisitive Company",
                    "BairesDev",
                    "SINAPTIA",
                    "emBlue + Zenman",
                    "AgileEngine",
                    "SSA Group",
                    "GIGA IT",
                    "ZirconTech",
                    "Techunting LLC",
                    "Applica Corp. IT Staff Augmentation Uruguay",
                    "intive",
                    "Solvd Inc.",
                    "LoopStudio",
                    "NewBitCrew",
                    "IGGLOBAL",
                    "Blimop",
                    "Ketos-Delphin",
                    "AYI GROUP",
                    "Lab.a",
                    "Digital Beings",
                    "Flowing Code",
                    "Dividato AI Software Development",
                    "Tuxdi",
                    "GearthLogic",
                    "Altoros",
                    "White Canvas",
                    "40Q",
                    "Folka Media",
                    "MAvha",
                    "LinkSolution",
                    "EDSA",
                    "Mobeats",
                    "Cloud(X);",
                    "Sysgarage",
                    "Kovix",
                    "Made2",
                    "Agency Coda",
                    "GLOBALIS S.A.",
                    "Unagi",
                    "Baufest",
                    "Moka",
                    "Vates",
                    "BEON Tech Studio",
                    "Rise Interactive",
                    "9thWonder",
                    "Easy Software",
                    "Intelifaz",
                    "Kambrica",
                    "IMPRONTA IT",
                    "Indicius",
                    "GeekGauchos",
                    "Arbusta",
                    "IncluIT",
                    "Devias",
                    "Develone",
                    "Balloon Group",
                    "asamblo",
                    "Softion",
                    "10Pines",
                    "Julasoft",
                    "The Fuzzy Fish",
                    "Huenei IT Services",
                    "Underscope",
                    "Serfe",
                    "Zarego",
                    "Devsar",
                    "Southern Code",
                    "Darwoft",
                    "Syloper",
                    "Simplex Software",
                    "Genium",
                    "WillDom",
                    "3XM Group",
                    "NaNLABS",
                    "Crombie",
                    "Patagonian",
                    "Nybble Group",
                    "The App Master",
                    "Azumo",
                    "Clarika",
                    "Rootstrap",
                    "XOOR Inc.",
                    "Codea IT",
                    "Puzzle",
                    "SimTLiX",
                    "Bit Think",
                    "Velocity Partners",
                    "Workflow Development SA",
                    "Wolox",
                    "Novit",
                    "GM2",
                    "Innovare Software",
                    "XSide",
                    "Orbit",
                    "Adviters",
                    "Claw Studios",
                    "Southern Minds",
                    "Coorva",
                    "Virtualmind",
                    "Litebox",
                    "Kelsus",
                    "Jedify",
                    "MAGNETICO",
                    "ABstract Solutions",
                    "Hexacta",
                    "Bombieri",
                    "ZERF",
                    "Consensus",
                    "Chispa Lab",
                    "Kenility",
                    "Fulcrum Digital"
                  ],
                  "legendgroup": "competencia",
                  "marker": {
                    "color": "#636efa",
                    "size": [
                      29,
                      624,
                      5499,
                      29,
                      149,
                      624,
                      149,
                      149,
                      29,
                      149,
                      149,
                      5499,
                      624,
                      149,
                      5,
                      29,
                      149,
                      149,
                      149,
                      29,
                      29,
                      5,
                      149,
                      29,
                      29,
                      624,
                      29,
                      5,
                      29,
                      149,
                      149,
                      149,
                      149,
                      149,
                      29,
                      149,
                      5,
                      29,
                      29,
                      29,
                      624,
                      29,
                      624,
                      149,
                      624,
                      149,
                      5,
                      29,
                      29,
                      29,
                      29,
                      149,
                      624,
                      624,
                      5,
                      5,
                      149,
                      29,
                      29,
                      149,
                      29,
                      149,
                      624,
                      29,
                      29,
                      29,
                      29,
                      149,
                      149,
                      29,
                      149,
                      149,
                      624,
                      149,
                      29,
                      29,
                      149,
                      149,
                      29,
                      149,
                      149,
                      149,
                      29,
                      29,
                      29,
                      624,
                      29,
                      624,
                      29,
                      624,
                      29,
                      149,
                      5,
                      29,
                      29,
                      149,
                      5,
                      5,
                      149,
                      149,
                      149,
                      29,
                      29,
                      29,
                      29,
                      624,
                      29,
                      29,
                      149,
                      29,
                      149,
                      5499
                    ],
                    "sizemode": "area",
                    "sizeref": 13.7475,
                    "symbol": "circle"
                  },
                  "mode": "markers",
                  "name": "competencia",
                  "orientation": "v",
                  "showlegend": true,
                  "type": "scatter",
                  "x": [
                    5,
                    15,
                    43,
                    11,
                    7,
                    43,
                    15,
                    5,
                    4,
                    7,
                    3,
                    4,
                    12,
                    10,
                    6,
                    1,
                    1,
                    2,
                    1,
                    1,
                    3,
                    1,
                    2,
                    2,
                    1,
                    26,
                    11,
                    4,
                    1,
                    2,
                    7,
                    3,
                    1,
                    4,
                    1,
                    4,
                    9,
                    17,
                    4,
                    5,
                    3,
                    5,
                    13,
                    27,
                    3,
                    6,
                    3,
                    2,
                    1,
                    3,
                    5,
                    1,
                    5,
                    10,
                    2,
                    1,
                    2,
                    5,
                    2,
                    4,
                    5,
                    6,
                    15,
                    1,
                    10,
                    7,
                    15,
                    9,
                    18,
                    6,
                    10,
                    3,
                    13,
                    7,
                    13,
                    15,
                    6,
                    8,
                    7,
                    10,
                    14,
                    34,
                    21,
                    7,
                    7,
                    2,
                    1,
                    5,
                    1,
                    4,
                    2,
                    2,
                    2,
                    1,
                    3,
                    1,
                    2,
                    2,
                    2,
                    6,
                    6,
                    3,
                    1,
                    3,
                    2,
                    1,
                    9,
                    2,
                    3,
                    1,
                    3,
                    1
                  ],
                  "xaxis": "x",
                  "y": [
                    4.7,
                    4.9,
                    4.9,
                    4.8,
                    5,
                    5,
                    4.6,
                    4.3,
                    5,
                    4.9,
                    4.8,
                    4.2,
                    5,
                    5,
                    4.6,
                    4,
                    4,
                    4.2,
                    4.5,
                    5,
                    4.7,
                    5,
                    5,
                    4.8,
                    4.5,
                    4.7,
                    5,
                    5,
                    5,
                    5,
                    4.6,
                    4.7,
                    4.5,
                    5,
                    5,
                    4.8,
                    4.9,
                    4.4,
                    4.9,
                    4.8,
                    4.7,
                    5,
                    4.9,
                    4.9,
                    4.5,
                    4.9,
                    5,
                    5,
                    5,
                    4.7,
                    5,
                    5,
                    4.8,
                    4.9,
                    4.5,
                    5,
                    5,
                    5,
                    5,
                    5,
                    5,
                    4.9,
                    4.2,
                    5,
                    4.9,
                    4.8,
                    4.8,
                    4.8,
                    4.8,
                    4.8,
                    4.7,
                    4.8,
                    5,
                    4.9,
                    4.9,
                    4.8,
                    4.9,
                    4.8,
                    5,
                    4.9,
                    4.8,
                    4.8,
                    5,
                    4.7,
                    4.8,
                    4.8,
                    3.5,
                    4.7,
                    5,
                    3.4,
                    5,
                    5,
                    5,
                    4.5,
                    4.8,
                    5,
                    5,
                    5,
                    5,
                    4.9,
                    5,
                    4.7,
                    5,
                    4.8,
                    5,
                    5,
                    4.9,
                    5,
                    4.7,
                    5,
                    4.8,
                    5
                  ],
                  "yaxis": "y"
                },
                {
                  "hovertemplate": "<b>%{hovertext}</b><br><br>referencia=nosotros<br>reviews=%{x}<br>rating=%{y}<br>employees=%{marker.size}<extra></extra>",
                  "hovertext": [
                    "Flux IT"
                  ],
                  "legendgroup": "nosotros",
                  "marker": {
                    "color": "#EF553B",
                    "size": [
                      149
                    ],
                    "sizemode": "area",
                    "sizeref": 13.7475,
                    "symbol": "circle"
                  },
                  "mode": "markers",
                  "name": "nosotros",
                  "orientation": "v",
                  "showlegend": true,
                  "type": "scatter",
                  "x": [
                    10
                  ],
                  "xaxis": "x",
                  "y": [
                    4.9
                  ],
                  "yaxis": "y"
                }
              ],
              "layout": {
                "legend": {
                  "itemsizing": "constant",
                  "title": {
                    "text": "referencia"
                  },
                  "tracegroupgap": 0
                },
                "margin": {
                  "t": 60
                },
                "template": {
                  "data": {
                    "bar": [
                      {
                        "error_x": {
                          "color": "#2a3f5f"
                        },
                        "error_y": {
                          "color": "#2a3f5f"
                        },
                        "marker": {
                          "line": {
                            "color": "#E5ECF6",
                            "width": 0.5
                          },
                          "pattern": {
                            "fillmode": "overlay",
                            "size": 10,
                            "solidity": 0.2
                          }
                        },
                        "type": "bar"
                      }
                    ],
                    "barpolar": [
                      {
                        "marker": {
                          "line": {
                            "color": "#E5ECF6",
                            "width": 0.5
                          },
                          "pattern": {
                            "fillmode": "overlay",
                            "size": 10,
                            "solidity": 0.2
                          }
                        },
                        "type": "barpolar"
                      }
                    ],
                    "carpet": [
                      {
                        "aaxis": {
                          "endlinecolor": "#2a3f5f",
                          "gridcolor": "white",
                          "linecolor": "white",
                          "minorgridcolor": "white",
                          "startlinecolor": "#2a3f5f"
                        },
                        "baxis": {
                          "endlinecolor": "#2a3f5f",
                          "gridcolor": "white",
                          "linecolor": "white",
                          "minorgridcolor": "white",
                          "startlinecolor": "#2a3f5f"
                        },
                        "type": "carpet"
                      }
                    ],
                    "choropleth": [
                      {
                        "colorbar": {
                          "outlinewidth": 0,
                          "ticks": ""
                        },
                        "type": "choropleth"
                      }
                    ],
                    "contour": [
                      {
                        "colorbar": {
                          "outlinewidth": 0,
                          "ticks": ""
                        },
                        "colorscale": [
                          [
                            0,
                            "#0d0887"
                          ],
                          [
                            0.1111111111111111,
                            "#46039f"
                          ],
                          [
                            0.2222222222222222,
                            "#7201a8"
                          ],
                          [
                            0.3333333333333333,
                            "#9c179e"
                          ],
                          [
                            0.4444444444444444,
                            "#bd3786"
                          ],
                          [
                            0.5555555555555556,
                            "#d8576b"
                          ],
                          [
                            0.6666666666666666,
                            "#ed7953"
                          ],
                          [
                            0.7777777777777778,
                            "#fb9f3a"
                          ],
                          [
                            0.8888888888888888,
                            "#fdca26"
                          ],
                          [
                            1,
                            "#f0f921"
                          ]
                        ],
                        "type": "contour"
                      }
                    ],
                    "contourcarpet": [
                      {
                        "colorbar": {
                          "outlinewidth": 0,
                          "ticks": ""
                        },
                        "type": "contourcarpet"
                      }
                    ],
                    "heatmap": [
                      {
                        "colorbar": {
                          "outlinewidth": 0,
                          "ticks": ""
                        },
                        "colorscale": [
                          [
                            0,
                            "#0d0887"
                          ],
                          [
                            0.1111111111111111,
                            "#46039f"
                          ],
                          [
                            0.2222222222222222,
                            "#7201a8"
                          ],
                          [
                            0.3333333333333333,
                            "#9c179e"
                          ],
                          [
                            0.4444444444444444,
                            "#bd3786"
                          ],
                          [
                            0.5555555555555556,
                            "#d8576b"
                          ],
                          [
                            0.6666666666666666,
                            "#ed7953"
                          ],
                          [
                            0.7777777777777778,
                            "#fb9f3a"
                          ],
                          [
                            0.8888888888888888,
                            "#fdca26"
                          ],
                          [
                            1,
                            "#f0f921"
                          ]
                        ],
                        "type": "heatmap"
                      }
                    ],
                    "heatmapgl": [
                      {
                        "colorbar": {
                          "outlinewidth": 0,
                          "ticks": ""
                        },
                        "colorscale": [
                          [
                            0,
                            "#0d0887"
                          ],
                          [
                            0.1111111111111111,
                            "#46039f"
                          ],
                          [
                            0.2222222222222222,
                            "#7201a8"
                          ],
                          [
                            0.3333333333333333,
                            "#9c179e"
                          ],
                          [
                            0.4444444444444444,
                            "#bd3786"
                          ],
                          [
                            0.5555555555555556,
                            "#d8576b"
                          ],
                          [
                            0.6666666666666666,
                            "#ed7953"
                          ],
                          [
                            0.7777777777777778,
                            "#fb9f3a"
                          ],
                          [
                            0.8888888888888888,
                            "#fdca26"
                          ],
                          [
                            1,
                            "#f0f921"
                          ]
                        ],
                        "type": "heatmapgl"
                      }
                    ],
                    "histogram": [
                      {
                        "marker": {
                          "pattern": {
                            "fillmode": "overlay",
                            "size": 10,
                            "solidity": 0.2
                          }
                        },
                        "type": "histogram"
                      }
                    ],
                    "histogram2d": [
                      {
                        "colorbar": {
                          "outlinewidth": 0,
                          "ticks": ""
                        },
                        "colorscale": [
                          [
                            0,
                            "#0d0887"
                          ],
                          [
                            0.1111111111111111,
                            "#46039f"
                          ],
                          [
                            0.2222222222222222,
                            "#7201a8"
                          ],
                          [
                            0.3333333333333333,
                            "#9c179e"
                          ],
                          [
                            0.4444444444444444,
                            "#bd3786"
                          ],
                          [
                            0.5555555555555556,
                            "#d8576b"
                          ],
                          [
                            0.6666666666666666,
                            "#ed7953"
                          ],
                          [
                            0.7777777777777778,
                            "#fb9f3a"
                          ],
                          [
                            0.8888888888888888,
                            "#fdca26"
                          ],
                          [
                            1,
                            "#f0f921"
                          ]
                        ],
                        "type": "histogram2d"
                      }
                    ],
                    "histogram2dcontour": [
                      {
                        "colorbar": {
                          "outlinewidth": 0,
                          "ticks": ""
                        },
                        "colorscale": [
                          [
                            0,
                            "#0d0887"
                          ],
                          [
                            0.1111111111111111,
                            "#46039f"
                          ],
                          [
                            0.2222222222222222,
                            "#7201a8"
                          ],
                          [
                            0.3333333333333333,
                            "#9c179e"
                          ],
                          [
                            0.4444444444444444,
                            "#bd3786"
                          ],
                          [
                            0.5555555555555556,
                            "#d8576b"
                          ],
                          [
                            0.6666666666666666,
                            "#ed7953"
                          ],
                          [
                            0.7777777777777778,
                            "#fb9f3a"
                          ],
                          [
                            0.8888888888888888,
                            "#fdca26"
                          ],
                          [
                            1,
                            "#f0f921"
                          ]
                        ],
                        "type": "histogram2dcontour"
                      }
                    ],
                    "mesh3d": [
                      {
                        "colorbar": {
                          "outlinewidth": 0,
                          "ticks": ""
                        },
                        "type": "mesh3d"
                      }
                    ],
                    "parcoords": [
                      {
                        "line": {
                          "colorbar": {
                            "outlinewidth": 0,
                            "ticks": ""
                          }
                        },
                        "type": "parcoords"
                      }
                    ],
                    "pie": [
                      {
                        "automargin": true,
                        "type": "pie"
                      }
                    ],
                    "scatter": [
                      {
                        "fillpattern": {
                          "fillmode": "overlay",
                          "size": 10,
                          "solidity": 0.2
                        },
                        "type": "scatter"
                      }
                    ],
                    "scatter3d": [
                      {
                        "line": {
                          "colorbar": {
                            "outlinewidth": 0,
                            "ticks": ""
                          }
                        },
                        "marker": {
                          "colorbar": {
                            "outlinewidth": 0,
                            "ticks": ""
                          }
                        },
                        "type": "scatter3d"
                      }
                    ],
                    "scattercarpet": [
                      {
                        "marker": {
                          "colorbar": {
                            "outlinewidth": 0,
                            "ticks": ""
                          }
                        },
                        "type": "scattercarpet"
                      }
                    ],
                    "scattergeo": [
                      {
                        "marker": {
                          "colorbar": {
                            "outlinewidth": 0,
                            "ticks": ""
                          }
                        },
                        "type": "scattergeo"
                      }
                    ],
                    "scattergl": [
                      {
                        "marker": {
                          "colorbar": {
                            "outlinewidth": 0,
                            "ticks": ""
                          }
                        },
                        "type": "scattergl"
                      }
                    ],
                    "scattermapbox": [
                      {
                        "marker": {
                          "colorbar": {
                            "outlinewidth": 0,
                            "ticks": ""
                          }
                        },
                        "type": "scattermapbox"
                      }
                    ],
                    "scatterpolar": [
                      {
                        "marker": {
                          "colorbar": {
                            "outlinewidth": 0,
                            "ticks": ""
                          }
                        },
                        "type": "scatterpolar"
                      }
                    ],
                    "scatterpolargl": [
                      {
                        "marker": {
                          "colorbar": {
                            "outlinewidth": 0,
                            "ticks": ""
                          }
                        },
                        "type": "scatterpolargl"
                      }
                    ],
                    "scatterternary": [
                      {
                        "marker": {
                          "colorbar": {
                            "outlinewidth": 0,
                            "ticks": ""
                          }
                        },
                        "type": "scatterternary"
                      }
                    ],
                    "surface": [
                      {
                        "colorbar": {
                          "outlinewidth": 0,
                          "ticks": ""
                        },
                        "colorscale": [
                          [
                            0,
                            "#0d0887"
                          ],
                          [
                            0.1111111111111111,
                            "#46039f"
                          ],
                          [
                            0.2222222222222222,
                            "#7201a8"
                          ],
                          [
                            0.3333333333333333,
                            "#9c179e"
                          ],
                          [
                            0.4444444444444444,
                            "#bd3786"
                          ],
                          [
                            0.5555555555555556,
                            "#d8576b"
                          ],
                          [
                            0.6666666666666666,
                            "#ed7953"
                          ],
                          [
                            0.7777777777777778,
                            "#fb9f3a"
                          ],
                          [
                            0.8888888888888888,
                            "#fdca26"
                          ],
                          [
                            1,
                            "#f0f921"
                          ]
                        ],
                        "type": "surface"
                      }
                    ],
                    "table": [
                      {
                        "cells": {
                          "fill": {
                            "color": "#EBF0F8"
                          },
                          "line": {
                            "color": "white"
                          }
                        },
                        "header": {
                          "fill": {
                            "color": "#C8D4E3"
                          },
                          "line": {
                            "color": "white"
                          }
                        },
                        "type": "table"
                      }
                    ]
                  },
                  "layout": {
                    "annotationdefaults": {
                      "arrowcolor": "#2a3f5f",
                      "arrowhead": 0,
                      "arrowwidth": 1
                    },
                    "autotypenumbers": "strict",
                    "coloraxis": {
                      "colorbar": {
                        "outlinewidth": 0,
                        "ticks": ""
                      }
                    },
                    "colorscale": {
                      "diverging": [
                        [
                          0,
                          "#8e0152"
                        ],
                        [
                          0.1,
                          "#c51b7d"
                        ],
                        [
                          0.2,
                          "#de77ae"
                        ],
                        [
                          0.3,
                          "#f1b6da"
                        ],
                        [
                          0.4,
                          "#fde0ef"
                        ],
                        [
                          0.5,
                          "#f7f7f7"
                        ],
                        [
                          0.6,
                          "#e6f5d0"
                        ],
                        [
                          0.7,
                          "#b8e186"
                        ],
                        [
                          0.8,
                          "#7fbc41"
                        ],
                        [
                          0.9,
                          "#4d9221"
                        ],
                        [
                          1,
                          "#276419"
                        ]
                      ],
                      "sequential": [
                        [
                          0,
                          "#0d0887"
                        ],
                        [
                          0.1111111111111111,
                          "#46039f"
                        ],
                        [
                          0.2222222222222222,
                          "#7201a8"
                        ],
                        [
                          0.3333333333333333,
                          "#9c179e"
                        ],
                        [
                          0.4444444444444444,
                          "#bd3786"
                        ],
                        [
                          0.5555555555555556,
                          "#d8576b"
                        ],
                        [
                          0.6666666666666666,
                          "#ed7953"
                        ],
                        [
                          0.7777777777777778,
                          "#fb9f3a"
                        ],
                        [
                          0.8888888888888888,
                          "#fdca26"
                        ],
                        [
                          1,
                          "#f0f921"
                        ]
                      ],
                      "sequentialminus": [
                        [
                          0,
                          "#0d0887"
                        ],
                        [
                          0.1111111111111111,
                          "#46039f"
                        ],
                        [
                          0.2222222222222222,
                          "#7201a8"
                        ],
                        [
                          0.3333333333333333,
                          "#9c179e"
                        ],
                        [
                          0.4444444444444444,
                          "#bd3786"
                        ],
                        [
                          0.5555555555555556,
                          "#d8576b"
                        ],
                        [
                          0.6666666666666666,
                          "#ed7953"
                        ],
                        [
                          0.7777777777777778,
                          "#fb9f3a"
                        ],
                        [
                          0.8888888888888888,
                          "#fdca26"
                        ],
                        [
                          1,
                          "#f0f921"
                        ]
                      ]
                    },
                    "colorway": [
                      "#636efa",
                      "#EF553B",
                      "#00cc96",
                      "#ab63fa",
                      "#FFA15A",
                      "#19d3f3",
                      "#FF6692",
                      "#B6E880",
                      "#FF97FF",
                      "#FECB52"
                    ],
                    "font": {
                      "color": "#2a3f5f"
                    },
                    "geo": {
                      "bgcolor": "white",
                      "lakecolor": "white",
                      "landcolor": "#E5ECF6",
                      "showlakes": true,
                      "showland": true,
                      "subunitcolor": "white"
                    },
                    "hoverlabel": {
                      "align": "left"
                    },
                    "hovermode": "closest",
                    "mapbox": {
                      "style": "light"
                    },
                    "paper_bgcolor": "white",
                    "plot_bgcolor": "#E5ECF6",
                    "polar": {
                      "angularaxis": {
                        "gridcolor": "white",
                        "linecolor": "white",
                        "ticks": ""
                      },
                      "bgcolor": "#E5ECF6",
                      "radialaxis": {
                        "gridcolor": "white",
                        "linecolor": "white",
                        "ticks": ""
                      }
                    },
                    "scene": {
                      "xaxis": {
                        "backgroundcolor": "#E5ECF6",
                        "gridcolor": "white",
                        "gridwidth": 2,
                        "linecolor": "white",
                        "showbackground": true,
                        "ticks": "",
                        "zerolinecolor": "white"
                      },
                      "yaxis": {
                        "backgroundcolor": "#E5ECF6",
                        "gridcolor": "white",
                        "gridwidth": 2,
                        "linecolor": "white",
                        "showbackground": true,
                        "ticks": "",
                        "zerolinecolor": "white"
                      },
                      "zaxis": {
                        "backgroundcolor": "#E5ECF6",
                        "gridcolor": "white",
                        "gridwidth": 2,
                        "linecolor": "white",
                        "showbackground": true,
                        "ticks": "",
                        "zerolinecolor": "white"
                      }
                    },
                    "shapedefaults": {
                      "line": {
                        "color": "#2a3f5f"
                      }
                    },
                    "ternary": {
                      "aaxis": {
                        "gridcolor": "white",
                        "linecolor": "white",
                        "ticks": ""
                      },
                      "baxis": {
                        "gridcolor": "white",
                        "linecolor": "white",
                        "ticks": ""
                      },
                      "bgcolor": "#E5ECF6",
                      "caxis": {
                        "gridcolor": "white",
                        "linecolor": "white",
                        "ticks": ""
                      }
                    },
                    "title": {
                      "x": 0.05
                    },
                    "xaxis": {
                      "automargin": true,
                      "gridcolor": "white",
                      "linecolor": "white",
                      "ticks": "",
                      "title": {
                        "standoff": 15
                      },
                      "zerolinecolor": "white",
                      "zerolinewidth": 2
                    },
                    "yaxis": {
                      "automargin": true,
                      "gridcolor": "white",
                      "linecolor": "white",
                      "ticks": "",
                      "title": {
                        "standoff": 15
                      },
                      "zerolinecolor": "white",
                      "zerolinewidth": 2
                    }
                  }
                },
                "title": {
                  "text": "Empresas de IT similares a Flux IT"
                },
                "xaxis": {
                  "anchor": "y",
                  "domain": [
                    0,
                    1
                  ],
                  "title": {
                    "text": "reviews"
                  }
                },
                "yaxis": {
                  "anchor": "x",
                  "domain": [
                    0,
                    1
                  ],
                  "title": {
                    "text": "rating"
                  }
                }
              }
            }
          },
          "metadata": {},
          "output_type": "display_data"
        }
      ],
      "source": [
        "fig = px.scatter(empresas_del_cluster_con_rating,\n",
        "                 x=\"reviews\",\n",
        "                 y=\"rating\", \n",
        "                 color=\"referencia\", \n",
        "                 size=\"employees\",\n",
        "                 hover_name=\"company_name\")\n",
        "fig.update_layout(title='Empresas de IT similares a Flux IT')\n",
        "fig.show()"
      ]
    },
    {
      "cell_type": "code",
      "execution_count": 94,
      "metadata": {},
      "outputs": [],
      "source": [
        "columnas_client_focus = [\"company_name\", \"client_focus_enterprise_1b\", \"client_focus_midmarket_10m_1b\", \"client_focus_small_business\"]\n",
        "companies[\"client_focus_sum\"] = companies.client_focus_enterprise_1b + companies.client_focus_midmarket_10m_1b + companies.client_focus_small_business\n",
        "companies_client_focus = companies.query(\"client_focus_sum > 0\")"
      ]
    },
    {
      "cell_type": "code",
      "execution_count": 102,
      "metadata": {},
      "outputs": [],
      "source": [
        "from sklearn.decomposition import PCA"
      ]
    },
    {
      "cell_type": "code",
      "execution_count": 106,
      "metadata": {},
      "outputs": [],
      "source": [
        "pca = PCA(n_components=2)\n",
        "x = companies_client_focus[columnas_client_focus].drop(columns=[\"company_name\"])\n",
        "x = pca.fit_transform(x)"
      ]
    },
    {
      "cell_type": "code",
      "execution_count": 136,
      "metadata": {},
      "outputs": [],
      "source": [
        "companies_client_focus_pca = pd.DataFrame(x)\n",
        "companies_client_focus_pca.columns = [\"0\", \"1\"]\n",
        "companies_client_focus_pca.index = companies_client_focus.index\n",
        "companies_client_focus_pca[\"company_name\"] = companies_client_focus[\"company_name\"]\n",
        "companies_client_focus_pca[\"enterprise\"] = companies_client_focus[\"client_focus_enterprise_1b\"].astype(str) + \"%\"\n",
        "companies_client_focus_pca[\"midmarket\"] = companies_client_focus[\"client_focus_midmarket_10m_1b\"].astype(str) + \"%\"\n",
        "companies_client_focus_pca[\"small_business\"] = companies_client_focus[\"client_focus_small_business\"].astype(str) + \"%\"\n",
        "companies_client_focus_pca[\"referencia\"] = \"competencia\"\n",
        "companies_client_focus_pca.loc[empresa.index, [\"referencia\"]] = \"nosotros\"\n",
        "companies_client_focus_pca = companies_client_focus_pca.sort_values([\"referencia\"], ascending=True)\n",
        "companies_client_focus_pca[\"0\"] = companies_client_focus_pca[\"0\"] - companies_client_focus_pca.iloc[empresa.index][\"0\"].values[0]\n",
        "companies_client_focus_pca[\"1\"] = companies_client_focus_pca[\"1\"] - companies_client_focus_pca.iloc[empresa.index][\"1\"].values[0]"
      ]
    },
    {
      "cell_type": "code",
      "execution_count": 128,
      "metadata": {},
      "outputs": [
        {
          "data": {
            "text/html": [
              "<div>\n",
              "<style scoped>\n",
              "    .dataframe tbody tr th:only-of-type {\n",
              "        vertical-align: middle;\n",
              "    }\n",
              "\n",
              "    .dataframe tbody tr th {\n",
              "        vertical-align: top;\n",
              "    }\n",
              "\n",
              "    .dataframe thead th {\n",
              "        text-align: right;\n",
              "    }\n",
              "</style>\n",
              "<table border=\"1\" class=\"dataframe\">\n",
              "  <thead>\n",
              "    <tr style=\"text-align: right;\">\n",
              "      <th></th>\n",
              "      <th>0</th>\n",
              "      <th>1</th>\n",
              "      <th>company_name</th>\n",
              "      <th>enterprise</th>\n",
              "      <th>midmarket</th>\n",
              "      <th>small_business</th>\n",
              "      <th>referencia</th>\n",
              "    </tr>\n",
              "  </thead>\n",
              "  <tbody>\n",
              "    <tr>\n",
              "      <th>276</th>\n",
              "      <td>-13.754314</td>\n",
              "      <td>-22.877618</td>\n",
              "      <td>SSA Group</td>\n",
              "      <td>11%</td>\n",
              "      <td>59%</td>\n",
              "      <td>30%</td>\n",
              "      <td>competencia</td>\n",
              "    </tr>\n",
              "  </tbody>\n",
              "</table>\n",
              "</div>"
            ],
            "text/plain": [
              "             0          1 company_name enterprise midmarket small_business  \\\n",
              "276 -13.754314 -22.877618    SSA Group        11%       59%            30%   \n",
              "\n",
              "      referencia  \n",
              "276  competencia  "
            ]
          },
          "execution_count": 128,
          "metadata": {},
          "output_type": "execute_result"
        }
      ],
      "source": [
        "companies_client_focus_pca.iloc[empresa.index]"
      ]
    },
    {
      "cell_type": "code",
      "execution_count": 134,
      "metadata": {},
      "outputs": [
        {
          "data": {
            "text/plain": [
              "-13.754314307698497"
            ]
          },
          "execution_count": 134,
          "metadata": {},
          "output_type": "execute_result"
        }
      ],
      "source": [
        "companies_client_focus_pca.iloc[empresa.index][\"0\"].values[0]"
      ]
    },
    {
      "cell_type": "code",
      "execution_count": 135,
      "metadata": {},
      "outputs": [
        {
          "data": {
            "text/plain": [
              "0     -22.233523\n",
              "275    13.258004\n",
              "276     0.000000\n",
              "277   -18.471465\n",
              "278   -22.233523\n",
              "280    20.743963\n",
              "281    35.677723\n",
              "282   -18.471465\n",
              "283     2.998199\n",
              "284   -24.095473\n",
              "285    57.166465\n",
              "286   -25.957424\n",
              "274   -46.477035\n",
              "287     9.534104\n",
              "289   -12.866536\n",
              "290    -5.399656\n",
              "291    35.677723\n",
              "293    46.887582\n",
              "294    58.097441\n",
              "297   -40.891184\n",
              "298   -18.471465\n",
              "299   -31.543275\n",
              "300    58.097441\n",
              "306    58.097441\n",
              "312    46.887582\n",
              "288    46.887582\n",
              "321    80.517159\n",
              "268    -1.656677\n",
              "245    18.882012\n",
              "207    -3.537706\n",
              "208     7.672153\n",
              "210    34.746747\n",
              "211   -18.471465\n",
              "212    80.517159\n",
              "215    24.467863\n",
              "217   -16.609515\n",
              "218    11.396054\n",
              "219    57.166465\n",
              "221    41.282652\n",
              "224    17.000984\n",
              "253    32.884797\n",
              "225   -25.007370\n",
              "228    33.815772\n",
              "229   -37.167283\n",
              "230    35.677723\n",
              "231   -15.678540\n",
              "232    35.677723\n",
              "234    62.771395\n",
              "235    58.097441\n",
              "236    19.812988\n",
              "241     1.136249\n",
              "242    -9.161714\n",
              "244    13.258004\n",
              "226    24.467863\n",
              "205    33.815772\n",
              "335     9.534104\n",
              "343    -0.919528\n",
              "445    46.887582\n",
              "446   -16.609515\n",
              "451   -42.753134\n",
              "456   -31.581432\n",
              "463    -3.537706\n",
              "464    46.887582\n",
              "466    67.445349\n",
              "467   -18.471465\n",
              "468   -18.471465\n",
              "470   -12.885614\n",
              "477   -44.615084\n",
              "443    -4.487759\n",
              "478   -42.753134\n",
              "482   -25.957424\n",
              "490    35.677723\n",
              "498    33.815772\n",
              "501    80.517159\n",
              "507    -8.211660\n",
              "510   -25.007370\n",
              "512    34.746747\n",
              "515   -40.891184\n",
              "516    58.097441\n",
              "517    -8.211660\n",
              "535    69.307300\n",
              "480   -33.405225\n",
              "341    42.403638\n",
              "442    80.517159\n",
              "440    28.210843\n",
              "350    23.536888\n",
              "362   -16.609515\n",
              "363    13.258004\n",
              "368    13.258004\n",
              "382     4.860149\n",
              "386   -33.405225\n",
              "391    46.887582\n",
              "392    -3.537706\n",
              "393    80.517159\n",
              "397   -18.471465\n",
              "399   -45.546059\n",
              "441    -5.399656\n",
              "416   -12.885614\n",
              "428    24.467863\n",
              "429   -17.559569\n",
              "430    24.467863\n",
              "432   -35.305332\n",
              "433    69.307300\n",
              "434    80.517159\n",
              "435    -9.161714\n",
              "436    69.307300\n",
              "437   -31.543275\n",
              "438    80.517159\n",
              "439    17.931959\n",
              "427    20.743963\n",
              "536   -14.766643\n",
              "201    15.158112\n",
              "197   -29.681324\n",
              "39    -16.609515\n",
              "41     21.674938\n",
              "42     46.887582\n",
              "43      9.534104\n",
              "44    -22.233523\n",
              "45     -3.537706\n",
              "46    -25.957424\n",
              "47     24.467863\n",
              "49     80.517159\n",
              "50     31.953822\n",
              "51     -9.161714\n",
              "52     57.166465\n",
              "53     58.097441\n",
              "54     35.677723\n",
              "55    -14.747565\n",
              "56     24.467863\n",
              "57     46.887582\n",
              "58     46.887582\n",
              "59     35.677723\n",
              "61     46.887582\n",
              "62    -44.615084\n",
              "63    -44.615084\n",
              "66    -19.421519\n",
              "37    -18.471465\n",
              "36     58.097441\n",
              "34     35.677723\n",
              "32     58.097441\n",
              "1       2.998199\n",
              "3       2.048145\n",
              "4      -3.537706\n",
              "5      -1.675755\n",
              "6      -1.675755\n",
              "7       3.929174\n",
              "8      46.887582\n",
              "11      9.534104\n",
              "12      9.534104\n",
              "13     46.887582\n",
              "14    -36.217229\n",
              "67     24.467863\n",
              "15     35.677723\n",
              "18     -3.537706\n",
              "21    -25.957424\n",
              "22     40.351677\n",
              "23     24.467863\n",
              "24     45.025631\n",
              "25     56.235490\n",
              "26     -7.459248\n",
              "27     24.467863\n",
              "29     11.396054\n",
              "30     45.956606\n",
              "31     22.605913\n",
              "16     24.467863\n",
              "199    45.025631\n",
              "69      3.929174\n",
              "71    -39.029233\n",
              "126    24.467863\n",
              "132    58.097441\n",
              "135   -40.891184\n",
              "136   -20.371573\n",
              "138   -23.145420\n",
              "140    80.517159\n",
              "142    35.677723\n",
              "146    18.862934\n",
              "153    46.887582\n",
              "154    35.677723\n",
              "156   -11.023664\n",
              "125    58.097441\n",
              "158    -3.537706\n",
              "163    45.025631\n",
              "164    69.307300\n",
              "167     1.136249\n",
              "168   -34.336200\n",
              "169    -1.675755\n",
              "170    80.517159\n",
              "171   -44.615084\n",
              "175    35.677723\n",
              "179    19.812988\n",
              "180    80.517159\n",
              "194    46.887582\n",
              "159    24.467863\n",
              "70     -7.280685\n",
              "124    33.815772\n",
              "120   -37.129126\n",
              "72     69.307300\n",
              "73      2.067224\n",
              "74     46.887582\n",
              "75    -22.233523\n",
              "76     -9.161714\n",
              "77    -15.678540\n",
              "78     24.467863\n",
              "79    -29.681324\n",
              "82    -46.477035\n",
              "83     46.887582\n",
              "84     24.467863\n",
              "123    24.467863\n",
              "85     35.677723\n",
              "88     80.517159\n",
              "90    -27.819374\n",
              "93    -19.421519\n",
              "94    -28.750349\n",
              "97      2.048145\n",
              "100     0.186195\n",
              "108    46.887582\n",
              "109   -12.866536\n",
              "115   -12.866536\n",
              "117    46.887582\n",
              "118    24.467863\n",
              "86      7.672153\n",
              "537   -26.869320\n",
              "2      -8.211660\n",
              "Name: 0, dtype: float64"
            ]
          },
          "execution_count": 135,
          "metadata": {},
          "output_type": "execute_result"
        }
      ],
      "source": [
        "companies_client_focus_pca[\"0\"] - companies_client_focus_pca.iloc[empresa.index][\"0\"].values[0]"
      ]
    },
    {
      "cell_type": "code",
      "execution_count": 123,
      "metadata": {},
      "outputs": [
        {
          "data": {
            "application/vnd.plotly.v1+json": {
              "config": {
                "plotlyServerURL": "https://plot.ly"
              },
              "data": [
                {
                  "customdata": [
                    [
                      "10%",
                      "80%",
                      "10%"
                    ],
                    [
                      "0%",
                      "60%",
                      "40%"
                    ],
                    [
                      "11%",
                      "59%",
                      "30%"
                    ],
                    [
                      "50%",
                      "30%",
                      "20%"
                    ],
                    [
                      "10%",
                      "80%",
                      "10%"
                    ],
                    [
                      "20%",
                      "30%",
                      "50%"
                    ],
                    [
                      "0%",
                      "40%",
                      "60%"
                    ],
                    [
                      "50%",
                      "30%",
                      "20%"
                    ],
                    [
                      "25%",
                      "40%",
                      "35%"
                    ],
                    [
                      "20%",
                      "70%",
                      "10%"
                    ],
                    [
                      "5%",
                      "15%",
                      "80%"
                    ],
                    [
                      "30%",
                      "60%",
                      "10%"
                    ],
                    [
                      "80%",
                      "20%",
                      "0%"
                    ],
                    [
                      "20%",
                      "40%",
                      "40%"
                    ],
                    [
                      "50%",
                      "25%",
                      "25%"
                    ],
                    [
                      "40%",
                      "30%",
                      "30%"
                    ],
                    [
                      "0%",
                      "40%",
                      "60%"
                    ],
                    [
                      "0%",
                      "30%",
                      "70%"
                    ],
                    [
                      "0%",
                      "20%",
                      "80%"
                    ],
                    [
                      "50%",
                      "50%",
                      "0%"
                    ],
                    [
                      "50%",
                      "30%",
                      "20%"
                    ],
                    [
                      "60%",
                      "30%",
                      "10%"
                    ],
                    [
                      "0%",
                      "20%",
                      "80%"
                    ],
                    [
                      "0%",
                      "20%",
                      "80%"
                    ],
                    [
                      "0%",
                      "30%",
                      "70%"
                    ],
                    [
                      "0%",
                      "30%",
                      "70%"
                    ],
                    [
                      "0%",
                      "0%",
                      "100%"
                    ],
                    [
                      "50%",
                      "15%",
                      "35%"
                    ],
                    [
                      "30%",
                      "20%",
                      "50%"
                    ],
                    [
                      "30%",
                      "40%",
                      "30%"
                    ],
                    [
                      "30%",
                      "30%",
                      "40%"
                    ],
                    [
                      "5%",
                      "35%",
                      "60%"
                    ],
                    [
                      "50%",
                      "30%",
                      "20%"
                    ],
                    [
                      "0%",
                      "0%",
                      "100%"
                    ],
                    [
                      "0%",
                      "50%",
                      "50%"
                    ],
                    [
                      "40%",
                      "40%",
                      "20%"
                    ],
                    [
                      "10%",
                      "50%",
                      "40%"
                    ],
                    [
                      "5%",
                      "15%",
                      "80%"
                    ],
                    [
                      "0%",
                      "35%",
                      "65%"
                    ],
                    [
                      "10%",
                      "45%",
                      "45%"
                    ],
                    [
                      "15%",
                      "25%",
                      "60%"
                    ],
                    [
                      "55%",
                      "30%",
                      "15%"
                    ],
                    [
                      "10%",
                      "30%",
                      "60%"
                    ],
                    [
                      "30%",
                      "70%",
                      "0%"
                    ],
                    [
                      "0%",
                      "40%",
                      "60%"
                    ],
                    [
                      "35%",
                      "45%",
                      "20%"
                    ],
                    [
                      "0%",
                      "40%",
                      "60%"
                    ],
                    [
                      "5%",
                      "10%",
                      "85%"
                    ],
                    [
                      "0%",
                      "20%",
                      "80%"
                    ],
                    [
                      "25%",
                      "25%",
                      "50%"
                    ],
                    [
                      "35%",
                      "30%",
                      "35%"
                    ],
                    [
                      "0%",
                      "80%",
                      "20%"
                    ],
                    [
                      "0%",
                      "60%",
                      "40%"
                    ],
                    [
                      "0%",
                      "50%",
                      "50%"
                    ],
                    [
                      "10%",
                      "30%",
                      "60%"
                    ],
                    [
                      "20%",
                      "40%",
                      "40%"
                    ],
                    [
                      "34%",
                      "33%",
                      "33%"
                    ],
                    [
                      "0%",
                      "30%",
                      "70%"
                    ],
                    [
                      "40%",
                      "40%",
                      "20%"
                    ],
                    [
                      "60%",
                      "40%",
                      "0%"
                    ],
                    [
                      "0%",
                      "100%",
                      "0%"
                    ],
                    [
                      "30%",
                      "40%",
                      "30%"
                    ],
                    [
                      "0%",
                      "30%",
                      "70%"
                    ],
                    [
                      "10%",
                      "0%",
                      "90%"
                    ],
                    [
                      "50%",
                      "30%",
                      "20%"
                    ],
                    [
                      "50%",
                      "30%",
                      "20%"
                    ],
                    [
                      "20%",
                      "60%",
                      "20%"
                    ],
                    [
                      "70%",
                      "30%",
                      "0%"
                    ],
                    [
                      "5%",
                      "70%",
                      "25%"
                    ],
                    [
                      "60%",
                      "40%",
                      "0%"
                    ],
                    [
                      "30%",
                      "60%",
                      "10%"
                    ],
                    [
                      "0%",
                      "40%",
                      "60%"
                    ],
                    [
                      "10%",
                      "30%",
                      "60%"
                    ],
                    [
                      "0%",
                      "0%",
                      "100%"
                    ],
                    [
                      "25%",
                      "50%",
                      "25%"
                    ],
                    [
                      "55%",
                      "30%",
                      "15%"
                    ],
                    [
                      "5%",
                      "35%",
                      "60%"
                    ],
                    [
                      "50%",
                      "50%",
                      "0%"
                    ],
                    [
                      "0%",
                      "20%",
                      "80%"
                    ],
                    [
                      "25%",
                      "50%",
                      "25%"
                    ],
                    [
                      "0%",
                      "10%",
                      "90%"
                    ],
                    [
                      "70%",
                      "20%",
                      "10%"
                    ],
                    [
                      "0%",
                      "34%",
                      "66%"
                    ],
                    [
                      "0%",
                      "0%",
                      "100%"
                    ],
                    [
                      "10%",
                      "35%",
                      "55%"
                    ],
                    [
                      "5%",
                      "45%",
                      "50%"
                    ],
                    [
                      "40%",
                      "40%",
                      "20%"
                    ],
                    [
                      "0%",
                      "60%",
                      "40%"
                    ],
                    [
                      "0%",
                      "60%",
                      "40%"
                    ],
                    [
                      "15%",
                      "50%",
                      "35%"
                    ],
                    [
                      "70%",
                      "20%",
                      "10%"
                    ],
                    [
                      "0%",
                      "30%",
                      "70%"
                    ],
                    [
                      "30%",
                      "40%",
                      "30%"
                    ],
                    [
                      "0%",
                      "0%",
                      "100%"
                    ],
                    [
                      "50%",
                      "30%",
                      "20%"
                    ],
                    [
                      "75%",
                      "25%",
                      "0%"
                    ],
                    [
                      "40%",
                      "30%",
                      "30%"
                    ],
                    [
                      "20%",
                      "60%",
                      "20%"
                    ],
                    [
                      "0%",
                      "50%",
                      "50%"
                    ],
                    [
                      "15%",
                      "70%",
                      "15%"
                    ],
                    [
                      "0%",
                      "50%",
                      "50%"
                    ],
                    [
                      "20%",
                      "80%",
                      "0%"
                    ],
                    [
                      "0%",
                      "10%",
                      "90%"
                    ],
                    [
                      "0%",
                      "0%",
                      "100%"
                    ],
                    [
                      "0%",
                      "80%",
                      "20%"
                    ],
                    [
                      "0%",
                      "10%",
                      "90%"
                    ],
                    [
                      "60%",
                      "30%",
                      "10%"
                    ],
                    [
                      "0%",
                      "0%",
                      "100%"
                    ],
                    [
                      "5%",
                      "50%",
                      "45%"
                    ],
                    [
                      "20%",
                      "30%",
                      "50%"
                    ],
                    [
                      "0%",
                      "85%",
                      "15%"
                    ],
                    [
                      "50%",
                      "0%",
                      "50%"
                    ],
                    [
                      "50%",
                      "40%",
                      "10%"
                    ],
                    [
                      "40%",
                      "40%",
                      "20%"
                    ],
                    [
                      "15%",
                      "35%",
                      "50%"
                    ],
                    [
                      "0%",
                      "30%",
                      "70%"
                    ],
                    [
                      "20%",
                      "40%",
                      "40%"
                    ],
                    [
                      "10%",
                      "80%",
                      "10%"
                    ],
                    [
                      "30%",
                      "40%",
                      "30%"
                    ],
                    [
                      "30%",
                      "60%",
                      "10%"
                    ],
                    [
                      "0%",
                      "50%",
                      "50%"
                    ],
                    [
                      "0%",
                      "0%",
                      "100%"
                    ],
                    [
                      "20%",
                      "20%",
                      "60%"
                    ],
                    [
                      "0%",
                      "80%",
                      "20%"
                    ],
                    [
                      "5%",
                      "15%",
                      "80%"
                    ],
                    [
                      "0%",
                      "20%",
                      "80%"
                    ],
                    [
                      "0%",
                      "40%",
                      "60%"
                    ],
                    [
                      "30%",
                      "50%",
                      "20%"
                    ],
                    [
                      "0%",
                      "50%",
                      "50%"
                    ],
                    [
                      "0%",
                      "30%",
                      "70%"
                    ],
                    [
                      "0%",
                      "30%",
                      "70%"
                    ],
                    [
                      "0%",
                      "40%",
                      "60%"
                    ],
                    [
                      "0%",
                      "30%",
                      "70%"
                    ],
                    [
                      "70%",
                      "30%",
                      "0%"
                    ],
                    [
                      "70%",
                      "30%",
                      "0%"
                    ],
                    [
                      "25%",
                      "60%",
                      "15%"
                    ],
                    [
                      "50%",
                      "30%",
                      "20%"
                    ],
                    [
                      "0%",
                      "20%",
                      "80%"
                    ],
                    [
                      "0%",
                      "40%",
                      "60%"
                    ],
                    [
                      "0%",
                      "20%",
                      "80%"
                    ],
                    [
                      "25%",
                      "40%",
                      "35%"
                    ],
                    [
                      "0%",
                      "70%",
                      "30%"
                    ],
                    [
                      "30%",
                      "40%",
                      "30%"
                    ],
                    [
                      "20%",
                      "50%",
                      "30%"
                    ],
                    [
                      "20%",
                      "50%",
                      "30%"
                    ],
                    [
                      "20%",
                      "45%",
                      "35%"
                    ],
                    [
                      "0%",
                      "30%",
                      "70%"
                    ],
                    [
                      "20%",
                      "40%",
                      "40%"
                    ],
                    [
                      "20%",
                      "40%",
                      "40%"
                    ],
                    [
                      "0%",
                      "30%",
                      "70%"
                    ],
                    [
                      "55%",
                      "40%",
                      "5%"
                    ],
                    [
                      "0%",
                      "50%",
                      "50%"
                    ],
                    [
                      "0%",
                      "40%",
                      "60%"
                    ],
                    [
                      "30%",
                      "40%",
                      "30%"
                    ],
                    [
                      "30%",
                      "60%",
                      "10%"
                    ],
                    [
                      "5%",
                      "30%",
                      "65%"
                    ],
                    [
                      "0%",
                      "50%",
                      "50%"
                    ],
                    [
                      "10%",
                      "20%",
                      "70%"
                    ],
                    [
                      "10%",
                      "10%",
                      "80%"
                    ],
                    [
                      "33%",
                      "40%",
                      "27%"
                    ],
                    [
                      "0%",
                      "50%",
                      "50%"
                    ],
                    [
                      "10%",
                      "50%",
                      "40%"
                    ],
                    [
                      "5%",
                      "25%",
                      "70%"
                    ],
                    [
                      "10%",
                      "40%",
                      "50%"
                    ],
                    [
                      "0%",
                      "50%",
                      "50%"
                    ],
                    [
                      "10%",
                      "20%",
                      "70%"
                    ],
                    [
                      "20%",
                      "45%",
                      "35%"
                    ],
                    [
                      "40%",
                      "60%",
                      "0%"
                    ],
                    [
                      "0%",
                      "50%",
                      "50%"
                    ],
                    [
                      "0%",
                      "20%",
                      "80%"
                    ],
                    [
                      "50%",
                      "50%",
                      "0%"
                    ],
                    [
                      "0%",
                      "90%",
                      "10%"
                    ],
                    [
                      "45%",
                      "40%",
                      "15%"
                    ],
                    [
                      "0%",
                      "0%",
                      "100%"
                    ],
                    [
                      "0%",
                      "40%",
                      "60%"
                    ],
                    [
                      "0%",
                      "55%",
                      "45%"
                    ],
                    [
                      "0%",
                      "30%",
                      "70%"
                    ],
                    [
                      "0%",
                      "40%",
                      "60%"
                    ],
                    [
                      "10%",
                      "70%",
                      "20%"
                    ],
                    [
                      "0%",
                      "20%",
                      "80%"
                    ],
                    [
                      "30%",
                      "40%",
                      "30%"
                    ],
                    [
                      "10%",
                      "20%",
                      "70%"
                    ],
                    [
                      "0%",
                      "10%",
                      "90%"
                    ],
                    [
                      "35%",
                      "30%",
                      "35%"
                    ],
                    [
                      "75%",
                      "15%",
                      "10%"
                    ],
                    [
                      "20%",
                      "50%",
                      "30%"
                    ],
                    [
                      "0%",
                      "0%",
                      "100%"
                    ],
                    [
                      "70%",
                      "30%",
                      "0%"
                    ],
                    [
                      "0%",
                      "40%",
                      "60%"
                    ],
                    [
                      "25%",
                      "25%",
                      "50%"
                    ],
                    [
                      "0%",
                      "0%",
                      "100%"
                    ],
                    [
                      "0%",
                      "30%",
                      "70%"
                    ],
                    [
                      "0%",
                      "50%",
                      "50%"
                    ],
                    [
                      "20%",
                      "55%",
                      "25%"
                    ],
                    [
                      "10%",
                      "30%",
                      "60%"
                    ],
                    [
                      "90%",
                      "0%",
                      "10%"
                    ],
                    [
                      "0%",
                      "10%",
                      "90%"
                    ],
                    [
                      "30%",
                      "35%",
                      "35%"
                    ],
                    [
                      "0%",
                      "30%",
                      "70%"
                    ],
                    [
                      "10%",
                      "80%",
                      "10%"
                    ],
                    [
                      "0%",
                      "80%",
                      "20%"
                    ],
                    [
                      "35%",
                      "45%",
                      "20%"
                    ],
                    [
                      "0%",
                      "50%",
                      "50%"
                    ],
                    [
                      "50%",
                      "40%",
                      "10%"
                    ],
                    [
                      "80%",
                      "20%",
                      "0%"
                    ],
                    [
                      "0%",
                      "30%",
                      "70%"
                    ],
                    [
                      "0%",
                      "50%",
                      "50%"
                    ],
                    [
                      "0%",
                      "50%",
                      "50%"
                    ],
                    [
                      "0%",
                      "40%",
                      "60%"
                    ],
                    [
                      "0%",
                      "0%",
                      "100%"
                    ],
                    [
                      "40%",
                      "50%",
                      "10%"
                    ],
                    [
                      "25%",
                      "60%",
                      "15%"
                    ],
                    [
                      "45%",
                      "45%",
                      "10%"
                    ],
                    [
                      "0%",
                      "70%",
                      "30%"
                    ],
                    [
                      "10%",
                      "60%",
                      "30%"
                    ],
                    [
                      "0%",
                      "30%",
                      "70%"
                    ],
                    [
                      "50%",
                      "25%",
                      "25%"
                    ],
                    [
                      "50%",
                      "25%",
                      "25%"
                    ],
                    [
                      "0%",
                      "30%",
                      "70%"
                    ],
                    [
                      "0%",
                      "50%",
                      "50%"
                    ],
                    [
                      "30%",
                      "30%",
                      "40%"
                    ],
                    [
                      "65%",
                      "20%",
                      "15%"
                    ]
                  ],
                  "hovertemplate": "<b>%{hovertext}</b><br><br>referencia=competencia<br>0=%{x}<br>1=%{y}<br>enterprise=%{customdata[0]}<br>midmarket=%{customdata[1]}<br>small_business=%{customdata[2]}<extra></extra>",
                  "hovertext": [
                    "404 // Software crafters",
                    "CGTS Corp Inc",
                    "SSA Group",
                    "Thorus Solutions",
                    "AgileEngine",
                    "emBlue + Zenman",
                    "SINAPTIA",
                    "BairesDev",
                    "Menlo Technologies, A Quisitive Company",
                    "Solvd Inc.",
                    "White Canvas",
                    "Zetenta",
                    "POSSIBLE",
                    "40Q",
                    "IncluIT",
                    "Arbusta",
                    "Bracketmedia",
                    "GeekGauchos",
                    "Indicius",
                    "IMPRONTA IT",
                    "Kambrica",
                    "Intelifaz",
                    "Odiseo Software Development Company",
                    "Tecnopyme",
                    "Easy Software",
                    "Folka Media",
                    "MVP Builders",
                    "GIGA IT",
                    "Blink+",
                    "Global Task",
                    "ROSS Outside The Box",
                    "AppeX Technology",
                    "IntelPro",
                    "Siblings Software",
                    "GenoTecnia",
                    "Mindia",
                    "Prostart Software",
                    "Axioma IT Solutions",
                    "mvpchecklist",
                    "GOITRISE",
                    "Heliconia Software",
                    "DigitalMate",
                    "Betech Consulting",
                    "Develative",
                    "Texdinamo",
                    "Borderless Software",
                    "fuzzdea",
                    "WebLeads",
                    "SB8 Group Digital Marketing",
                    "Hoffentech",
                    "Techunting LLC",
                    "ZirconTech",
                    "Shoppias Ecommerce",
                    "Applica Corp. IT Staff Augmentation Uruguay",
                    "Advenio Software",
                    "Lutvia",
                    "Seotronix",
                    "Webexperto Software",
                    "Overactive",
                    "Kanav",
                    "Clarolab",
                    "Wakapi",
                    "Sinapsis",
                    "Dicode Group",
                    "SHIFTA",
                    "Econat",
                    "Santex",
                    "LenioLabs",
                    "MAvha",
                    "Fiera Tech",
                    "Grupo Prominente",
                    "Expertizen",
                    "BINIT",
                    "Develone",
                    "Gamifica",
                    "Minexus",
                    "UNX Digital",
                    "Fulcrum Digital",
                    "BARQIA",
                    "_coderio Software Company",
                    "Isocorp",
                    "Origin Software",
                    "Onlines & co.",
                    "LinkSolution",
                    "Mobeats",
                    "Dorve UX",
                    "INNEW",
                    "Poncho Studio",
                    "Glise",
                    "Gen IT",
                    "Kudos Commerce",
                    "Experiencias Digitales",
                    "PMA Latam",
                    "Ushuaia Creative",
                    "9thWonder",
                    "Rise Interactive",
                    "EDSA",
                    "RAD MKT",
                    "BEON Tech Studio",
                    "Vates",
                    "Moka",
                    "Baufest",
                    "Unagi",
                    "GLOBALIS S.A.",
                    "Agency Coda",
                    "Made2",
                    "Kovix",
                    "Sysgarage",
                    "Cloud(X);",
                    "NearCoders",
                    "UYGroup",
                    "Fusap",
                    "IT4W",
                    "Chispa Lab",
                    "Consensus",
                    "ZERF",
                    "Bombieri",
                    "Hexacta",
                    "ABstract Solutions",
                    "MAGNETICO",
                    "Jedify",
                    "Kelsus",
                    "Litebox",
                    "Virtualmind",
                    "Kenility",
                    "Coorva",
                    "Claw Studios",
                    "Adviters",
                    "Orbit",
                    "XSide",
                    "Innovare Software",
                    "GM2",
                    "Novit",
                    "Wolox",
                    "Workflow Development SA",
                    "Velocity Partners",
                    "SimTLiX",
                    "Southern Minds",
                    "Puzzle",
                    "Syloper",
                    "Rootstrap",
                    "Clarika",
                    "Azumo",
                    "The App Master",
                    "Nybble Group",
                    "Patagonian",
                    "Crombie",
                    "NaNLABS",
                    "3XM Group",
                    "WillDom",
                    "Genium",
                    "Bit Think",
                    "XOOR Inc.",
                    "Darwoft",
                    "Southern Code",
                    "Devsar",
                    "Zarego",
                    "Serfe",
                    "Underscope",
                    "Huenei IT Services",
                    "The Fuzzy Fish",
                    "Julasoft",
                    "10Pines",
                    "Softion",
                    "Simplex Software",
                    "Pisol",
                    "asamblo",
                    "Balloon Group",
                    "Nodku",
                    "Linkchar",
                    "ESolutions S.A.",
                    "MangooDev",
                    "intive",
                    "Codimbo",
                    "POSSUMUS",
                    "Celerative",
                    "Braintly",
                    "IT Crowd Argentina",
                    "Making Sense",
                    "Andina Tech",
                    "Bizit Global",
                    "MasterSoft",
                    "Coderguys",
                    "BlackBox Vision",
                    "Tonic3, the UX division of W3",
                    "Zennovia",
                    "E-Saurio",
                    "Guayerd",
                    "GlobeMind",
                    "Latech Factory",
                    "OutsourcingDev",
                    "Novaworks",
                    "Pampa Business Ideas",
                    "Codea IT",
                    "LoopStudio",
                    "Reserv IT Solutions",
                    "Devias",
                    "GearthLogic",
                    "Tuxdi",
                    "Dividato AI Software Development",
                    "Flowing Code",
                    "Digital Beings",
                    "Lab.a",
                    "AYI GROUP",
                    "Ketos-Delphin",
                    "Blimop",
                    "IGGLOBAL",
                    "DESNEA",
                    "Paisanos.io",
                    "Pathfinders Studio",
                    "eCloud Solutions",
                    "Solstice Mobile",
                    "Altoros",
                    "Vault Consulting",
                    "Avra Dev",
                    "Vortex Software",
                    "Folder IT",
                    "Modus",
                    "Incognito Worldwide",
                    "Vision Group NYC",
                    "NewBitCrew",
                    "Theorem"
                  ],
                  "legendgroup": "competencia",
                  "marker": {
                    "color": "#636efa",
                    "symbol": "circle"
                  },
                  "mode": "markers",
                  "name": "competencia",
                  "orientation": "v",
                  "showlegend": true,
                  "type": "scatter",
                  "x": [
                    -35.9878373712476,
                    -0.49630987276268945,
                    -13.754314307698497,
                    -32.225779724244326,
                    -35.98783737124759,
                    6.989648475390587,
                    21.9234082258439,
                    -32.225779724244326,
                    -10.756115273851862,
                    -37.8497877218226,
                    43.41215114916299,
                    -39.71173807239761,
                    -60.23134887457594,
                    -4.22021057391271,
                    -26.620850199592674,
                    -19.15397032436602,
                    21.9234082258439,
                    33.133267275147205,
                    44.34312632445049,
                    -54.64549782285092,
                    -32.225779724244326,
                    -45.29758912412264,
                    44.34312632445049,
                    44.34312632445049,
                    33.133267275147205,
                    33.133267275147205,
                    66.76284442305709,
                    -15.41099115028938,
                    5.127698124815577,
                    -17.29201997379101,
                    -6.0821609244877175,
                    20.992433050556397,
                    -32.225779724244326,
                    66.76284442305709,
                    10.713549176540607,
                    -30.363829373669322,
                    -2.358260223337701,
                    43.41215114916299,
                    27.528337750495552,
                    3.2466693013139456,
                    19.13048269998139,
                    -38.76168442418348,
                    20.061457875268893,
                    -50.9215971217009,
                    21.9234082258439,
                    -29.432854198381815,
                    21.9234082258439,
                    49.01708067381463,
                    44.34312632445049,
                    6.058673300103082,
                    -12.618065624426873,
                    -22.916027971369285,
                    -0.49630987276268945,
                    10.713549176540607,
                    20.061457875268893,
                    -4.22021057391271,
                    -14.673842399230027,
                    33.133267275147205,
                    -30.363829373669322,
                    -56.507448173425935,
                    -45.335746069975876,
                    -17.29201997379101,
                    33.133267275147205,
                    53.69103502317876,
                    -32.225779724244326,
                    -32.225779724244326,
                    -26.639928672519304,
                    -58.36939852400094,
                    -18.242073622005144,
                    -56.507448173425935,
                    -39.71173807239761,
                    21.9234082258439,
                    20.061457875268893,
                    66.76284442305709,
                    -21.96597432315516,
                    -38.76168442418348,
                    20.992433050556397,
                    -54.64549782285092,
                    44.343126324450495,
                    -21.96597432315516,
                    55.55298537375379,
                    -47.15953947469765,
                    28.649323655425878,
                    66.76284442305709,
                    14.456528350617244,
                    9.7825740012531,
                    -30.363829373669322,
                    -0.49630987276268945,
                    -0.49630987276268945,
                    -8.894164923276854,
                    -47.159539474697645,
                    33.133267275147205,
                    -17.29201997379101,
                    66.76284442305709,
                    -32.225779724244326,
                    -59.30037369928844,
                    -19.15397032436602,
                    -26.639928672519304,
                    10.713549176540607,
                    -31.313883021883445,
                    10.713549176540607,
                    -49.0596467711259,
                    55.552985373753785,
                    66.76284442305709,
                    -22.916027971369285,
                    55.552985373753785,
                    -45.29758912412264,
                    66.76284442305709,
                    4.1776444766014516,
                    6.989648475390587,
                    -28.520957496020934,
                    1.4037974236655675,
                    -43.43563877354762,
                    -30.363829373669322,
                    7.92062365067809,
                    33.133267275147205,
                    -4.22021057391271,
                    -35.98783737124759,
                    -17.29201997379101,
                    -39.71173807239761,
                    10.713549176540607,
                    66.76284442305709,
                    18.199507524693885,
                    -22.916027971369285,
                    43.41215114916299,
                    44.34312632445049,
                    21.9234082258439,
                    -28.50187902309431,
                    10.713549176540607,
                    33.133267275147205,
                    33.133267275147205,
                    21.9234082258439,
                    33.133267275147205,
                    -58.36939852400094,
                    -58.36939852400094,
                    -33.175833372458456,
                    -32.225779724244326,
                    44.34312632445049,
                    21.9234082258439,
                    44.34312632445049,
                    -10.756115273851844,
                    -11.706168922065984,
                    -17.29201997379101,
                    -15.430069623216005,
                    -15.430069623216005,
                    -9.825140098564356,
                    33.133267275147205,
                    -4.22021057391271,
                    -4.22021057391271,
                    33.133267275147205,
                    -49.971543473486776,
                    10.713549176540607,
                    21.9234082258439,
                    -17.29201997379101,
                    -39.71173807239761,
                    26.59736257520804,
                    10.713549176540607,
                    31.27131692457219,
                    42.48117597387549,
                    -21.21356279375451,
                    10.713549176540607,
                    -2.358260223337701,
                    32.20229209985969,
                    8.851598825965594,
                    10.713549176540607,
                    31.27131692457219,
                    -9.825140098564356,
                    -52.78354747227591,
                    10.713549176540607,
                    44.34312632445049,
                    -54.64549782285092,
                    -34.12588702067258,
                    -36.89973407360847,
                    66.76284442305709,
                    21.9234082258439,
                    5.108619651888958,
                    33.133267275147205,
                    21.9234082258439,
                    -24.777978321944293,
                    44.34312632445049,
                    -17.29201997379101,
                    31.27131692457219,
                    55.552985373753785,
                    -12.618065624426873,
                    -48.09051464998515,
                    -15.430069623216005,
                    66.76284442305709,
                    -58.36939852400094,
                    21.9234082258439,
                    6.058673300103082,
                    66.76284442305709,
                    33.133267275147205,
                    10.713549176540607,
                    -21.034999147867655,
                    20.061457875268893,
                    -50.88344017584766,
                    55.552985373753785,
                    -11.687090449139367,
                    33.133267275147205,
                    -35.98783737124759,
                    -22.916027971369285,
                    -29.432854198381815,
                    10.713549176540607,
                    -43.43563877354762,
                    -60.23134887457594,
                    33.133267275147205,
                    10.713549176540607,
                    10.713549176540607,
                    21.9234082258439,
                    66.76284442305709,
                    -41.573688422972616,
                    -33.175833372458456,
                    -42.504663598260116,
                    -11.706168922065984,
                    -13.568119272640995,
                    33.133267275147205,
                    -26.620850199592674,
                    -26.620850199592674,
                    33.133267275147205,
                    10.713549176540607,
                    -6.0821609244877175,
                    -40.62363477475849
                  ],
                  "xaxis": "x",
                  "y": [
                    -41.523540839914205,
                    -29.676538019610188,
                    -22.87761763448854,
                    23.17458063405617,
                    -41.52354083991421,
                    6.9835278233437155,
                    -12.432517595735346,
                    23.17458063405617,
                    1.0600264131917037,
                    -27.50451302440597,
                    11.82101673589362,
                    -13.48548520889773,
                    47.98764365670605,
                    -1.6384823885937057,
                    27.485585740024884,
                    17.777563030485354,
                    -12.432517595735346,
                    -3.8105073837979226,
                    4.811502828139498,
                    5.930560210181329,
                    23.17458063405617,
                    28.571598237626993,
                    4.811502828139498,
                    4.811502828139498,
                    -3.8105073837979226,
                    -3.8105073837979226,
                    22.055523252014346,
                    36.1075959519623,
                    21.00255563885196,
                    3.7585352149771136,
                    12.380545426914535,
                    -5.423003687981224,
                    23.17458063405617,
                    22.055523252014346,
                    -21.054527807672766,
                    9.155552818547932,
                    -15.657510204101944,
                    11.82101673589362,
                    -8.121512489766634,
                    -11.346505098133235,
                    8.596024127527016,
                    25.873089435841585,
                    1.5865102197728984,
                    -22.10749542083515,
                    -12.432517595735346,
                    2.1460389107938127,
                    -12.432517595735346,
                    16.132021841862333,
                    4.811502828139498,
                    13.993041731097835,
                    15.079054228699944,
                    -46.92055844348503,
                    -29.676538019610188,
                    -21.054527807672766,
                    1.5865102197728984,
                    -1.6384823885937057,
                    11.952749404761635,
                    -3.8105073837979226,
                    9.155552818547932,
                    19.94958802568957,
                    -64.16457886735988,
                    3.7585352149771136,
                    -3.8105073837979226,
                    27.452540855585156,
                    23.17458063405617,
                    23.17458063405617,
                    -18.882502812468548,
                    33.96861584119782,
                    -35.6000394297622,
                    19.94958802568957,
                    -13.48548520889773,
                    -12.432517595735346,
                    1.5865102197728984,
                    22.055523252014346,
                    -7.561983798745717,
                    25.873089435841585,
                    -5.423003687981224,
                    5.930560210181329,
                    4.811502828139495,
                    -7.561983798745717,
                    13.433513040076917,
                    42.59062605313523,
                    -7.259311468572893,
                    22.055523252014346,
                    -2.7244948861958127,
                    -14.045013899918644,
                    9.155552818547932,
                    -29.676538019610188,
                    -29.676538019610188,
                    -12.959001402316538,
                    42.59062605313524,
                    -3.8105073837979226,
                    3.7585352149771136,
                    22.055523252014346,
                    23.17458063405617,
                    40.97812974895193,
                    17.777563030485354,
                    -18.882502812468548,
                    -21.054527807672766,
                    -30.203021826191378,
                    -21.054527807672766,
                    -36.126523236343395,
                    13.433513040076921,
                    22.055523252014346,
                    -46.92055844348503,
                    13.433513040076921,
                    28.571598237626993,
                    22.055523252014346,
                    -18.356019005887354,
                    6.9835278233437155,
                    -51.231563549453746,
                    49.04061126986844,
                    14.55257042211875,
                    9.155552818547932,
                    -0.025986084410403905,
                    -3.8105073837979226,
                    -1.6384823885937057,
                    -41.52354083991421,
                    3.7585352149771136,
                    -13.48548520889773,
                    -21.054527807672766,
                    22.055523252014346,
                    15.605538035281137,
                    -46.92055844348503,
                    11.82101673589362,
                    4.811502828139498,
                    -12.432517595735346,
                    -4.86347499696031,
                    -21.054527807672766,
                    -3.8105073837979226,
                    -3.8105073837979226,
                    -12.432517595735346,
                    -3.8105073837979226,
                    33.96861584119782,
                    33.96861584119782,
                    -16.18399401068314,
                    23.17458063405617,
                    4.811502828139498,
                    -12.432517595735346,
                    4.811502828139498,
                    1.0600264131917072,
                    -38.298548231547606,
                    3.7585352149771136,
                    -10.260492600531126,
                    -10.260492600531126,
                    -5.949487494562415,
                    -3.8105073837979226,
                    -1.6384823885937057,
                    -1.6384823885937057,
                    -3.8105073837979226,
                    17.251079223904163,
                    -21.054527807672766,
                    -12.432517595735346,
                    3.7585352149771136,
                    -13.48548520889773,
                    -1.1119985820125124,
                    -21.054527807672766,
                    10.208520431710323,
                    18.83053064364774,
                    5.3776404960483575,
                    -21.054527807672766,
                    -15.657510204101944,
                    3.199006523956198,
                    -7.0354999921645245,
                    -21.054527807672766,
                    10.208520431710323,
                    -5.949487494562415,
                    -8.08846760532691,
                    -21.054527807672766,
                    4.811502828139498,
                    5.930560210181329,
                    -55.54256865542245,
                    11.854061620333338,
                    22.055523252014346,
                    -12.432517595735346,
                    -25.36553291364148,
                    -3.8105073837979226,
                    -12.432517595735346,
                    -32.90153062797679,
                    4.811502828139498,
                    3.7585352149771136,
                    10.208520431710323,
                    13.433513040076921,
                    15.079054228699944,
                    49.60013996088936,
                    -10.260492600531126,
                    22.055523252014346,
                    33.96861584119782,
                    -12.432517595735346,
                    13.993041731097835,
                    22.055523252014346,
                    -3.8105073837979226,
                    -21.054527807672766,
                    -14.571497706499839,
                    1.5865102197728984,
                    70.62868168415172,
                    13.433513040076921,
                    8.069540320945825,
                    -3.8105073837979226,
                    -41.52354083991421,
                    -46.92055844348503,
                    2.1460389107938127,
                    -21.054527807672766,
                    14.55257042211875,
                    47.98764365670605,
                    -3.8105073837979226,
                    -21.054527807672766,
                    -21.054527807672766,
                    -12.432517595735346,
                    22.055523252014346,
                    0.5335426066105083,
                    -16.18399401068314,
                    7.543056514364629,
                    -38.298548231547606,
                    -24.279520416039368,
                    -3.8105073837979226,
                    27.485585740024884,
                    27.485585740024884,
                    -3.8105073837979226,
                    -21.054527807672766,
                    12.380545426914535,
                    39.89211725134982
                  ],
                  "yaxis": "y"
                },
                {
                  "customdata": [
                    [
                      "25%",
                      "50%",
                      "25%"
                    ]
                  ],
                  "hovertemplate": "<b>%{hovertext}</b><br><br>referencia=nosotros<br>0=%{x}<br>1=%{y}<br>enterprise=%{customdata[0]}<br>midmarket=%{customdata[1]}<br>small_business=%{customdata[2]}<extra></extra>",
                  "hovertext": [
                    "Flux IT"
                  ],
                  "legendgroup": "nosotros",
                  "marker": {
                    "color": "#EF553B",
                    "symbol": "circle"
                  },
                  "mode": "markers",
                  "name": "nosotros",
                  "orientation": "v",
                  "showlegend": true,
                  "type": "scatter",
                  "x": [
                    -21.96597432315516
                  ],
                  "xaxis": "x",
                  "y": [
                    -7.561983798745717
                  ],
                  "yaxis": "y"
                }
              ],
              "layout": {
                "legend": {
                  "title": {
                    "text": "referencia"
                  },
                  "tracegroupgap": 0
                },
                "margin": {
                  "t": 60
                },
                "template": {
                  "data": {
                    "bar": [
                      {
                        "error_x": {
                          "color": "#2a3f5f"
                        },
                        "error_y": {
                          "color": "#2a3f5f"
                        },
                        "marker": {
                          "line": {
                            "color": "#E5ECF6",
                            "width": 0.5
                          },
                          "pattern": {
                            "fillmode": "overlay",
                            "size": 10,
                            "solidity": 0.2
                          }
                        },
                        "type": "bar"
                      }
                    ],
                    "barpolar": [
                      {
                        "marker": {
                          "line": {
                            "color": "#E5ECF6",
                            "width": 0.5
                          },
                          "pattern": {
                            "fillmode": "overlay",
                            "size": 10,
                            "solidity": 0.2
                          }
                        },
                        "type": "barpolar"
                      }
                    ],
                    "carpet": [
                      {
                        "aaxis": {
                          "endlinecolor": "#2a3f5f",
                          "gridcolor": "white",
                          "linecolor": "white",
                          "minorgridcolor": "white",
                          "startlinecolor": "#2a3f5f"
                        },
                        "baxis": {
                          "endlinecolor": "#2a3f5f",
                          "gridcolor": "white",
                          "linecolor": "white",
                          "minorgridcolor": "white",
                          "startlinecolor": "#2a3f5f"
                        },
                        "type": "carpet"
                      }
                    ],
                    "choropleth": [
                      {
                        "colorbar": {
                          "outlinewidth": 0,
                          "ticks": ""
                        },
                        "type": "choropleth"
                      }
                    ],
                    "contour": [
                      {
                        "colorbar": {
                          "outlinewidth": 0,
                          "ticks": ""
                        },
                        "colorscale": [
                          [
                            0,
                            "#0d0887"
                          ],
                          [
                            0.1111111111111111,
                            "#46039f"
                          ],
                          [
                            0.2222222222222222,
                            "#7201a8"
                          ],
                          [
                            0.3333333333333333,
                            "#9c179e"
                          ],
                          [
                            0.4444444444444444,
                            "#bd3786"
                          ],
                          [
                            0.5555555555555556,
                            "#d8576b"
                          ],
                          [
                            0.6666666666666666,
                            "#ed7953"
                          ],
                          [
                            0.7777777777777778,
                            "#fb9f3a"
                          ],
                          [
                            0.8888888888888888,
                            "#fdca26"
                          ],
                          [
                            1,
                            "#f0f921"
                          ]
                        ],
                        "type": "contour"
                      }
                    ],
                    "contourcarpet": [
                      {
                        "colorbar": {
                          "outlinewidth": 0,
                          "ticks": ""
                        },
                        "type": "contourcarpet"
                      }
                    ],
                    "heatmap": [
                      {
                        "colorbar": {
                          "outlinewidth": 0,
                          "ticks": ""
                        },
                        "colorscale": [
                          [
                            0,
                            "#0d0887"
                          ],
                          [
                            0.1111111111111111,
                            "#46039f"
                          ],
                          [
                            0.2222222222222222,
                            "#7201a8"
                          ],
                          [
                            0.3333333333333333,
                            "#9c179e"
                          ],
                          [
                            0.4444444444444444,
                            "#bd3786"
                          ],
                          [
                            0.5555555555555556,
                            "#d8576b"
                          ],
                          [
                            0.6666666666666666,
                            "#ed7953"
                          ],
                          [
                            0.7777777777777778,
                            "#fb9f3a"
                          ],
                          [
                            0.8888888888888888,
                            "#fdca26"
                          ],
                          [
                            1,
                            "#f0f921"
                          ]
                        ],
                        "type": "heatmap"
                      }
                    ],
                    "heatmapgl": [
                      {
                        "colorbar": {
                          "outlinewidth": 0,
                          "ticks": ""
                        },
                        "colorscale": [
                          [
                            0,
                            "#0d0887"
                          ],
                          [
                            0.1111111111111111,
                            "#46039f"
                          ],
                          [
                            0.2222222222222222,
                            "#7201a8"
                          ],
                          [
                            0.3333333333333333,
                            "#9c179e"
                          ],
                          [
                            0.4444444444444444,
                            "#bd3786"
                          ],
                          [
                            0.5555555555555556,
                            "#d8576b"
                          ],
                          [
                            0.6666666666666666,
                            "#ed7953"
                          ],
                          [
                            0.7777777777777778,
                            "#fb9f3a"
                          ],
                          [
                            0.8888888888888888,
                            "#fdca26"
                          ],
                          [
                            1,
                            "#f0f921"
                          ]
                        ],
                        "type": "heatmapgl"
                      }
                    ],
                    "histogram": [
                      {
                        "marker": {
                          "pattern": {
                            "fillmode": "overlay",
                            "size": 10,
                            "solidity": 0.2
                          }
                        },
                        "type": "histogram"
                      }
                    ],
                    "histogram2d": [
                      {
                        "colorbar": {
                          "outlinewidth": 0,
                          "ticks": ""
                        },
                        "colorscale": [
                          [
                            0,
                            "#0d0887"
                          ],
                          [
                            0.1111111111111111,
                            "#46039f"
                          ],
                          [
                            0.2222222222222222,
                            "#7201a8"
                          ],
                          [
                            0.3333333333333333,
                            "#9c179e"
                          ],
                          [
                            0.4444444444444444,
                            "#bd3786"
                          ],
                          [
                            0.5555555555555556,
                            "#d8576b"
                          ],
                          [
                            0.6666666666666666,
                            "#ed7953"
                          ],
                          [
                            0.7777777777777778,
                            "#fb9f3a"
                          ],
                          [
                            0.8888888888888888,
                            "#fdca26"
                          ],
                          [
                            1,
                            "#f0f921"
                          ]
                        ],
                        "type": "histogram2d"
                      }
                    ],
                    "histogram2dcontour": [
                      {
                        "colorbar": {
                          "outlinewidth": 0,
                          "ticks": ""
                        },
                        "colorscale": [
                          [
                            0,
                            "#0d0887"
                          ],
                          [
                            0.1111111111111111,
                            "#46039f"
                          ],
                          [
                            0.2222222222222222,
                            "#7201a8"
                          ],
                          [
                            0.3333333333333333,
                            "#9c179e"
                          ],
                          [
                            0.4444444444444444,
                            "#bd3786"
                          ],
                          [
                            0.5555555555555556,
                            "#d8576b"
                          ],
                          [
                            0.6666666666666666,
                            "#ed7953"
                          ],
                          [
                            0.7777777777777778,
                            "#fb9f3a"
                          ],
                          [
                            0.8888888888888888,
                            "#fdca26"
                          ],
                          [
                            1,
                            "#f0f921"
                          ]
                        ],
                        "type": "histogram2dcontour"
                      }
                    ],
                    "mesh3d": [
                      {
                        "colorbar": {
                          "outlinewidth": 0,
                          "ticks": ""
                        },
                        "type": "mesh3d"
                      }
                    ],
                    "parcoords": [
                      {
                        "line": {
                          "colorbar": {
                            "outlinewidth": 0,
                            "ticks": ""
                          }
                        },
                        "type": "parcoords"
                      }
                    ],
                    "pie": [
                      {
                        "automargin": true,
                        "type": "pie"
                      }
                    ],
                    "scatter": [
                      {
                        "fillpattern": {
                          "fillmode": "overlay",
                          "size": 10,
                          "solidity": 0.2
                        },
                        "type": "scatter"
                      }
                    ],
                    "scatter3d": [
                      {
                        "line": {
                          "colorbar": {
                            "outlinewidth": 0,
                            "ticks": ""
                          }
                        },
                        "marker": {
                          "colorbar": {
                            "outlinewidth": 0,
                            "ticks": ""
                          }
                        },
                        "type": "scatter3d"
                      }
                    ],
                    "scattercarpet": [
                      {
                        "marker": {
                          "colorbar": {
                            "outlinewidth": 0,
                            "ticks": ""
                          }
                        },
                        "type": "scattercarpet"
                      }
                    ],
                    "scattergeo": [
                      {
                        "marker": {
                          "colorbar": {
                            "outlinewidth": 0,
                            "ticks": ""
                          }
                        },
                        "type": "scattergeo"
                      }
                    ],
                    "scattergl": [
                      {
                        "marker": {
                          "colorbar": {
                            "outlinewidth": 0,
                            "ticks": ""
                          }
                        },
                        "type": "scattergl"
                      }
                    ],
                    "scattermapbox": [
                      {
                        "marker": {
                          "colorbar": {
                            "outlinewidth": 0,
                            "ticks": ""
                          }
                        },
                        "type": "scattermapbox"
                      }
                    ],
                    "scatterpolar": [
                      {
                        "marker": {
                          "colorbar": {
                            "outlinewidth": 0,
                            "ticks": ""
                          }
                        },
                        "type": "scatterpolar"
                      }
                    ],
                    "scatterpolargl": [
                      {
                        "marker": {
                          "colorbar": {
                            "outlinewidth": 0,
                            "ticks": ""
                          }
                        },
                        "type": "scatterpolargl"
                      }
                    ],
                    "scatterternary": [
                      {
                        "marker": {
                          "colorbar": {
                            "outlinewidth": 0,
                            "ticks": ""
                          }
                        },
                        "type": "scatterternary"
                      }
                    ],
                    "surface": [
                      {
                        "colorbar": {
                          "outlinewidth": 0,
                          "ticks": ""
                        },
                        "colorscale": [
                          [
                            0,
                            "#0d0887"
                          ],
                          [
                            0.1111111111111111,
                            "#46039f"
                          ],
                          [
                            0.2222222222222222,
                            "#7201a8"
                          ],
                          [
                            0.3333333333333333,
                            "#9c179e"
                          ],
                          [
                            0.4444444444444444,
                            "#bd3786"
                          ],
                          [
                            0.5555555555555556,
                            "#d8576b"
                          ],
                          [
                            0.6666666666666666,
                            "#ed7953"
                          ],
                          [
                            0.7777777777777778,
                            "#fb9f3a"
                          ],
                          [
                            0.8888888888888888,
                            "#fdca26"
                          ],
                          [
                            1,
                            "#f0f921"
                          ]
                        ],
                        "type": "surface"
                      }
                    ],
                    "table": [
                      {
                        "cells": {
                          "fill": {
                            "color": "#EBF0F8"
                          },
                          "line": {
                            "color": "white"
                          }
                        },
                        "header": {
                          "fill": {
                            "color": "#C8D4E3"
                          },
                          "line": {
                            "color": "white"
                          }
                        },
                        "type": "table"
                      }
                    ]
                  },
                  "layout": {
                    "annotationdefaults": {
                      "arrowcolor": "#2a3f5f",
                      "arrowhead": 0,
                      "arrowwidth": 1
                    },
                    "autotypenumbers": "strict",
                    "coloraxis": {
                      "colorbar": {
                        "outlinewidth": 0,
                        "ticks": ""
                      }
                    },
                    "colorscale": {
                      "diverging": [
                        [
                          0,
                          "#8e0152"
                        ],
                        [
                          0.1,
                          "#c51b7d"
                        ],
                        [
                          0.2,
                          "#de77ae"
                        ],
                        [
                          0.3,
                          "#f1b6da"
                        ],
                        [
                          0.4,
                          "#fde0ef"
                        ],
                        [
                          0.5,
                          "#f7f7f7"
                        ],
                        [
                          0.6,
                          "#e6f5d0"
                        ],
                        [
                          0.7,
                          "#b8e186"
                        ],
                        [
                          0.8,
                          "#7fbc41"
                        ],
                        [
                          0.9,
                          "#4d9221"
                        ],
                        [
                          1,
                          "#276419"
                        ]
                      ],
                      "sequential": [
                        [
                          0,
                          "#0d0887"
                        ],
                        [
                          0.1111111111111111,
                          "#46039f"
                        ],
                        [
                          0.2222222222222222,
                          "#7201a8"
                        ],
                        [
                          0.3333333333333333,
                          "#9c179e"
                        ],
                        [
                          0.4444444444444444,
                          "#bd3786"
                        ],
                        [
                          0.5555555555555556,
                          "#d8576b"
                        ],
                        [
                          0.6666666666666666,
                          "#ed7953"
                        ],
                        [
                          0.7777777777777778,
                          "#fb9f3a"
                        ],
                        [
                          0.8888888888888888,
                          "#fdca26"
                        ],
                        [
                          1,
                          "#f0f921"
                        ]
                      ],
                      "sequentialminus": [
                        [
                          0,
                          "#0d0887"
                        ],
                        [
                          0.1111111111111111,
                          "#46039f"
                        ],
                        [
                          0.2222222222222222,
                          "#7201a8"
                        ],
                        [
                          0.3333333333333333,
                          "#9c179e"
                        ],
                        [
                          0.4444444444444444,
                          "#bd3786"
                        ],
                        [
                          0.5555555555555556,
                          "#d8576b"
                        ],
                        [
                          0.6666666666666666,
                          "#ed7953"
                        ],
                        [
                          0.7777777777777778,
                          "#fb9f3a"
                        ],
                        [
                          0.8888888888888888,
                          "#fdca26"
                        ],
                        [
                          1,
                          "#f0f921"
                        ]
                      ]
                    },
                    "colorway": [
                      "#636efa",
                      "#EF553B",
                      "#00cc96",
                      "#ab63fa",
                      "#FFA15A",
                      "#19d3f3",
                      "#FF6692",
                      "#B6E880",
                      "#FF97FF",
                      "#FECB52"
                    ],
                    "font": {
                      "color": "#2a3f5f"
                    },
                    "geo": {
                      "bgcolor": "white",
                      "lakecolor": "white",
                      "landcolor": "#E5ECF6",
                      "showlakes": true,
                      "showland": true,
                      "subunitcolor": "white"
                    },
                    "hoverlabel": {
                      "align": "left"
                    },
                    "hovermode": "closest",
                    "mapbox": {
                      "style": "light"
                    },
                    "paper_bgcolor": "white",
                    "plot_bgcolor": "#E5ECF6",
                    "polar": {
                      "angularaxis": {
                        "gridcolor": "white",
                        "linecolor": "white",
                        "ticks": ""
                      },
                      "bgcolor": "#E5ECF6",
                      "radialaxis": {
                        "gridcolor": "white",
                        "linecolor": "white",
                        "ticks": ""
                      }
                    },
                    "scene": {
                      "xaxis": {
                        "backgroundcolor": "#E5ECF6",
                        "gridcolor": "white",
                        "gridwidth": 2,
                        "linecolor": "white",
                        "showbackground": true,
                        "ticks": "",
                        "zerolinecolor": "white"
                      },
                      "yaxis": {
                        "backgroundcolor": "#E5ECF6",
                        "gridcolor": "white",
                        "gridwidth": 2,
                        "linecolor": "white",
                        "showbackground": true,
                        "ticks": "",
                        "zerolinecolor": "white"
                      },
                      "zaxis": {
                        "backgroundcolor": "#E5ECF6",
                        "gridcolor": "white",
                        "gridwidth": 2,
                        "linecolor": "white",
                        "showbackground": true,
                        "ticks": "",
                        "zerolinecolor": "white"
                      }
                    },
                    "shapedefaults": {
                      "line": {
                        "color": "#2a3f5f"
                      }
                    },
                    "ternary": {
                      "aaxis": {
                        "gridcolor": "white",
                        "linecolor": "white",
                        "ticks": ""
                      },
                      "baxis": {
                        "gridcolor": "white",
                        "linecolor": "white",
                        "ticks": ""
                      },
                      "bgcolor": "#E5ECF6",
                      "caxis": {
                        "gridcolor": "white",
                        "linecolor": "white",
                        "ticks": ""
                      }
                    },
                    "title": {
                      "x": 0.05
                    },
                    "xaxis": {
                      "automargin": true,
                      "gridcolor": "white",
                      "linecolor": "white",
                      "ticks": "",
                      "title": {
                        "standoff": 15
                      },
                      "zerolinecolor": "white",
                      "zerolinewidth": 2
                    },
                    "yaxis": {
                      "automargin": true,
                      "gridcolor": "white",
                      "linecolor": "white",
                      "ticks": "",
                      "title": {
                        "standoff": 15
                      },
                      "zerolinecolor": "white",
                      "zerolinewidth": 2
                    }
                  }
                },
                "title": {
                  "text": "Empresas de IT similares a Flux IT"
                },
                "xaxis": {
                  "anchor": "y",
                  "domain": [
                    0,
                    1
                  ],
                  "title": {
                    "text": ""
                  }
                },
                "yaxis": {
                  "anchor": "x",
                  "domain": [
                    0,
                    1
                  ],
                  "title": {
                    "text": ""
                  }
                }
              }
            }
          },
          "metadata": {},
          "output_type": "display_data"
        }
      ],
      "source": [
        "fig = px.scatter(companies_client_focus_pca,\n",
        "                 x=\"0\",\n",
        "                 y=\"1\", \n",
        "                 color=\"referencia\", \n",
        "                hover_name=\"company_name\",\n",
        "                hover_data=[\"enterprise\", \"midmarket\", \"small_business\"])\n",
        "fig.update_layout(title='Empresas de IT similares a Flux IT', xaxis_title=\"\", yaxis_title=\"\")\n",
        "fig.show()"
      ]
    },
    {
      "cell_type": "code",
      "execution_count": 68,
      "metadata": {},
      "outputs": [
        {
          "data": {
            "text/html": [
              "<div>\n",
              "<style scoped>\n",
              "    .dataframe tbody tr th:only-of-type {\n",
              "        vertical-align: middle;\n",
              "    }\n",
              "\n",
              "    .dataframe tbody tr th {\n",
              "        vertical-align: top;\n",
              "    }\n",
              "\n",
              "    .dataframe thead th {\n",
              "        text-align: right;\n",
              "    }\n",
              "</style>\n",
              "<table border=\"1\" class=\"dataframe\">\n",
              "  <thead>\n",
              "    <tr style=\"text-align: right;\">\n",
              "      <th></th>\n",
              "      <th>avg_hourly_rate</th>\n",
              "      <th>client_focus_enterprise_1b</th>\n",
              "      <th>client_focus_midmarket_10m_1b</th>\n",
              "      <th>client_focus_small_business</th>\n",
              "      <th>employees</th>\n",
              "      <th>min_project_size</th>\n",
              "      <th>rating</th>\n",
              "      <th>reviews</th>\n",
              "      <th>service_focus_custom_software_development</th>\n",
              "      <th>service_focus_digital_strategy</th>\n",
              "      <th>service_focus_ecommerce_development</th>\n",
              "      <th>service_focus_it_managed_services</th>\n",
              "      <th>service_focus_it_staff_augmentation</th>\n",
              "      <th>service_focus_it_strategy_consulting</th>\n",
              "      <th>service_focus_mobile_app_development</th>\n",
              "      <th>service_focus_search_engine_optimization</th>\n",
              "      <th>service_focus_social_media_marketing</th>\n",
              "      <th>service_focus_uxui_design</th>\n",
              "      <th>service_focus_web_design</th>\n",
              "      <th>service_focus_web_development</th>\n",
              "      <th>cluster</th>\n",
              "    </tr>\n",
              "  </thead>\n",
              "  <tbody>\n",
              "    <tr>\n",
              "      <th>count</th>\n",
              "      <td>113.000000</td>\n",
              "      <td>113.000000</td>\n",
              "      <td>113.000000</td>\n",
              "      <td>113.000000</td>\n",
              "      <td>113.000000</td>\n",
              "      <td>113.000000</td>\n",
              "      <td>113.000000</td>\n",
              "      <td>113.000000</td>\n",
              "      <td>113.000000</td>\n",
              "      <td>113.000000</td>\n",
              "      <td>113.000000</td>\n",
              "      <td>113.000000</td>\n",
              "      <td>113.000000</td>\n",
              "      <td>113.000000</td>\n",
              "      <td>113.000000</td>\n",
              "      <td>113.000000</td>\n",
              "      <td>113.000000</td>\n",
              "      <td>113.000000</td>\n",
              "      <td>113.000000</td>\n",
              "      <td>113.000000</td>\n",
              "      <td>113.0</td>\n",
              "    </tr>\n",
              "    <tr>\n",
              "      <th>mean</th>\n",
              "      <td>50.194690</td>\n",
              "      <td>18.088496</td>\n",
              "      <td>39.548673</td>\n",
              "      <td>42.362832</td>\n",
              "      <td>293.557522</td>\n",
              "      <td>13699.044248</td>\n",
              "      <td>4.802655</td>\n",
              "      <td>6.681416</td>\n",
              "      <td>24.469027</td>\n",
              "      <td>0.486726</td>\n",
              "      <td>2.477876</td>\n",
              "      <td>1.212389</td>\n",
              "      <td>8.061947</td>\n",
              "      <td>1.371681</td>\n",
              "      <td>16.929204</td>\n",
              "      <td>0.265487</td>\n",
              "      <td>0.221239</td>\n",
              "      <td>5.398230</td>\n",
              "      <td>1.548673</td>\n",
              "      <td>18.035398</td>\n",
              "      <td>1.0</td>\n",
              "    </tr>\n",
              "    <tr>\n",
              "      <th>std</th>\n",
              "      <td>24.804183</td>\n",
              "      <td>20.742278</td>\n",
              "      <td>19.315977</td>\n",
              "      <td>27.579127</td>\n",
              "      <td>885.124527</td>\n",
              "      <td>16483.755289</td>\n",
              "      <td>0.286126</td>\n",
              "      <td>7.672150</td>\n",
              "      <td>18.973229</td>\n",
              "      <td>2.311134</td>\n",
              "      <td>7.261810</td>\n",
              "      <td>4.154282</td>\n",
              "      <td>15.731158</td>\n",
              "      <td>4.238840</td>\n",
              "      <td>14.700411</td>\n",
              "      <td>2.095990</td>\n",
              "      <td>1.399837</td>\n",
              "      <td>10.289158</td>\n",
              "      <td>4.958743</td>\n",
              "      <td>16.739565</td>\n",
              "      <td>0.0</td>\n",
              "    </tr>\n",
              "    <tr>\n",
              "      <th>min</th>\n",
              "      <td>-1.000000</td>\n",
              "      <td>0.000000</td>\n",
              "      <td>0.000000</td>\n",
              "      <td>0.000000</td>\n",
              "      <td>5.000000</td>\n",
              "      <td>-1.000000</td>\n",
              "      <td>3.400000</td>\n",
              "      <td>1.000000</td>\n",
              "      <td>0.000000</td>\n",
              "      <td>0.000000</td>\n",
              "      <td>0.000000</td>\n",
              "      <td>0.000000</td>\n",
              "      <td>0.000000</td>\n",
              "      <td>0.000000</td>\n",
              "      <td>0.000000</td>\n",
              "      <td>0.000000</td>\n",
              "      <td>0.000000</td>\n",
              "      <td>0.000000</td>\n",
              "      <td>0.000000</td>\n",
              "      <td>0.000000</td>\n",
              "      <td>1.0</td>\n",
              "    </tr>\n",
              "    <tr>\n",
              "      <th>25%</th>\n",
              "      <td>37.000000</td>\n",
              "      <td>0.000000</td>\n",
              "      <td>30.000000</td>\n",
              "      <td>20.000000</td>\n",
              "      <td>29.000000</td>\n",
              "      <td>5000.000000</td>\n",
              "      <td>4.700000</td>\n",
              "      <td>2.000000</td>\n",
              "      <td>10.000000</td>\n",
              "      <td>0.000000</td>\n",
              "      <td>0.000000</td>\n",
              "      <td>0.000000</td>\n",
              "      <td>0.000000</td>\n",
              "      <td>0.000000</td>\n",
              "      <td>0.000000</td>\n",
              "      <td>0.000000</td>\n",
              "      <td>0.000000</td>\n",
              "      <td>0.000000</td>\n",
              "      <td>0.000000</td>\n",
              "      <td>0.000000</td>\n",
              "      <td>1.0</td>\n",
              "    </tr>\n",
              "    <tr>\n",
              "      <th>50%</th>\n",
              "      <td>37.000000</td>\n",
              "      <td>10.000000</td>\n",
              "      <td>40.000000</td>\n",
              "      <td>40.000000</td>\n",
              "      <td>149.000000</td>\n",
              "      <td>10000.000000</td>\n",
              "      <td>4.900000</td>\n",
              "      <td>4.000000</td>\n",
              "      <td>25.000000</td>\n",
              "      <td>0.000000</td>\n",
              "      <td>0.000000</td>\n",
              "      <td>0.000000</td>\n",
              "      <td>0.000000</td>\n",
              "      <td>0.000000</td>\n",
              "      <td>15.000000</td>\n",
              "      <td>0.000000</td>\n",
              "      <td>0.000000</td>\n",
              "      <td>0.000000</td>\n",
              "      <td>0.000000</td>\n",
              "      <td>20.000000</td>\n",
              "      <td>1.0</td>\n",
              "    </tr>\n",
              "    <tr>\n",
              "      <th>75%</th>\n",
              "      <td>74.000000</td>\n",
              "      <td>30.000000</td>\n",
              "      <td>50.000000</td>\n",
              "      <td>65.000000</td>\n",
              "      <td>149.000000</td>\n",
              "      <td>25000.000000</td>\n",
              "      <td>5.000000</td>\n",
              "      <td>9.000000</td>\n",
              "      <td>35.000000</td>\n",
              "      <td>0.000000</td>\n",
              "      <td>0.000000</td>\n",
              "      <td>0.000000</td>\n",
              "      <td>10.000000</td>\n",
              "      <td>0.000000</td>\n",
              "      <td>30.000000</td>\n",
              "      <td>0.000000</td>\n",
              "      <td>0.000000</td>\n",
              "      <td>10.000000</td>\n",
              "      <td>0.000000</td>\n",
              "      <td>30.000000</td>\n",
              "      <td>1.0</td>\n",
              "    </tr>\n",
              "    <tr>\n",
              "      <th>max</th>\n",
              "      <td>124.000000</td>\n",
              "      <td>80.000000</td>\n",
              "      <td>80.000000</td>\n",
              "      <td>100.000000</td>\n",
              "      <td>5499.000000</td>\n",
              "      <td>100000.000000</td>\n",
              "      <td>5.000000</td>\n",
              "      <td>43.000000</td>\n",
              "      <td>80.000000</td>\n",
              "      <td>15.000000</td>\n",
              "      <td>60.000000</td>\n",
              "      <td>20.000000</td>\n",
              "      <td>70.000000</td>\n",
              "      <td>25.000000</td>\n",
              "      <td>60.000000</td>\n",
              "      <td>20.000000</td>\n",
              "      <td>10.000000</td>\n",
              "      <td>50.000000</td>\n",
              "      <td>30.000000</td>\n",
              "      <td>80.000000</td>\n",
              "      <td>1.0</td>\n",
              "    </tr>\n",
              "  </tbody>\n",
              "</table>\n",
              "</div>"
            ],
            "text/plain": [
              "       avg_hourly_rate  client_focus_enterprise_1b  \\\n",
              "count       113.000000                  113.000000   \n",
              "mean         50.194690                   18.088496   \n",
              "std          24.804183                   20.742278   \n",
              "min          -1.000000                    0.000000   \n",
              "25%          37.000000                    0.000000   \n",
              "50%          37.000000                   10.000000   \n",
              "75%          74.000000                   30.000000   \n",
              "max         124.000000                   80.000000   \n",
              "\n",
              "       client_focus_midmarket_10m_1b  client_focus_small_business  \\\n",
              "count                     113.000000                   113.000000   \n",
              "mean                       39.548673                    42.362832   \n",
              "std                        19.315977                    27.579127   \n",
              "min                         0.000000                     0.000000   \n",
              "25%                        30.000000                    20.000000   \n",
              "50%                        40.000000                    40.000000   \n",
              "75%                        50.000000                    65.000000   \n",
              "max                        80.000000                   100.000000   \n",
              "\n",
              "         employees  min_project_size      rating     reviews  \\\n",
              "count   113.000000        113.000000  113.000000  113.000000   \n",
              "mean    293.557522      13699.044248    4.802655    6.681416   \n",
              "std     885.124527      16483.755289    0.286126    7.672150   \n",
              "min       5.000000         -1.000000    3.400000    1.000000   \n",
              "25%      29.000000       5000.000000    4.700000    2.000000   \n",
              "50%     149.000000      10000.000000    4.900000    4.000000   \n",
              "75%     149.000000      25000.000000    5.000000    9.000000   \n",
              "max    5499.000000     100000.000000    5.000000   43.000000   \n",
              "\n",
              "       service_focus_custom_software_development  \\\n",
              "count                                 113.000000   \n",
              "mean                                   24.469027   \n",
              "std                                    18.973229   \n",
              "min                                     0.000000   \n",
              "25%                                    10.000000   \n",
              "50%                                    25.000000   \n",
              "75%                                    35.000000   \n",
              "max                                    80.000000   \n",
              "\n",
              "       service_focus_digital_strategy  service_focus_ecommerce_development  \\\n",
              "count                      113.000000                           113.000000   \n",
              "mean                         0.486726                             2.477876   \n",
              "std                          2.311134                             7.261810   \n",
              "min                          0.000000                             0.000000   \n",
              "25%                          0.000000                             0.000000   \n",
              "50%                          0.000000                             0.000000   \n",
              "75%                          0.000000                             0.000000   \n",
              "max                         15.000000                            60.000000   \n",
              "\n",
              "       service_focus_it_managed_services  service_focus_it_staff_augmentation  \\\n",
              "count                         113.000000                           113.000000   \n",
              "mean                            1.212389                             8.061947   \n",
              "std                             4.154282                            15.731158   \n",
              "min                             0.000000                             0.000000   \n",
              "25%                             0.000000                             0.000000   \n",
              "50%                             0.000000                             0.000000   \n",
              "75%                             0.000000                            10.000000   \n",
              "max                            20.000000                            70.000000   \n",
              "\n",
              "       service_focus_it_strategy_consulting  \\\n",
              "count                            113.000000   \n",
              "mean                               1.371681   \n",
              "std                                4.238840   \n",
              "min                                0.000000   \n",
              "25%                                0.000000   \n",
              "50%                                0.000000   \n",
              "75%                                0.000000   \n",
              "max                               25.000000   \n",
              "\n",
              "       service_focus_mobile_app_development  \\\n",
              "count                            113.000000   \n",
              "mean                              16.929204   \n",
              "std                               14.700411   \n",
              "min                                0.000000   \n",
              "25%                                0.000000   \n",
              "50%                               15.000000   \n",
              "75%                               30.000000   \n",
              "max                               60.000000   \n",
              "\n",
              "       service_focus_search_engine_optimization  \\\n",
              "count                                113.000000   \n",
              "mean                                   0.265487   \n",
              "std                                    2.095990   \n",
              "min                                    0.000000   \n",
              "25%                                    0.000000   \n",
              "50%                                    0.000000   \n",
              "75%                                    0.000000   \n",
              "max                                   20.000000   \n",
              "\n",
              "       service_focus_social_media_marketing  service_focus_uxui_design  \\\n",
              "count                            113.000000                 113.000000   \n",
              "mean                               0.221239                   5.398230   \n",
              "std                                1.399837                  10.289158   \n",
              "min                                0.000000                   0.000000   \n",
              "25%                                0.000000                   0.000000   \n",
              "50%                                0.000000                   0.000000   \n",
              "75%                                0.000000                  10.000000   \n",
              "max                               10.000000                  50.000000   \n",
              "\n",
              "       service_focus_web_design  service_focus_web_development  cluster  \n",
              "count                113.000000                     113.000000    113.0  \n",
              "mean                   1.548673                      18.035398      1.0  \n",
              "std                    4.958743                      16.739565      0.0  \n",
              "min                    0.000000                       0.000000      1.0  \n",
              "25%                    0.000000                       0.000000      1.0  \n",
              "50%                    0.000000                      20.000000      1.0  \n",
              "75%                    0.000000                      30.000000      1.0  \n",
              "max                   30.000000                      80.000000      1.0  "
            ]
          },
          "execution_count": 68,
          "metadata": {},
          "output_type": "execute_result"
        }
      ],
      "source": [
        "empresas_del_cluster_con_rating.describe()"
      ]
    },
    {
      "cell_type": "markdown",
      "metadata": {
        "id": "IvKkZ1P1ggKs"
      },
      "source": [
        "-agregar las categorias: web, software dev(ya esta), mobiel\n",
        "- eliminar duplicados\n",
        "- elegir una empresa\n",
        "- sacar client focus\n",
        "- filtrar aquellas empresas que al menos dos principales (de mayor porcentaje) de las caracteristicas.\n",
        "- armar métrica de diferencia: cantidad de empleados maximo y restar la elegida, lo mismo con min project size, mismo tarifa. ¿armamos una sola metrica con las tres o las tres por separadas?\n",
        "- \n",
        "- graficar"
      ]
    }
  ],
  "metadata": {
    "colab": {
      "collapsed_sections": [],
      "name": "tp_web_mining.ipynb",
      "provenance": [],
      "toc_visible": true
    },
    "interpreter": {
      "hash": "bc6dbbd95846f1c5c855cd778b06459051f94d38b7f0c30010f21542a1eab654"
    },
    "kernelspec": {
      "display_name": "Python 3.8.13 ('webmining')",
      "language": "python",
      "name": "python3"
    },
    "language_info": {
      "codemirror_mode": {
        "name": "ipython",
        "version": 3
      },
      "file_extension": ".py",
      "mimetype": "text/x-python",
      "name": "python",
      "nbconvert_exporter": "python",
      "pygments_lexer": "ipython3",
      "version": "3.8.13"
    }
  },
  "nbformat": 4,
  "nbformat_minor": 0
}
