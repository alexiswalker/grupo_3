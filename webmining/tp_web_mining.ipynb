{
  "cells": [
    {
      "cell_type": "markdown",
      "metadata": {},
      "source": [
        "# Introducción"
      ]
    },
    {
      "cell_type": "markdown",
      "metadata": {},
      "source": [
        "[Clutch](https://clutch.co/) es un sitio B2B[^1] de calificaciones y reseñas de empresas tecnológicas. Aquí, éstas son evaluadas en función de una serie de factores cuantitativos y cualitativos entre las que se encuentran reseñas certificadas que realizan sus cliente. Permite constituir una reputación a través de revisiones verificadas de terceros.\n",
        "\n",
        "No solo es relevante como punto de consulta de información valiosa para la ponderación de proveedores; sino también, como se pretende en el presente, hacer un análisis de la presencia de la competencia en el mercado para establecer puntos de comparación.\n",
        "\n",
        "[^1]: Negocio a negocio (del inglés business-to-business o B2B)"
      ]
    },
    {
      "cell_type": "markdown",
      "metadata": {},
      "source": [
        "# Objetivo"
      ]
    },
    {
      "cell_type": "markdown",
      "metadata": {},
      "source": [
        "Con este desarrollo se aspira a extraer referencias allí expuesta para constituir una radiografía del mercado. La intensión es simplificar la información en un cuadrante de posicionamiento que permita una rápida comparativa de las empresas que operan en un mismo área (delimitada por rubro y geografía).\n",
        "\n",
        "La principales técnicas a utilizar son: Web Scraping para recopilar información de forma automática expuesta en Internet, y Text Mining para preprocesar los datos no estructurados obtenidos del portal citado."
      ]
    },
    {
      "cell_type": "markdown",
      "metadata": {},
      "source": [
        "# Alcance"
      ]
    },
    {
      "cell_type": "markdown",
      "metadata": {},
      "source": [
        "El entregable que resulta de este trabajo supone:\n",
        "\n",
        "- Una pieza de código automatizable que extraiga el texto tal como se expone en el sitio web.\n",
        "- Preprocesamiento de los registros utilizando técnicas de Text Mining para obtener un set de datos estructurados.\n",
        "- Reconocer las entidades relevantes de cada lectura para disponer el resultado en forma adecuada para la construcción el resumen pretendido. "
      ]
    },
    {
      "cell_type": "markdown",
      "metadata": {},
      "source": [
        "# Consideraciones (a completar)"
      ]
    },
    {
      "cell_type": "markdown",
      "metadata": {},
      "source": [
        "describir los aspectos a tener en cuenta cuando se hace scraping: CAPTCHA, contenido dinámico, etc."
      ]
    },
    {
      "cell_type": "markdown",
      "metadata": {},
      "source": [
        "# Resto de tareas (a completar) "
      ]
    },
    {
      "cell_type": "markdown",
      "metadata": {},
      "source": [
        "Cron en hosting\n",
        "Monitoreo: agente externo para ver si anda -> si anda, me autochequeo\n",
        "Resolver la caida de internet -> por ejemplo, reintentando\n",
        "Resolver errores html (40, 50)\n",
        "Chequear que la estructura cambio o no\n",
        "Describir cómo construir el dashboard sin construir nada\n",
        "..."
      ]
    },
    {
      "cell_type": "markdown",
      "metadata": {},
      "source": [
        "# Futuras lineas de trabajo (a completar)"
      ]
    },
    {
      "cell_type": "markdown",
      "metadata": {},
      "source": [
        "Extender el origen de información a otros sitios que brinde un servicio de idénticas características."
      ]
    },
    {
      "cell_type": "markdown",
      "metadata": {},
      "source": [
        "# Desarrollo"
      ]
    },
    {
      "cell_type": "code",
      "execution_count": 10,
      "metadata": {
        "id": "TUqigR1uIoUs"
      },
      "outputs": [],
      "source": [
        "import requests\n",
        "from re import sub\n",
        "import pandas as pd\n",
        "from bs4 import BeautifulSoup\n",
        "from matplotlib import pyplot as plt"
      ]
    },
    {
      "cell_type": "code",
      "execution_count": 11,
      "metadata": {
        "id": "BKV3oAIZEjDW"
      },
      "outputs": [],
      "source": [
        "#BeautifulSoup(requests.get(f'https://clutch.co/ar/app-developers').text).select('h3.company_info a')[0].attrs['href']"
      ]
    },
    {
      "cell_type": "markdown",
      "metadata": {
        "id": "oozwfHRoVXtZ"
      },
      "source": [
        "## Categorías"
      ]
    },
    {
      "cell_type": "code",
      "execution_count": 12,
      "metadata": {
        "id": "R4J4ss1ML0pR"
      },
      "outputs": [],
      "source": [
        "categories = ['app-developers', 'web-developers', 'developers']"
      ]
    },
    {
      "cell_type": "markdown",
      "metadata": {
        "id": "yxw6wCgEVcEm"
      },
      "source": [
        "## Utilidades"
      ]
    },
    {
      "cell_type": "code",
      "execution_count": 13,
      "metadata": {
        "id": "74CujpkFV_TN"
      },
      "outputs": [],
      "source": [
        "def get_beautiful_soup_companies_list(category, page_number):\n",
        "  clutch_argentina = requests.get(f'https://clutch.co/ar/{category}?page={page_number}')\n",
        "  \n",
        "  return BeautifulSoup(clutch_argentina.text)"
      ]
    },
    {
      "cell_type": "code",
      "execution_count": 14,
      "metadata": {},
      "outputs": [],
      "source": [
        "def get_beautiful_soup_company_profile(profile_link):\n",
        "  profile = requests.get(f'https://clutch.co/{profile_link}')\n",
        "  \n",
        "  return BeautifulSoup(profile.text)"
      ]
    },
    {
      "cell_type": "code",
      "execution_count": 15,
      "metadata": {
        "id": "Ml3jLgYtWQKa"
      },
      "outputs": [],
      "source": [
        "def is_last_page(beautiful_soup_page):\n",
        "  return not beautiful_soup_page.select('li.page-item.last > a')"
      ]
    },
    {
      "cell_type": "code",
      "execution_count": 16,
      "metadata": {
        "id": "l_Dqq7DdZwYU"
      },
      "outputs": [],
      "source": [
        "def get_element_text_if_exists(elements):\n",
        "  if elements:\n",
        "    return elements[0].text.strip()"
      ]
    },
    {
      "cell_type": "code",
      "execution_count": 87,
      "metadata": {
        "id": "R3seBM6VZm4n"
      },
      "outputs": [],
      "source": [
        "def create_row(provider_li):\n",
        "    row = {}\n",
        "    \n",
        "    company_info = provider_li.select('h3.company_info a')\n",
        "    row['company_name'] = get_element_text_if_exists(company_info)\n",
        "    row['rating'] = get_element_text_if_exists(provider_li.select('.rating'))\n",
        "    row['reviews'] = get_element_text_if_exists(provider_li.select('.reviews-link'))\n",
        "\n",
        "    #Min. project size, Avg. hourly rate, Employees, Location\n",
        "    items = provider_li.select('.module-list > div')\n",
        "    for item in items:\n",
        "      key_name = BeautifulSoup(item.attrs['data-content']).text\n",
        "      row[key_name] = get_element_text_if_exists(item.select('span'))\n",
        "\n",
        "    #Service Focus\n",
        "    percentages = provider_li.select('.chartAreaContainer > div')\n",
        "    for percentage in percentages:\n",
        "      content = BeautifulSoup(percentage.attrs['data-content'])\n",
        "      row[f'service_focus_{content.b.text}'] = content.i.text\n",
        "\n",
        "    #Client focus\n",
        "    profile_link = provider_li.select('li.website-profile > a')[0].attrs['href']\n",
        "    profile = get_beautiful_soup_company_profile(profile_link)\n",
        "    client_focus = profile.find(\"div\", string='Client focus')\n",
        "\n",
        "    if client_focus:\n",
        "      for client in client_focus.find_next_sibling().select('div.grid.custom_popover'):\n",
        "        key_name = BeautifulSoup(client.attrs['data-content']).b.text\n",
        "        row[f'client_focus_{key_name}'] = client.text\n",
        "      \n",
        "    return row"
      ]
    },
    {
      "cell_type": "code",
      "execution_count": 88,
      "metadata": {
        "id": "XMxK70qFMa8j"
      },
      "outputs": [
        {
          "data": {
            "text/plain": [
              "{'company_name': 'BEON Tech Studio',\n",
              " 'rating': '4.9',\n",
              " 'reviews': '26 reviews',\n",
              " 'Min. project size': '$50,000+',\n",
              " 'Avg. hourly rate': '$25 - $49 / hr',\n",
              " 'Employees': '50 - 249',\n",
              " 'Location': 'Buenos Aires, Argentina',\n",
              " 'service_focus_Custom Software Development': '50%',\n",
              " 'service_focus_IT Staff Augmentation': '50%',\n",
              " 'client_focus_Midmarket ($10M - $1B)': '50%',\n",
              " 'client_focus_Small Business (': '50%'}"
            ]
          },
          "execution_count": 88,
          "metadata": {},
          "output_type": "execute_result"
        }
      ],
      "source": [
        "# test\n",
        "create_row(get_beautiful_soup_companies_list('developers', 0).select('ul.directory-list li.provider-row')[0])"
      ]
    },
    {
      "cell_type": "code",
      "execution_count": 89,
      "metadata": {
        "id": "0x0S4rxv9klN"
      },
      "outputs": [],
      "source": [
        "def snake_case(s):\n",
        "  return '_'.join(sub('[^0-9a-zA-Z\\s\\_]+', '', s).split()).lower()"
      ]
    },
    {
      "cell_type": "markdown",
      "metadata": {
        "id": "UbPtJJfaVgZL"
      },
      "source": [
        "## Scrapping"
      ]
    },
    {
      "cell_type": "code",
      "execution_count": 91,
      "metadata": {
        "id": "MOiPocpnT2Ml"
      },
      "outputs": [],
      "source": [
        "def get_providers(category):\n",
        "  page_number = 0\n",
        "  rows = []\n",
        "\n",
        "  while True:\n",
        "    page = get_beautiful_soup_companies_list(category, page_number)\n",
        "    providers_li = page.select('ul.directory-list li.provider-row')\n",
        "    rows += map(create_row, providers_li)\n",
        "    page_number += 1\n",
        "\n",
        "    if is_last_page(page):\n",
        "      break\n",
        "    \n",
        "  return pd.DataFrame(rows)"
      ]
    },
    {
      "cell_type": "code",
      "execution_count": 93,
      "metadata": {
        "id": "tIQ-azq_bbWQ"
      },
      "outputs": [],
      "source": [
        "categories = ['app-developers'] # borrar, es para que tarde menos la prueba\n",
        "providers = pd.concat(map(get_providers, categories))"
      ]
    },
    {
      "cell_type": "markdown",
      "metadata": {
        "id": "rb7tUEFL-Osz"
      },
      "source": [
        "### Nombre de columnas"
      ]
    },
    {
      "cell_type": "code",
      "execution_count": 95,
      "metadata": {
        "id": "kGLxgVw79uMe"
      },
      "outputs": [],
      "source": [
        "providers.columns = map(snake_case, providers.columns)"
      ]
    },
    {
      "cell_type": "code",
      "execution_count": null,
      "metadata": {
        "id": "EM7uv7SQk4Lg"
      },
      "outputs": [],
      "source": [
        "# test\n",
        "# print(get_providers('web-developers').shape)\n",
        "# print(BeautifulSoup(requests.get(f'https://clutch.co/ar/web-developers').text).select('.tabs-info')[0].text)\n",
        "\n",
        "# print(get_providers('app-developers').shape)\n",
        "# print(BeautifulSoup(requests.get(f'https://clutch.co/ar/app-developers').text).select('.tabs-info')[0].text)\n",
        "\n",
        "# print(get_providers('developers').shape)\n",
        "# print(BeautifulSoup(requests.get(f'https://clutch.co/ar/developers').text).select('.tabs-info')[0].text)"
      ]
    },
    {
      "cell_type": "markdown",
      "metadata": {},
      "source": [
        "### Algunos Datos"
      ]
    },
    {
      "cell_type": "code",
      "execution_count": 109,
      "metadata": {},
      "outputs": [
        {
          "data": {
            "text/html": [
              "<div>\n",
              "<style scoped>\n",
              "    .dataframe tbody tr th:only-of-type {\n",
              "        vertical-align: middle;\n",
              "    }\n",
              "\n",
              "    .dataframe tbody tr th {\n",
              "        vertical-align: top;\n",
              "    }\n",
              "\n",
              "    .dataframe thead th {\n",
              "        text-align: right;\n",
              "    }\n",
              "</style>\n",
              "<table border=\"1\" class=\"dataframe\">\n",
              "  <thead>\n",
              "    <tr style=\"text-align: right;\">\n",
              "      <th></th>\n",
              "      <th>company_name</th>\n",
              "      <th>rating</th>\n",
              "      <th>reviews</th>\n",
              "      <th>min_project_size</th>\n",
              "      <th>avg_hourly_rate</th>\n",
              "      <th>employees</th>\n",
              "      <th>location</th>\n",
              "      <th>service_focus_mobile_app_development</th>\n",
              "      <th>service_focus_custom_software_development</th>\n",
              "      <th>service_focus_web_development</th>\n",
              "      <th>client_focus_midmarket_10m_1b</th>\n",
              "      <th>client_focus_enterprise_1b</th>\n",
              "      <th>client_focus_small_business</th>\n",
              "      <th>service_focus_artificial_intelligence</th>\n",
              "      <th>service_focus_it_staff_augmentation</th>\n",
              "      <th>service_focus_it_strategy_consulting</th>\n",
              "      <th>service_focus_bi_big_data_consulting_si</th>\n",
              "      <th>service_focus_blockchain</th>\n",
              "      <th>service_focus_cloud_consulting_si</th>\n",
              "      <th>service_focus_application_testing</th>\n",
              "      <th>service_focus_architectural_design</th>\n",
              "      <th>service_focus_uxui_design</th>\n",
              "      <th>service_focus_erp_consulting_and_si</th>\n",
              "      <th>service_focus_ecommerce_development</th>\n",
              "      <th>service_focus_iot_development</th>\n",
              "      <th>service_focus_enterprise_app_modernization</th>\n",
              "      <th>service_focus_arvr_development</th>\n",
              "      <th>service_focus_crm_consulting_and_si</th>\n",
              "      <th>service_focus_other</th>\n",
              "      <th>service_focus_other_application_development</th>\n",
              "      <th>service_focus_content_marketing</th>\n",
              "      <th>service_focus_digital_strategy</th>\n",
              "      <th>service_focus_social_media_marketing</th>\n",
              "      <th>service_focus_web_design</th>\n",
              "      <th>service_focus_it_managed_services</th>\n",
              "      <th>service_focus_other_it_consulting_and_si</th>\n",
              "      <th>service_focus_application_management_support</th>\n",
              "      <th>service_focus_product_design</th>\n",
              "      <th>service_focus_search_engine_optimization</th>\n",
              "      <th>service_focus_graphic_design</th>\n",
              "      <th>service_focus_hr_services</th>\n",
              "      <th>service_focus_wearable_app_development</th>\n",
              "      <th>service_focus_branding</th>\n",
              "      <th>service_focus_email_marketing</th>\n",
              "      <th>service_focus_advertising</th>\n",
              "      <th>service_focus_logo</th>\n",
              "      <th>service_focus_video_production</th>\n",
              "      <th>service_focus_market_research</th>\n",
              "      <th>service_focus_pay_per_click</th>\n",
              "      <th>service_focus_cybersecurity</th>\n",
              "      <th>service_focus_accounting</th>\n",
              "      <th>service_focus_business_consulting</th>\n",
              "      <th>service_focus_translation</th>\n",
              "      <th>service_focus_other_design</th>\n",
              "      <th>service_focus_other_digital_marketing</th>\n",
              "      <th>service_focus_mobile_app_marketing</th>\n",
              "      <th>service_focus_sales_outsourcing</th>\n",
              "    </tr>\n",
              "  </thead>\n",
              "  <tbody>\n",
              "    <tr>\n",
              "      <th>0</th>\n",
              "      <td>404 // Software crafters</td>\n",
              "      <td>4.7</td>\n",
              "      <td>5 reviews</td>\n",
              "      <td>$10,000+</td>\n",
              "      <td>$25 - $49 / hr</td>\n",
              "      <td>10 - 49</td>\n",
              "      <td>Campo Salles, Argentina</td>\n",
              "      <td>40%</td>\n",
              "      <td>30%</td>\n",
              "      <td>30%</td>\n",
              "      <td>80%</td>\n",
              "      <td>10%</td>\n",
              "      <td>10%</td>\n",
              "      <td>NaN</td>\n",
              "      <td>NaN</td>\n",
              "      <td>NaN</td>\n",
              "      <td>NaN</td>\n",
              "      <td>NaN</td>\n",
              "      <td>NaN</td>\n",
              "      <td>NaN</td>\n",
              "      <td>NaN</td>\n",
              "      <td>NaN</td>\n",
              "      <td>NaN</td>\n",
              "      <td>NaN</td>\n",
              "      <td>NaN</td>\n",
              "      <td>NaN</td>\n",
              "      <td>NaN</td>\n",
              "      <td>NaN</td>\n",
              "      <td>NaN</td>\n",
              "      <td>NaN</td>\n",
              "      <td>NaN</td>\n",
              "      <td>NaN</td>\n",
              "      <td>NaN</td>\n",
              "      <td>NaN</td>\n",
              "      <td>NaN</td>\n",
              "      <td>NaN</td>\n",
              "      <td>NaN</td>\n",
              "      <td>NaN</td>\n",
              "      <td>NaN</td>\n",
              "      <td>NaN</td>\n",
              "      <td>NaN</td>\n",
              "      <td>NaN</td>\n",
              "      <td>NaN</td>\n",
              "      <td>NaN</td>\n",
              "      <td>NaN</td>\n",
              "      <td>NaN</td>\n",
              "      <td>NaN</td>\n",
              "      <td>NaN</td>\n",
              "      <td>NaN</td>\n",
              "      <td>NaN</td>\n",
              "      <td>NaN</td>\n",
              "      <td>NaN</td>\n",
              "      <td>NaN</td>\n",
              "      <td>NaN</td>\n",
              "      <td>NaN</td>\n",
              "      <td>NaN</td>\n",
              "      <td>NaN</td>\n",
              "    </tr>\n",
              "    <tr>\n",
              "      <th>1</th>\n",
              "      <td>Rootstrap</td>\n",
              "      <td>4.8</td>\n",
              "      <td>34 reviews</td>\n",
              "      <td>$50,000+</td>\n",
              "      <td>$100 - $149 / hr</td>\n",
              "      <td>50 - 249</td>\n",
              "      <td>Buenos Aires, Argentina</td>\n",
              "      <td>25%</td>\n",
              "      <td>10%</td>\n",
              "      <td>40%</td>\n",
              "      <td>40%</td>\n",
              "      <td>25%</td>\n",
              "      <td>35%</td>\n",
              "      <td>25%</td>\n",
              "      <td>NaN</td>\n",
              "      <td>NaN</td>\n",
              "      <td>NaN</td>\n",
              "      <td>NaN</td>\n",
              "      <td>NaN</td>\n",
              "      <td>NaN</td>\n",
              "      <td>NaN</td>\n",
              "      <td>NaN</td>\n",
              "      <td>NaN</td>\n",
              "      <td>NaN</td>\n",
              "      <td>NaN</td>\n",
              "      <td>NaN</td>\n",
              "      <td>NaN</td>\n",
              "      <td>NaN</td>\n",
              "      <td>NaN</td>\n",
              "      <td>NaN</td>\n",
              "      <td>NaN</td>\n",
              "      <td>NaN</td>\n",
              "      <td>NaN</td>\n",
              "      <td>NaN</td>\n",
              "      <td>NaN</td>\n",
              "      <td>NaN</td>\n",
              "      <td>NaN</td>\n",
              "      <td>NaN</td>\n",
              "      <td>NaN</td>\n",
              "      <td>NaN</td>\n",
              "      <td>NaN</td>\n",
              "      <td>NaN</td>\n",
              "      <td>NaN</td>\n",
              "      <td>NaN</td>\n",
              "      <td>NaN</td>\n",
              "      <td>NaN</td>\n",
              "      <td>NaN</td>\n",
              "      <td>NaN</td>\n",
              "      <td>NaN</td>\n",
              "      <td>NaN</td>\n",
              "      <td>NaN</td>\n",
              "      <td>NaN</td>\n",
              "      <td>NaN</td>\n",
              "      <td>NaN</td>\n",
              "      <td>NaN</td>\n",
              "      <td>NaN</td>\n",
              "      <td>NaN</td>\n",
              "    </tr>\n",
              "    <tr>\n",
              "      <th>2</th>\n",
              "      <td>Flux IT</td>\n",
              "      <td>4.9</td>\n",
              "      <td>10 reviews</td>\n",
              "      <td>$10,000+</td>\n",
              "      <td>Undisclosed</td>\n",
              "      <td>50 - 249</td>\n",
              "      <td>Gonnet, Argentina</td>\n",
              "      <td>30%</td>\n",
              "      <td>40%</td>\n",
              "      <td>30%</td>\n",
              "      <td>50%</td>\n",
              "      <td>25%</td>\n",
              "      <td>25%</td>\n",
              "      <td>NaN</td>\n",
              "      <td>NaN</td>\n",
              "      <td>NaN</td>\n",
              "      <td>NaN</td>\n",
              "      <td>NaN</td>\n",
              "      <td>NaN</td>\n",
              "      <td>NaN</td>\n",
              "      <td>NaN</td>\n",
              "      <td>NaN</td>\n",
              "      <td>NaN</td>\n",
              "      <td>NaN</td>\n",
              "      <td>NaN</td>\n",
              "      <td>NaN</td>\n",
              "      <td>NaN</td>\n",
              "      <td>NaN</td>\n",
              "      <td>NaN</td>\n",
              "      <td>NaN</td>\n",
              "      <td>NaN</td>\n",
              "      <td>NaN</td>\n",
              "      <td>NaN</td>\n",
              "      <td>NaN</td>\n",
              "      <td>NaN</td>\n",
              "      <td>NaN</td>\n",
              "      <td>NaN</td>\n",
              "      <td>NaN</td>\n",
              "      <td>NaN</td>\n",
              "      <td>NaN</td>\n",
              "      <td>NaN</td>\n",
              "      <td>NaN</td>\n",
              "      <td>NaN</td>\n",
              "      <td>NaN</td>\n",
              "      <td>NaN</td>\n",
              "      <td>NaN</td>\n",
              "      <td>NaN</td>\n",
              "      <td>NaN</td>\n",
              "      <td>NaN</td>\n",
              "      <td>NaN</td>\n",
              "      <td>NaN</td>\n",
              "      <td>NaN</td>\n",
              "      <td>NaN</td>\n",
              "      <td>NaN</td>\n",
              "      <td>NaN</td>\n",
              "      <td>NaN</td>\n",
              "      <td>NaN</td>\n",
              "    </tr>\n",
              "    <tr>\n",
              "      <th>3</th>\n",
              "      <td>Simplex Software</td>\n",
              "      <td>4.7</td>\n",
              "      <td>10 reviews</td>\n",
              "      <td>$10,000+</td>\n",
              "      <td>$25 - $49 / hr</td>\n",
              "      <td>50 - 249</td>\n",
              "      <td>CMK, Argentina</td>\n",
              "      <td>25%</td>\n",
              "      <td>10%</td>\n",
              "      <td>15%</td>\n",
              "      <td>50%</td>\n",
              "      <td>NaN</td>\n",
              "      <td>50%</td>\n",
              "      <td>NaN</td>\n",
              "      <td>40%</td>\n",
              "      <td>10%</td>\n",
              "      <td>NaN</td>\n",
              "      <td>NaN</td>\n",
              "      <td>NaN</td>\n",
              "      <td>NaN</td>\n",
              "      <td>NaN</td>\n",
              "      <td>NaN</td>\n",
              "      <td>NaN</td>\n",
              "      <td>NaN</td>\n",
              "      <td>NaN</td>\n",
              "      <td>NaN</td>\n",
              "      <td>NaN</td>\n",
              "      <td>NaN</td>\n",
              "      <td>NaN</td>\n",
              "      <td>NaN</td>\n",
              "      <td>NaN</td>\n",
              "      <td>NaN</td>\n",
              "      <td>NaN</td>\n",
              "      <td>NaN</td>\n",
              "      <td>NaN</td>\n",
              "      <td>NaN</td>\n",
              "      <td>NaN</td>\n",
              "      <td>NaN</td>\n",
              "      <td>NaN</td>\n",
              "      <td>NaN</td>\n",
              "      <td>NaN</td>\n",
              "      <td>NaN</td>\n",
              "      <td>NaN</td>\n",
              "      <td>NaN</td>\n",
              "      <td>NaN</td>\n",
              "      <td>NaN</td>\n",
              "      <td>NaN</td>\n",
              "      <td>NaN</td>\n",
              "      <td>NaN</td>\n",
              "      <td>NaN</td>\n",
              "      <td>NaN</td>\n",
              "      <td>NaN</td>\n",
              "      <td>NaN</td>\n",
              "      <td>NaN</td>\n",
              "      <td>NaN</td>\n",
              "      <td>NaN</td>\n",
              "      <td>NaN</td>\n",
              "    </tr>\n",
              "    <tr>\n",
              "      <th>4</th>\n",
              "      <td>Clarika</td>\n",
              "      <td>4.8</td>\n",
              "      <td>14 reviews</td>\n",
              "      <td>$10,000+</td>\n",
              "      <td>$25 - $49 / hr</td>\n",
              "      <td>50 - 249</td>\n",
              "      <td>Córdoba, Argentina</td>\n",
              "      <td>20%</td>\n",
              "      <td>30%</td>\n",
              "      <td>10%</td>\n",
              "      <td>70%</td>\n",
              "      <td>NaN</td>\n",
              "      <td>30%</td>\n",
              "      <td>NaN</td>\n",
              "      <td>30%</td>\n",
              "      <td>10%</td>\n",
              "      <td>NaN</td>\n",
              "      <td>NaN</td>\n",
              "      <td>NaN</td>\n",
              "      <td>NaN</td>\n",
              "      <td>NaN</td>\n",
              "      <td>NaN</td>\n",
              "      <td>NaN</td>\n",
              "      <td>NaN</td>\n",
              "      <td>NaN</td>\n",
              "      <td>NaN</td>\n",
              "      <td>NaN</td>\n",
              "      <td>NaN</td>\n",
              "      <td>NaN</td>\n",
              "      <td>NaN</td>\n",
              "      <td>NaN</td>\n",
              "      <td>NaN</td>\n",
              "      <td>NaN</td>\n",
              "      <td>NaN</td>\n",
              "      <td>NaN</td>\n",
              "      <td>NaN</td>\n",
              "      <td>NaN</td>\n",
              "      <td>NaN</td>\n",
              "      <td>NaN</td>\n",
              "      <td>NaN</td>\n",
              "      <td>NaN</td>\n",
              "      <td>NaN</td>\n",
              "      <td>NaN</td>\n",
              "      <td>NaN</td>\n",
              "      <td>NaN</td>\n",
              "      <td>NaN</td>\n",
              "      <td>NaN</td>\n",
              "      <td>NaN</td>\n",
              "      <td>NaN</td>\n",
              "      <td>NaN</td>\n",
              "      <td>NaN</td>\n",
              "      <td>NaN</td>\n",
              "      <td>NaN</td>\n",
              "      <td>NaN</td>\n",
              "      <td>NaN</td>\n",
              "      <td>NaN</td>\n",
              "      <td>NaN</td>\n",
              "    </tr>\n",
              "  </tbody>\n",
              "</table>\n",
              "</div>"
            ],
            "text/plain": [
              "               company_name rating     reviews min_project_size  \\\n",
              "0  404 // Software crafters    4.7   5 reviews         $10,000+   \n",
              "1                 Rootstrap    4.8  34 reviews         $50,000+   \n",
              "2                   Flux IT    4.9  10 reviews         $10,000+   \n",
              "3          Simplex Software    4.7  10 reviews         $10,000+   \n",
              "4                   Clarika    4.8  14 reviews         $10,000+   \n",
              "\n",
              "    avg_hourly_rate employees                 location  \\\n",
              "0    $25 - $49 / hr   10 - 49  Campo Salles, Argentina   \n",
              "1  $100 - $149 / hr  50 - 249  Buenos Aires, Argentina   \n",
              "2       Undisclosed  50 - 249        Gonnet, Argentina   \n",
              "3    $25 - $49 / hr  50 - 249           CMK, Argentina   \n",
              "4    $25 - $49 / hr  50 - 249       Córdoba, Argentina   \n",
              "\n",
              "  service_focus_mobile_app_development  \\\n",
              "0                                  40%   \n",
              "1                                  25%   \n",
              "2                                  30%   \n",
              "3                                  25%   \n",
              "4                                  20%   \n",
              "\n",
              "  service_focus_custom_software_development service_focus_web_development  \\\n",
              "0                                       30%                           30%   \n",
              "1                                       10%                           40%   \n",
              "2                                       40%                           30%   \n",
              "3                                       10%                           15%   \n",
              "4                                       30%                           10%   \n",
              "\n",
              "  client_focus_midmarket_10m_1b client_focus_enterprise_1b  \\\n",
              "0                           80%                        10%   \n",
              "1                           40%                        25%   \n",
              "2                           50%                        25%   \n",
              "3                           50%                        NaN   \n",
              "4                           70%                        NaN   \n",
              "\n",
              "  client_focus_small_business service_focus_artificial_intelligence  \\\n",
              "0                         10%                                   NaN   \n",
              "1                         35%                                   25%   \n",
              "2                         25%                                   NaN   \n",
              "3                         50%                                   NaN   \n",
              "4                         30%                                   NaN   \n",
              "\n",
              "  service_focus_it_staff_augmentation service_focus_it_strategy_consulting  \\\n",
              "0                                 NaN                                  NaN   \n",
              "1                                 NaN                                  NaN   \n",
              "2                                 NaN                                  NaN   \n",
              "3                                 40%                                  10%   \n",
              "4                                 30%                                  10%   \n",
              "\n",
              "  service_focus_bi_big_data_consulting_si service_focus_blockchain  \\\n",
              "0                                     NaN                      NaN   \n",
              "1                                     NaN                      NaN   \n",
              "2                                     NaN                      NaN   \n",
              "3                                     NaN                      NaN   \n",
              "4                                     NaN                      NaN   \n",
              "\n",
              "  service_focus_cloud_consulting_si service_focus_application_testing  \\\n",
              "0                               NaN                               NaN   \n",
              "1                               NaN                               NaN   \n",
              "2                               NaN                               NaN   \n",
              "3                               NaN                               NaN   \n",
              "4                               NaN                               NaN   \n",
              "\n",
              "  service_focus_architectural_design service_focus_uxui_design  \\\n",
              "0                                NaN                       NaN   \n",
              "1                                NaN                       NaN   \n",
              "2                                NaN                       NaN   \n",
              "3                                NaN                       NaN   \n",
              "4                                NaN                       NaN   \n",
              "\n",
              "  service_focus_erp_consulting_and_si service_focus_ecommerce_development  \\\n",
              "0                                 NaN                                 NaN   \n",
              "1                                 NaN                                 NaN   \n",
              "2                                 NaN                                 NaN   \n",
              "3                                 NaN                                 NaN   \n",
              "4                                 NaN                                 NaN   \n",
              "\n",
              "  service_focus_iot_development service_focus_enterprise_app_modernization  \\\n",
              "0                           NaN                                        NaN   \n",
              "1                           NaN                                        NaN   \n",
              "2                           NaN                                        NaN   \n",
              "3                           NaN                                        NaN   \n",
              "4                           NaN                                        NaN   \n",
              "\n",
              "  service_focus_arvr_development service_focus_crm_consulting_and_si  \\\n",
              "0                            NaN                                 NaN   \n",
              "1                            NaN                                 NaN   \n",
              "2                            NaN                                 NaN   \n",
              "3                            NaN                                 NaN   \n",
              "4                            NaN                                 NaN   \n",
              "\n",
              "  service_focus_other service_focus_other_application_development  \\\n",
              "0                 NaN                                         NaN   \n",
              "1                 NaN                                         NaN   \n",
              "2                 NaN                                         NaN   \n",
              "3                 NaN                                         NaN   \n",
              "4                 NaN                                         NaN   \n",
              "\n",
              "  service_focus_content_marketing service_focus_digital_strategy  \\\n",
              "0                             NaN                            NaN   \n",
              "1                             NaN                            NaN   \n",
              "2                             NaN                            NaN   \n",
              "3                             NaN                            NaN   \n",
              "4                             NaN                            NaN   \n",
              "\n",
              "  service_focus_social_media_marketing service_focus_web_design  \\\n",
              "0                                  NaN                      NaN   \n",
              "1                                  NaN                      NaN   \n",
              "2                                  NaN                      NaN   \n",
              "3                                  NaN                      NaN   \n",
              "4                                  NaN                      NaN   \n",
              "\n",
              "  service_focus_it_managed_services service_focus_other_it_consulting_and_si  \\\n",
              "0                               NaN                                      NaN   \n",
              "1                               NaN                                      NaN   \n",
              "2                               NaN                                      NaN   \n",
              "3                               NaN                                      NaN   \n",
              "4                               NaN                                      NaN   \n",
              "\n",
              "  service_focus_application_management_support service_focus_product_design  \\\n",
              "0                                          NaN                          NaN   \n",
              "1                                          NaN                          NaN   \n",
              "2                                          NaN                          NaN   \n",
              "3                                          NaN                          NaN   \n",
              "4                                          NaN                          NaN   \n",
              "\n",
              "  service_focus_search_engine_optimization service_focus_graphic_design  \\\n",
              "0                                      NaN                          NaN   \n",
              "1                                      NaN                          NaN   \n",
              "2                                      NaN                          NaN   \n",
              "3                                      NaN                          NaN   \n",
              "4                                      NaN                          NaN   \n",
              "\n",
              "  service_focus_hr_services service_focus_wearable_app_development  \\\n",
              "0                       NaN                                    NaN   \n",
              "1                       NaN                                    NaN   \n",
              "2                       NaN                                    NaN   \n",
              "3                       NaN                                    NaN   \n",
              "4                       NaN                                    NaN   \n",
              "\n",
              "  service_focus_branding service_focus_email_marketing  \\\n",
              "0                    NaN                           NaN   \n",
              "1                    NaN                           NaN   \n",
              "2                    NaN                           NaN   \n",
              "3                    NaN                           NaN   \n",
              "4                    NaN                           NaN   \n",
              "\n",
              "  service_focus_advertising service_focus_logo service_focus_video_production  \\\n",
              "0                       NaN                NaN                            NaN   \n",
              "1                       NaN                NaN                            NaN   \n",
              "2                       NaN                NaN                            NaN   \n",
              "3                       NaN                NaN                            NaN   \n",
              "4                       NaN                NaN                            NaN   \n",
              "\n",
              "  service_focus_market_research service_focus_pay_per_click  \\\n",
              "0                           NaN                         NaN   \n",
              "1                           NaN                         NaN   \n",
              "2                           NaN                         NaN   \n",
              "3                           NaN                         NaN   \n",
              "4                           NaN                         NaN   \n",
              "\n",
              "  service_focus_cybersecurity service_focus_accounting  \\\n",
              "0                         NaN                      NaN   \n",
              "1                         NaN                      NaN   \n",
              "2                         NaN                      NaN   \n",
              "3                         NaN                      NaN   \n",
              "4                         NaN                      NaN   \n",
              "\n",
              "  service_focus_business_consulting service_focus_translation  \\\n",
              "0                               NaN                       NaN   \n",
              "1                               NaN                       NaN   \n",
              "2                               NaN                       NaN   \n",
              "3                               NaN                       NaN   \n",
              "4                               NaN                       NaN   \n",
              "\n",
              "  service_focus_other_design service_focus_other_digital_marketing  \\\n",
              "0                        NaN                                   NaN   \n",
              "1                        NaN                                   NaN   \n",
              "2                        NaN                                   NaN   \n",
              "3                        NaN                                   NaN   \n",
              "4                        NaN                                   NaN   \n",
              "\n",
              "  service_focus_mobile_app_marketing service_focus_sales_outsourcing  \n",
              "0                                NaN                             NaN  \n",
              "1                                NaN                             NaN  \n",
              "2                                NaN                             NaN  \n",
              "3                                NaN                             NaN  \n",
              "4                                NaN                             NaN  "
            ]
          },
          "execution_count": 109,
          "metadata": {},
          "output_type": "execute_result"
        }
      ],
      "source": [
        "pd.set_option('display.max_columns', None)\n",
        "providers.head()"
      ]
    },
    {
      "cell_type": "markdown",
      "metadata": {
        "id": "BQkRZbnjoarT"
      },
      "source": [
        "## Preproceso"
      ]
    },
    {
      "cell_type": "markdown",
      "metadata": {
        "id": "nqUX1CB5odAO"
      },
      "source": [
        "### Duplicados"
      ]
    },
    {
      "cell_type": "code",
      "execution_count": null,
      "metadata": {
        "id": "SU-XY_8roFWI"
      },
      "outputs": [],
      "source": [
        "providers.drop_duplicates(inplace = True)"
      ]
    },
    {
      "cell_type": "markdown",
      "metadata": {
        "id": "pNDIFuOaCTru"
      },
      "source": [
        "### Valores N/A"
      ]
    },
    {
      "cell_type": "code",
      "execution_count": null,
      "metadata": {
        "id": "05-Zj55RB-UF"
      },
      "outputs": [],
      "source": [
        "providers.fillna('0', inplace=True)"
      ]
    },
    {
      "cell_type": "markdown",
      "metadata": {
        "id": "poYAxBwZW3bK"
      },
      "source": [
        "## En clase"
      ]
    },
    {
      "cell_type": "code",
      "execution_count": null,
      "metadata": {
        "colab": {
          "base_uri": "https://localhost:8080/"
        },
        "id": "K2p-B3d0JMEm",
        "outputId": "c844841f-314b-4ab2-fe9d-9f0054593d6a"
      },
      "outputs": [
        {
          "name": "stdout",
          "output_type": "stream",
          "text": [
            "6 0\n"
          ]
        }
      ],
      "source": [
        "clutch_argentina = requests.get(f'https://clutch.co/ar/developers?page=0')\n",
        "bs_clutch = BeautifulSoup(clutch_argentina.text)\n",
        "\n",
        "ultima_pagina = bs_clutch.select('li.page-item.last > a')[0].attrs['data-page']\n",
        "\n",
        "current_page = bs_clutch.select('li.page-item.active > a')[0].attrs['data-page']\n",
        "\n",
        "print(ultima_pagina, current_page)"
      ]
    },
    {
      "cell_type": "code",
      "execution_count": null,
      "metadata": {
        "id": "h6hlhlmGM1nG"
      },
      "outputs": [],
      "source": [
        "def get_element_if_exists(elements):\n",
        "  if len(elements) > 0:\n",
        "    return elements[0].text.strip()"
      ]
    },
    {
      "cell_type": "code",
      "execution_count": null,
      "metadata": {
        "id": "J8jX8-xqKjOp"
      },
      "outputs": [],
      "source": [
        "empresas = []\n",
        "\n",
        "for page_number in range(int(ultima_pagina) + 1):\n",
        "  clutch_argentina = requests.get(f'https://clutch.co/ar/developers?page={page_number}')\n",
        "  bs_clutch = BeautifulSoup(clutch_argentina.text)  \n",
        "  li = bs_clutch.select('ul.directory-list li.provider-row')\n",
        "\n",
        "  for l in li:\n",
        "    d = {}\n",
        "    d['nombre'] = get_element_if_exists(l.select('h3.company_info a'))\n",
        "    d['rating'] = get_element_if_exists(l.select('.rating'))\n",
        "    d['reviews'] = get_element_if_exists(l.select('.reviews-link'))\n",
        "\n",
        "    items = l.select('.module-list > div')\n",
        "    for i in items:\n",
        "      key_name = BeautifulSoup(i.attrs['data-content']).text\n",
        "      d[key_name] = get_element_if_exists(i.select('span'))\n",
        "\n",
        "    perc = l.select('.chartAreaContainer > div')\n",
        "    for p in perc:\n",
        "      contenido = BeautifulSoup(p.attrs['data-content'])\n",
        "      d[contenido.b.text] = contenido.i.text\n",
        "      \n",
        "    empresas.append(d)"
      ]
    },
    {
      "cell_type": "code",
      "execution_count": null,
      "metadata": {
        "colab": {
          "base_uri": "https://localhost:8080/"
        },
        "id": "bWfQB98PV8A2",
        "outputId": "e5599366-318b-445b-c44b-f84fc66f3e9c"
      },
      "outputs": [
        {
          "data": {
            "text/plain": [
              "(328, 64)"
            ]
          },
          "execution_count": 88,
          "metadata": {},
          "output_type": "execute_result"
        }
      ],
      "source": [
        "resultado = pd.DataFrame(empresas)\n",
        "resultado.shape"
      ]
    },
    {
      "cell_type": "code",
      "execution_count": null,
      "metadata": {
        "colab": {
          "base_uri": "https://localhost:8080/",
          "height": 490
        },
        "id": "8_TG-mdoKvy6",
        "outputId": "b0fb25db-a184-4c27-e422-bc91c21dd191"
      },
      "outputs": [
        {
          "data": {
            "text/html": [
              "\n",
              "  <div id=\"df-0dbe3f37-5407-45b6-b99e-d26e5dce5e18\">\n",
              "    <div class=\"colab-df-container\">\n",
              "      <div>\n",
              "<style scoped>\n",
              "    .dataframe tbody tr th:only-of-type {\n",
              "        vertical-align: middle;\n",
              "    }\n",
              "\n",
              "    .dataframe tbody tr th {\n",
              "        vertical-align: top;\n",
              "    }\n",
              "\n",
              "    .dataframe thead th {\n",
              "        text-align: right;\n",
              "    }\n",
              "</style>\n",
              "<table border=\"1\" class=\"dataframe\">\n",
              "  <thead>\n",
              "    <tr style=\"text-align: right;\">\n",
              "      <th></th>\n",
              "      <th>nombre</th>\n",
              "      <th>rating</th>\n",
              "      <th>reviews</th>\n",
              "      <th>Min. project size</th>\n",
              "      <th>Avg. hourly rate</th>\n",
              "      <th>Employees</th>\n",
              "      <th>Location</th>\n",
              "      <th>Custom Software Development</th>\n",
              "      <th>IT Staff Augmentation</th>\n",
              "      <th>Mobile App Development</th>\n",
              "      <th>...</th>\n",
              "      <th>Logo</th>\n",
              "      <th>Video Production</th>\n",
              "      <th>Pay Per Click</th>\n",
              "      <th>Customs brokerage</th>\n",
              "      <th>Other Design</th>\n",
              "      <th>Advertising</th>\n",
              "      <th>Commercial Financing, Funding, &amp; Investment</th>\n",
              "      <th>Translation</th>\n",
              "      <th>Other Digital Marketing</th>\n",
              "      <th>Unified Communications Consulting &amp; SI</th>\n",
              "    </tr>\n",
              "  </thead>\n",
              "  <tbody>\n",
              "    <tr>\n",
              "      <th>0</th>\n",
              "      <td>BEON Tech Studio</td>\n",
              "      <td>4.9</td>\n",
              "      <td>26.0</td>\n",
              "      <td>$50,000+</td>\n",
              "      <td>$25 - $49 / hr</td>\n",
              "      <td>50 - 249</td>\n",
              "      <td>Buenos Aires, Argentina</td>\n",
              "      <td>50%</td>\n",
              "      <td>50%</td>\n",
              "      <td>0</td>\n",
              "      <td>...</td>\n",
              "      <td>0</td>\n",
              "      <td>0</td>\n",
              "      <td>0</td>\n",
              "      <td>0</td>\n",
              "      <td>0</td>\n",
              "      <td>0</td>\n",
              "      <td>0</td>\n",
              "      <td>0</td>\n",
              "      <td>0</td>\n",
              "      <td>0</td>\n",
              "    </tr>\n",
              "    <tr>\n",
              "      <th>1</th>\n",
              "      <td>Clarika</td>\n",
              "      <td>4.8</td>\n",
              "      <td>13.0</td>\n",
              "      <td>$10,000+</td>\n",
              "      <td>$25 - $49 / hr</td>\n",
              "      <td>50 - 249</td>\n",
              "      <td>Córdoba, Argentina</td>\n",
              "      <td>30%</td>\n",
              "      <td>30%</td>\n",
              "      <td>20%</td>\n",
              "      <td>...</td>\n",
              "      <td>0</td>\n",
              "      <td>0</td>\n",
              "      <td>0</td>\n",
              "      <td>0</td>\n",
              "      <td>0</td>\n",
              "      <td>0</td>\n",
              "      <td>0</td>\n",
              "      <td>0</td>\n",
              "      <td>0</td>\n",
              "      <td>0</td>\n",
              "    </tr>\n",
              "    <tr>\n",
              "      <th>2</th>\n",
              "      <td>Crombie</td>\n",
              "      <td>4.8</td>\n",
              "      <td>15.0</td>\n",
              "      <td>$10,000+</td>\n",
              "      <td>$25 - $49 / hr</td>\n",
              "      <td>10 - 49</td>\n",
              "      <td>FQC, Argentina</td>\n",
              "      <td>25%</td>\n",
              "      <td>25%</td>\n",
              "      <td>20%</td>\n",
              "      <td>...</td>\n",
              "      <td>0</td>\n",
              "      <td>0</td>\n",
              "      <td>0</td>\n",
              "      <td>0</td>\n",
              "      <td>0</td>\n",
              "      <td>0</td>\n",
              "      <td>0</td>\n",
              "      <td>0</td>\n",
              "      <td>0</td>\n",
              "      <td>0</td>\n",
              "    </tr>\n",
              "    <tr>\n",
              "      <th>3</th>\n",
              "      <td>Patagonian</td>\n",
              "      <td>4.9</td>\n",
              "      <td>6.0</td>\n",
              "      <td>$75,000+</td>\n",
              "      <td>$50 - $99 / hr</td>\n",
              "      <td>50 - 249</td>\n",
              "      <td>General Roca, Argentina</td>\n",
              "      <td>20%</td>\n",
              "      <td>0</td>\n",
              "      <td>20%</td>\n",
              "      <td>...</td>\n",
              "      <td>0</td>\n",
              "      <td>0</td>\n",
              "      <td>0</td>\n",
              "      <td>0</td>\n",
              "      <td>0</td>\n",
              "      <td>0</td>\n",
              "      <td>0</td>\n",
              "      <td>0</td>\n",
              "      <td>0</td>\n",
              "      <td>0</td>\n",
              "    </tr>\n",
              "    <tr>\n",
              "      <th>4</th>\n",
              "      <td>Rootstrap</td>\n",
              "      <td>4.8</td>\n",
              "      <td>34.0</td>\n",
              "      <td>$50,000+</td>\n",
              "      <td>$100 - $149 / hr</td>\n",
              "      <td>50 - 249</td>\n",
              "      <td>Buenos Aires, Argentina</td>\n",
              "      <td>10%</td>\n",
              "      <td>0</td>\n",
              "      <td>25%</td>\n",
              "      <td>...</td>\n",
              "      <td>0</td>\n",
              "      <td>0</td>\n",
              "      <td>0</td>\n",
              "      <td>0</td>\n",
              "      <td>0</td>\n",
              "      <td>0</td>\n",
              "      <td>0</td>\n",
              "      <td>0</td>\n",
              "      <td>0</td>\n",
              "      <td>0</td>\n",
              "    </tr>\n",
              "  </tbody>\n",
              "</table>\n",
              "<p>5 rows × 64 columns</p>\n",
              "</div>\n",
              "      <button class=\"colab-df-convert\" onclick=\"convertToInteractive('df-0dbe3f37-5407-45b6-b99e-d26e5dce5e18')\"\n",
              "              title=\"Convert this dataframe to an interactive table.\"\n",
              "              style=\"display:none;\">\n",
              "        \n",
              "  <svg xmlns=\"http://www.w3.org/2000/svg\" height=\"24px\"viewBox=\"0 0 24 24\"\n",
              "       width=\"24px\">\n",
              "    <path d=\"M0 0h24v24H0V0z\" fill=\"none\"/>\n",
              "    <path d=\"M18.56 5.44l.94 2.06.94-2.06 2.06-.94-2.06-.94-.94-2.06-.94 2.06-2.06.94zm-11 1L8.5 8.5l.94-2.06 2.06-.94-2.06-.94L8.5 2.5l-.94 2.06-2.06.94zm10 10l.94 2.06.94-2.06 2.06-.94-2.06-.94-.94-2.06-.94 2.06-2.06.94z\"/><path d=\"M17.41 7.96l-1.37-1.37c-.4-.4-.92-.59-1.43-.59-.52 0-1.04.2-1.43.59L10.3 9.45l-7.72 7.72c-.78.78-.78 2.05 0 2.83L4 21.41c.39.39.9.59 1.41.59.51 0 1.02-.2 1.41-.59l7.78-7.78 2.81-2.81c.8-.78.8-2.07 0-2.86zM5.41 20L4 18.59l7.72-7.72 1.47 1.35L5.41 20z\"/>\n",
              "  </svg>\n",
              "      </button>\n",
              "      \n",
              "  <style>\n",
              "    .colab-df-container {\n",
              "      display:flex;\n",
              "      flex-wrap:wrap;\n",
              "      gap: 12px;\n",
              "    }\n",
              "\n",
              "    .colab-df-convert {\n",
              "      background-color: #E8F0FE;\n",
              "      border: none;\n",
              "      border-radius: 50%;\n",
              "      cursor: pointer;\n",
              "      display: none;\n",
              "      fill: #1967D2;\n",
              "      height: 32px;\n",
              "      padding: 0 0 0 0;\n",
              "      width: 32px;\n",
              "    }\n",
              "\n",
              "    .colab-df-convert:hover {\n",
              "      background-color: #E2EBFA;\n",
              "      box-shadow: 0px 1px 2px rgba(60, 64, 67, 0.3), 0px 1px 3px 1px rgba(60, 64, 67, 0.15);\n",
              "      fill: #174EA6;\n",
              "    }\n",
              "\n",
              "    [theme=dark] .colab-df-convert {\n",
              "      background-color: #3B4455;\n",
              "      fill: #D2E3FC;\n",
              "    }\n",
              "\n",
              "    [theme=dark] .colab-df-convert:hover {\n",
              "      background-color: #434B5C;\n",
              "      box-shadow: 0px 1px 3px 1px rgba(0, 0, 0, 0.15);\n",
              "      filter: drop-shadow(0px 1px 2px rgba(0, 0, 0, 0.3));\n",
              "      fill: #FFFFFF;\n",
              "    }\n",
              "  </style>\n",
              "\n",
              "      <script>\n",
              "        const buttonEl =\n",
              "          document.querySelector('#df-0dbe3f37-5407-45b6-b99e-d26e5dce5e18 button.colab-df-convert');\n",
              "        buttonEl.style.display =\n",
              "          google.colab.kernel.accessAllowed ? 'block' : 'none';\n",
              "\n",
              "        async function convertToInteractive(key) {\n",
              "          const element = document.querySelector('#df-0dbe3f37-5407-45b6-b99e-d26e5dce5e18');\n",
              "          const dataTable =\n",
              "            await google.colab.kernel.invokeFunction('convertToInteractive',\n",
              "                                                     [key], {});\n",
              "          if (!dataTable) return;\n",
              "\n",
              "          const docLinkHtml = 'Like what you see? Visit the ' +\n",
              "            '<a target=\"_blank\" href=https://colab.research.google.com/notebooks/data_table.ipynb>data table notebook</a>'\n",
              "            + ' to learn more about interactive tables.';\n",
              "          element.innerHTML = '';\n",
              "          dataTable['output_type'] = 'display_data';\n",
              "          await google.colab.output.renderOutput(dataTable, element);\n",
              "          const docLink = document.createElement('div');\n",
              "          docLink.innerHTML = docLinkHtml;\n",
              "          element.appendChild(docLink);\n",
              "        }\n",
              "      </script>\n",
              "    </div>\n",
              "  </div>\n",
              "  "
            ],
            "text/plain": [
              "             nombre  rating  reviews Min. project size  Avg. hourly rate  \\\n",
              "0  BEON Tech Studio     4.9     26.0          $50,000+    $25 - $49 / hr   \n",
              "1           Clarika     4.8     13.0          $10,000+    $25 - $49 / hr   \n",
              "2           Crombie     4.8     15.0          $10,000+    $25 - $49 / hr   \n",
              "3        Patagonian     4.9      6.0          $75,000+    $50 - $99 / hr   \n",
              "4         Rootstrap     4.8     34.0          $50,000+  $100 - $149 / hr   \n",
              "\n",
              "  Employees                 Location Custom Software Development  \\\n",
              "0  50 - 249  Buenos Aires, Argentina                         50%   \n",
              "1  50 - 249       Córdoba, Argentina                         30%   \n",
              "2   10 - 49           FQC, Argentina                         25%   \n",
              "3  50 - 249  General Roca, Argentina                         20%   \n",
              "4  50 - 249  Buenos Aires, Argentina                         10%   \n",
              "\n",
              "  IT Staff Augmentation Mobile App Development  ... Logo Video Production  \\\n",
              "0                   50%                      0  ...    0                0   \n",
              "1                   30%                    20%  ...    0                0   \n",
              "2                   25%                    20%  ...    0                0   \n",
              "3                     0                    20%  ...    0                0   \n",
              "4                     0                    25%  ...    0                0   \n",
              "\n",
              "  Pay Per Click Customs brokerage Other Design Advertising  \\\n",
              "0             0                 0            0           0   \n",
              "1             0                 0            0           0   \n",
              "2             0                 0            0           0   \n",
              "3             0                 0            0           0   \n",
              "4             0                 0            0           0   \n",
              "\n",
              "  Commercial Financing, Funding, & Investment Translation  \\\n",
              "0                                           0           0   \n",
              "1                                           0           0   \n",
              "2                                           0           0   \n",
              "3                                           0           0   \n",
              "4                                           0           0   \n",
              "\n",
              "  Other Digital Marketing Unified Communications Consulting & SI  \n",
              "0                       0                                      0  \n",
              "1                       0                                      0  \n",
              "2                       0                                      0  \n",
              "3                       0                                      0  \n",
              "4                       0                                      0  \n",
              "\n",
              "[5 rows x 64 columns]"
            ]
          },
          "execution_count": 104,
          "metadata": {},
          "output_type": "execute_result"
        }
      ],
      "source": [
        "resultado.head()"
      ]
    },
    {
      "cell_type": "code",
      "execution_count": null,
      "metadata": {
        "colab": {
          "base_uri": "https://localhost:8080/",
          "height": 282
        },
        "id": "T2uD-o9SZe6y",
        "outputId": "ce8c559f-9c0a-4b32-ef4d-fbe6a85cd29f"
      },
      "outputs": [
        {
          "data": {
            "text/plain": [
              "<matplotlib.axes._subplots.AxesSubplot at 0x7fe5ec61fed0>"
            ]
          },
          "execution_count": 90,
          "metadata": {},
          "output_type": "execute_result"
        },
        {
          "data": {
            "image/png": "[encoded data removed]",
            "text/plain": [
              "<Figure size 432x288 with 1 Axes>"
            ]
          },
          "metadata": {
            "needs_background": "light"
          },
          "output_type": "display_data"
        }
      ],
      "source": [
        "resultado.rating.astype(float).plot.hist()"
      ]
    },
    {
      "cell_type": "code",
      "execution_count": null,
      "metadata": {
        "id": "da72CkE2cyep"
      },
      "outputs": [],
      "source": [
        "resultado = resultado.fillna('0')\n",
        "resultado.reviews = resultado.reviews.str.split(' ').str[0]\n",
        "resultado.reviews = resultado.reviews.astype(float)\n",
        "resultado.rating = resultado.rating.astype(float)"
      ]
    },
    {
      "cell_type": "code",
      "execution_count": null,
      "metadata": {
        "colab": {
          "base_uri": "https://localhost:8080/",
          "height": 282
        },
        "id": "NxCvDREgcn8n",
        "outputId": "7cc2195a-40ee-4eee-fc24-cad3bfb577ce"
      },
      "outputs": [
        {
          "data": {
            "text/plain": [
              "<matplotlib.collections.PathCollection at 0x7fe5eb6c1790>"
            ]
          },
          "execution_count": 103,
          "metadata": {},
          "output_type": "execute_result"
        },
        {
          "data": {
            "image/png": "[encoded data removed]",
            "text/plain": [
              "<Figure size 432x288 with 1 Axes>"
            ]
          },
          "metadata": {
            "needs_background": "light"
          },
          "output_type": "display_data"
        }
      ],
      "source": [
        "empresas_con_rating = resultado.query('reviews != 0')\n",
        "plt.scatter(empresas_con_rating.reviews, empresas_con_rating.rating)"
      ]
    },
    {
      "cell_type": "markdown",
      "metadata": {
        "id": "IvKkZ1P1ggKs"
      },
      "source": [
        "-agregar las categorias: web, software dev(ya esta), mobiel\n",
        "- eliminar duplicados\n",
        "- elegir una empresa\n",
        "- sacar client focus\n",
        "- filtrar aquellas empresas que al menos dos principales (de mayor porcentaje) de las caracteristicas.\n",
        "- armar métrica de diferencia: cantidad de empleados maximo y restar la elegida, lo mismo con min project size, mismo tarifa. ¿armamos una sola metrica con las tres o las tres por separadas?\n",
        "- \n",
        "- graficar"
      ]
    }
  ],
  "metadata": {
    "colab": {
      "collapsed_sections": [],
      "name": "tp_web_mining.ipynb",
      "provenance": [],
      "toc_visible": true
    },
    "kernelspec": {
      "display_name": "Python 3",
      "name": "python3"
    },
    "language_info": {
      "codemirror_mode": {
        "name": "ipython",
        "version": 3
      },
      "file_extension": ".py",
      "mimetype": "text/x-python",
      "name": "python",
      "nbconvert_exporter": "python",
      "pygments_lexer": "ipython3",
      "version": "3.8.10"
    }
  },
  "nbformat": 4,
  "nbformat_minor": 0
}
