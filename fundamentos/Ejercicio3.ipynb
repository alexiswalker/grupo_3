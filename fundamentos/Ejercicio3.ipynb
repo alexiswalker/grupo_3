{
  "nbformat": 4,
  "nbformat_minor": 0,
  "metadata": {
    "colab": {
      "name": "Ejercicio3.ipynb",
      "provenance": [],
      "collapsed_sections": []
    },
    "kernelspec": {
      "name": "python3",
      "display_name": "Python 3"
    },
    "language_info": {
      "name": "python"
    },
    "accelerator": "GPU"
  },
  "cells": [
    {
      "cell_type": "code",
      "source": [
        "import os\n",
        "import yaml\n",
        "import torch\n",
        "import gdown\n",
        "import shutil\n",
        "import zipfile\n",
        "from pathlib import Path\n",
        "from google.colab import files\n",
        "from xml.etree import ElementTree\n",
        "from sklearn.model_selection import train_test_split"
      ],
      "metadata": {
        "id": "KXM6jhUTsEoN"
      },
      "execution_count": 17,
      "outputs": []
    },
    {
      "cell_type": "markdown",
      "source": [
        "[Código en Colab](https://colab.research.google.com/drive/1zjuz8_LHb9ls1PyiBW9-H-8yp5uE1oHc?usp=sharing), se puede ejecutar sin necesidad e montar ninguna unidad."
      ],
      "metadata": {
        "id": "qYzFQoRtUQMf"
      }
    },
    {
      "cell_type": "markdown",
      "source": [
        "# Instalación de Yolo"
      ],
      "metadata": {
        "id": "5Zux1cTArRYF"
      }
    },
    {
      "cell_type": "code",
      "source": [
        "!git clone https://github.com/ultralytics/yolov5  # clone\n",
        "%cd yolov5\n",
        "%pip install -qr requirements.txt  # install\n",
        "\n",
        "from yolov5 import utils\n",
        "display = utils.notebook_init()  # checks"
      ],
      "metadata": {
        "colab": {
          "base_uri": "https://localhost:8080/"
        },
        "id": "H2qkjHyx7agy",
        "outputId": "a5d66bcb-a811-482e-f6b5-63cb05a94f5d"
      },
      "execution_count": 2,
      "outputs": [
        {
          "output_type": "stream",
          "name": "stderr",
          "text": [
            "YOLOv5 🚀 v6.1-176-gaa7a0e9 torch 1.11.0+cu113 CUDA:0 (Tesla K80, 11441MiB)\n"
          ]
        },
        {
          "output_type": "stream",
          "name": "stdout",
          "text": [
            "Setup complete ✅ (2 CPUs, 12.7 GB RAM, 38.2/78.2 GB disk)\n"
          ]
        }
      ]
    },
    {
      "cell_type": "markdown",
      "source": [
        "# Extracción del DataSet"
      ],
      "metadata": {
        "id": "TF4taby47T4J"
      }
    },
    {
      "cell_type": "markdown",
      "source": [
        "Descarga"
      ],
      "metadata": {
        "id": "dGNBlXusE2XQ"
      }
    },
    {
      "cell_type": "code",
      "source": [
        "zip_file_url = 'https://drive.google.com/uc?id=1CFeq6JVz5coNzvoIVfzh0vmnh7l-VSUl'\n",
        "zip_file_name = gdown.download(zip_file_url, quiet=True)"
      ],
      "metadata": {
        "id": "vfBVNKXqEzUA"
      },
      "execution_count": 3,
      "outputs": []
    },
    {
      "cell_type": "code",
      "source": [
        "zip_folder_name = Path(zip_file_name).stem\n",
        "\n",
        "TRAIN_IMAGES_FOLDER = f'{zip_folder_name}/images/train/'\n",
        "TRAIN_LABELS_FOLDER = f'{zip_folder_name}/labels/train/'\n",
        "TEST_IMAGES_FOLDER = f'{zip_folder_name}/images/test/'\n",
        "TEST_LABELS_FOLDER = f'{zip_folder_name}/labels/test/'"
      ],
      "metadata": {
        "id": "TeVyravUwlu1"
      },
      "execution_count": 4,
      "outputs": []
    },
    {
      "cell_type": "code",
      "source": [
        "zip_file_manager = zipfile.ZipFile(zip_file_name, 'r')"
      ],
      "metadata": {
        "id": "WDDPrBeTHDYI"
      },
      "execution_count": 5,
      "outputs": []
    },
    {
      "cell_type": "markdown",
      "source": [
        "Se recuperan los nombres únicos de los archivos sin extensión."
      ],
      "metadata": {
        "id": "PGvJw916Uzr3"
      }
    },
    {
      "cell_type": "code",
      "source": [
        "file_names = list(set([Path(i).stem for i in zip_file_manager.namelist()])) "
      ],
      "metadata": {
        "id": "9Rf3oZaMAw4J"
      },
      "execution_count": 6,
      "outputs": []
    },
    {
      "cell_type": "markdown",
      "source": [
        "Separación en train y test."
      ],
      "metadata": {
        "id": "iZanniJLVKbd"
      }
    },
    {
      "cell_type": "code",
      "source": [
        "train, test = train_test_split(file_names, test_size=0.3, random_state=42)"
      ],
      "metadata": {
        "id": "fsXlsEprFAQr"
      },
      "execution_count": 7,
      "outputs": []
    },
    {
      "cell_type": "markdown",
      "source": [
        "Se descomprimen las imágenes y sus etiquetan en la carpeta correspondiente según la asignación obtenida por la instrucción anterior."
      ],
      "metadata": {
        "id": "Zshv6PLfU5C-"
      }
    },
    {
      "cell_type": "code",
      "source": [
        "for folder, data in zip((TRAIN_IMAGES_FOLDER, TEST_IMAGES_FOLDER), (train, test)):\n",
        "  for file_name in data:\n",
        "    zip_file_manager.extract(f'{file_name}.jpg', f'./{folder}')\n",
        "\n",
        "for folder, data in zip((TRAIN_LABELS_FOLDER, TEST_LABELS_FOLDER), (train, test)):\n",
        "  for file_name in data:\n",
        "    zip_file_manager.extract(f'{file_name}.xml', f'./{folder}')"
      ],
      "metadata": {
        "id": "Ebxl6wtNGIdp"
      },
      "execution_count": 8,
      "outputs": []
    },
    {
      "cell_type": "markdown",
      "source": [
        "# Yaml"
      ],
      "metadata": {
        "id": "3HNLP8Yb9Zjk"
      }
    },
    {
      "cell_type": "markdown",
      "source": [
        "Se crea el archivo que parametriza el origen de los datos y las categorías etiquetadas."
      ],
      "metadata": {
        "id": "tnu85mBpVUFn"
      }
    },
    {
      "cell_type": "code",
      "source": [
        "# creamos yaml\n",
        "yaml_dict = {'train': TRAIN_IMAGES_FOLDER,\n",
        "          'val': TEST_IMAGES_FOLDER,\n",
        "          'nc': 1,\n",
        "          'names': ['pothole']}\n",
        "\n",
        "with open('/content/yolov5/data/pothole.yaml', 'wt') as f:\n",
        "  data = yaml.dump(yaml_dict, f, default_flow_style=False)"
      ],
      "metadata": {
        "id": "dXX6-H1W7bZf"
      },
      "execution_count": 9,
      "outputs": []
    },
    {
      "cell_type": "markdown",
      "source": [
        "# Conversión de etiquetas a formato Yolo"
      ],
      "metadata": {
        "id": "rmvRD0eFRSkd"
      }
    },
    {
      "cell_type": "code",
      "source": [
        "def convert_to_yolov5(info_dict, class_name_to_id_mapping):\n",
        "    print_buffer = []\n",
        "\n",
        "    # Para cada bounding box\n",
        "    for b in info_dict[\"bboxes\"]:\n",
        "        try:\n",
        "            class_id = class_name_to_id_mapping[b[\"class\"]]\n",
        "        except KeyError:\n",
        "            print(\"File is: \", info_dict['filename'])\n",
        "            print(\"Class is: \", b[\"class\"])\n",
        "            print(\"Invalid Class. Must be one from \", class_name_to_id_mapping.keys())\n",
        "            continue\n",
        "\n",
        "        # Transformamos las coordenadas de la bbox para yolo\n",
        "        b_center_x = (b[\"xmin\"] + b[\"xmax\"]) / 2.0 -1\n",
        "        b_center_y = (b[\"ymin\"] + b[\"ymax\"]) / 2.0 -1\n",
        "        b_width = (b[\"xmax\"] - b[\"xmin\"])\n",
        "        b_height = (b[\"ymax\"] - b[\"ymin\"])\n",
        "\n",
        "        # Normalizamos las coordenadas usando la dimension de la imagen\n",
        "        image_w, image_h, image_c = info_dict[\"image_size\"]\n",
        "        b_center_x /= image_w\n",
        "        b_center_y /= image_h\n",
        "        b_width /= image_w\n",
        "        b_height /= image_h\n",
        "\n",
        "        # guardamos la info\n",
        "        print_buffer.append(\n",
        "            \"{} {:.3f} {:.3f} {:.3f} {:.3f}\".format(class_id, b_center_x, b_center_y, b_width, b_height))\n",
        "\n",
        "    return print_buffer"
      ],
      "metadata": {
        "id": "kmvRSc3_-vXO"
      },
      "execution_count": 10,
      "outputs": []
    },
    {
      "cell_type": "code",
      "source": [
        "def extract_info_from_xml(xml_file):\n",
        "    root = ElementTree.parse(xml_file).getroot()\n",
        "\n",
        "    # inicializamos el dict\n",
        "    info_dict = {}\n",
        "    info_dict['bboxes'] = []\n",
        "\n",
        "    # Parseamos el XML Tree\n",
        "    for elem in root:\n",
        "        # obtenemos el nombre de archivo\n",
        "        if elem.tag == \"filename\":\n",
        "            info_dict['filename'] = elem.text\n",
        "\n",
        "        # tamaño de imagen\n",
        "        elif elem.tag == \"size\":\n",
        "            image_size = []\n",
        "            for subelem in elem:\n",
        "                image_size.append(int(subelem.text))\n",
        "\n",
        "            info_dict['image_size'] = tuple(image_size)\n",
        "\n",
        "        # bounding box\n",
        "        elif elem.tag == \"object\":\n",
        "            bbox = {}\n",
        "            for subelem in elem:\n",
        "                if subelem.tag == \"name\":\n",
        "                    bbox[\"class\"] = subelem.text\n",
        "\n",
        "                elif subelem.tag == \"bndbox\":\n",
        "                    for subsubelem in subelem:\n",
        "                        bbox[subsubelem.tag] = int(subsubelem.text)\n",
        "            info_dict['bboxes'].append(bbox)\n",
        "\n",
        "    return info_dict"
      ],
      "metadata": {
        "id": "Ibbd1w3QRbMO"
      },
      "execution_count": 11,
      "outputs": []
    },
    {
      "cell_type": "markdown",
      "source": [
        "Cada archivo .xml es convertido al formato yolo y eliminado."
      ],
      "metadata": {
        "id": "A1-MbOnVVeGs"
      }
    },
    {
      "cell_type": "code",
      "source": [
        "class_name_to_id_mapping = {'pothole': 0}\n",
        "\n",
        "for folder in (TRAIN_LABELS_FOLDER, TEST_LABELS_FOLDER):\n",
        "  xml_files = os.listdir(folder)\n",
        "  for xml_file in xml_files:\n",
        "    full_xml_path = f'{folder}{xml_file}'\n",
        "    full_txt_path = f'{folder}{Path(xml_file).stem}.txt'\n",
        "\n",
        "    info_dict = extract_info_from_xml(full_xml_path)\n",
        "    print_buffer = convert_to_yolov5(info_dict, class_name_to_id_mapping)\n",
        "    with open(full_txt_path, 'w') as f:\n",
        "      print(\"\\n\".join(print_buffer), file=f)\n",
        "    \n",
        "    os.remove(full_xml_path)"
      ],
      "metadata": {
        "id": "IlpLPzZfRybm"
      },
      "execution_count": 12,
      "outputs": []
    },
    {
      "cell_type": "markdown",
      "source": [
        "# Entrenamiento"
      ],
      "metadata": {
        "id": "_59_0eHlqvei"
      }
    },
    {
      "cell_type": "markdown",
      "source": [
        "Se crea un nuevo archivo con los hiperparámetros del modelo, copiando el propuesto por la herramienta y anulando opciones de *image augmentation*."
      ],
      "metadata": {
        "id": "H47kFQkgVl41"
      }
    },
    {
      "cell_type": "code",
      "source": [
        "with open('/content/yolov5/data/hyps/hyp.scratch-low.yaml', 'rt') as f:\n",
        "  next(f) # en la primera línea hay un caracter especial: 🚀\n",
        "  hyperparameters = yaml.safe_load(f)\n",
        "\n",
        "hyperparameters['degrees'] = 0.0\n",
        "hyperparameters['translate'] = 0.0\n",
        "hyperparameters['scale'] = 0.0\n",
        "hyperparameters['shear'] = 0.0\n",
        "hyperparameters['perspective'] = 0.0\n",
        "hyperparameters['flipud'] = 0.0\n",
        "hyperparameters['fliplr'] = 0.0\n",
        "hyperparameters['mosaic'] = 0.0\n",
        "hyperparameters['mixup'] = 0.0\n",
        "hyperparameters['copy_paste'] = 0.0\n",
        "\n",
        "with open('/content/yolov5/data/hyps/custom_hyp.scratch-low.yaml', 'w') as f:\n",
        "  yaml.dump(hyperparameters, f, default_flow_style=False)"
      ],
      "metadata": {
        "id": "5DD421DEzaqo"
      },
      "execution_count": 13,
      "outputs": []
    },
    {
      "cell_type": "code",
      "source": [
        "torch.cuda.is_available()"
      ],
      "metadata": {
        "colab": {
          "base_uri": "https://localhost:8080/"
        },
        "id": "rn80CUoMZSF_",
        "outputId": "23ef6e22-af85-485f-f252-e8be98c55d05"
      },
      "execution_count": 14,
      "outputs": [
        {
          "output_type": "execute_result",
          "data": {
            "text/plain": [
              "True"
            ]
          },
          "metadata": {},
          "execution_count": 14
        }
      ]
    },
    {
      "cell_type": "markdown",
      "source": [
        "Entrenamiento"
      ],
      "metadata": {
        "id": "fEjjJsdiV9L1"
      }
    },
    {
      "cell_type": "code",
      "source": [
        "!python train.py --img 800 --batch 64 --epochs 30 --data ./data/pothole.yaml --weights yolov5s.pt --hyp custom_hyp.scratch-low.yaml"
      ],
      "metadata": {
        "id": "bHYa6ye5nMgn",
        "colab": {
          "base_uri": "https://localhost:8080/"
        },
        "outputId": "1d6b342c-84b0-4bbb-867a-d6c84b989b89"
      },
      "execution_count": 15,
      "outputs": [
        {
          "output_type": "stream",
          "name": "stdout",
          "text": [
            "\u001b[34m\u001b[1mtrain: \u001b[0mweights=yolov5s.pt, cfg=, data=./data/pothole.yaml, hyp=custom_hyp.scratch-low.yaml, epochs=20, batch_size=16, imgsz=800, rect=False, resume=False, nosave=False, noval=False, noautoanchor=False, noplots=False, evolve=None, bucket=, cache=None, image_weights=False, device=, multi_scale=False, single_cls=False, optimizer=SGD, sync_bn=False, workers=8, project=runs/train, name=exp, exist_ok=False, quad=False, cos_lr=False, label_smoothing=0.0, patience=100, freeze=[0], save_period=-1, local_rank=-1, entity=None, upload_dataset=False, bbox_interval=-1, artifact_alias=latest\n",
            "\u001b[34m\u001b[1mgithub: \u001b[0mup to date with https://github.com/ultralytics/yolov5 ✅\n",
            "YOLOv5 🚀 v6.1-176-gaa7a0e9 torch 1.11.0+cu113 CUDA:0 (Tesla K80, 11441MiB)\n",
            "\n",
            "\u001b[34m\u001b[1mhyperparameters: \u001b[0manchor_t=4.0, box=0.05, cls=0.5, cls_pw=1.0, copy_paste=0.0, degrees=0.0, fl_gamma=0.0, fliplr=0.0, flipud=0.0, hsv_h=0.015, hsv_s=0.7, hsv_v=0.4, iou_t=0.2, lr0=0.01, lrf=0.01, mixup=0.0, momentum=0.937, mosaic=0.0, obj=1.0, obj_pw=1.0, perspective=0.0, scale=0.0, shear=0.0, translate=0.0, warmup_bias_lr=0.1, warmup_epochs=3.0, warmup_momentum=0.8, weight_decay=0.0005\n",
            "\u001b[34m\u001b[1mWeights & Biases: \u001b[0mrun 'pip install wandb' to automatically track and visualize YOLOv5 🚀 runs (RECOMMENDED)\n",
            "\u001b[34m\u001b[1mTensorBoard: \u001b[0mStart with 'tensorboard --logdir runs/train', view at http://localhost:6006/\n",
            "Downloading https://ultralytics.com/assets/Arial.ttf to /root/.config/Ultralytics/Arial.ttf...\n",
            "100% 755k/755k [00:00<00:00, 18.1MB/s]\n",
            "Downloading https://github.com/ultralytics/yolov5/releases/download/v6.1/yolov5s.pt to yolov5s.pt...\n",
            "100% 14.1M/14.1M [00:00<00:00, 57.5MB/s]\n",
            "\n",
            "Overriding model.yaml nc=80 with nc=1\n",
            "\n",
            "                 from  n    params  module                                  arguments                     \n",
            "  0                -1  1      3520  models.common.Conv                      [3, 32, 6, 2, 2]              \n",
            "  1                -1  1     18560  models.common.Conv                      [32, 64, 3, 2]                \n",
            "  2                -1  1     18816  models.common.C3                        [64, 64, 1]                   \n",
            "  3                -1  1     73984  models.common.Conv                      [64, 128, 3, 2]               \n",
            "  4                -1  2    115712  models.common.C3                        [128, 128, 2]                 \n",
            "  5                -1  1    295424  models.common.Conv                      [128, 256, 3, 2]              \n",
            "  6                -1  3    625152  models.common.C3                        [256, 256, 3]                 \n",
            "  7                -1  1   1180672  models.common.Conv                      [256, 512, 3, 2]              \n",
            "  8                -1  1   1182720  models.common.C3                        [512, 512, 1]                 \n",
            "  9                -1  1    656896  models.common.SPPF                      [512, 512, 5]                 \n",
            " 10                -1  1    131584  models.common.Conv                      [512, 256, 1, 1]              \n",
            " 11                -1  1         0  torch.nn.modules.upsampling.Upsample    [None, 2, 'nearest']          \n",
            " 12           [-1, 6]  1         0  models.common.Concat                    [1]                           \n",
            " 13                -1  1    361984  models.common.C3                        [512, 256, 1, False]          \n",
            " 14                -1  1     33024  models.common.Conv                      [256, 128, 1, 1]              \n",
            " 15                -1  1         0  torch.nn.modules.upsampling.Upsample    [None, 2, 'nearest']          \n",
            " 16           [-1, 4]  1         0  models.common.Concat                    [1]                           \n",
            " 17                -1  1     90880  models.common.C3                        [256, 128, 1, False]          \n",
            " 18                -1  1    147712  models.common.Conv                      [128, 128, 3, 2]              \n",
            " 19          [-1, 14]  1         0  models.common.Concat                    [1]                           \n",
            " 20                -1  1    296448  models.common.C3                        [256, 256, 1, False]          \n",
            " 21                -1  1    590336  models.common.Conv                      [256, 256, 3, 2]              \n",
            " 22          [-1, 10]  1         0  models.common.Concat                    [1]                           \n",
            " 23                -1  1   1182720  models.common.C3                        [512, 512, 1, False]          \n",
            " 24      [17, 20, 23]  1     16182  models.yolo.Detect                      [1, [[10, 13, 16, 30, 33, 23], [30, 61, 62, 45, 59, 119], [116, 90, 156, 198, 373, 326]], [128, 256, 512]]\n",
            "Model summary: 270 layers, 7022326 parameters, 7022326 gradients, 15.8 GFLOPs\n",
            "\n",
            "Transferred 343/349 items from yolov5s.pt\n",
            "Scaled weight_decay = 0.0005\n",
            "\u001b[34m\u001b[1moptimizer:\u001b[0m SGD with parameter groups 57 weight (no decay), 60 weight, 60 bias\n",
            "\u001b[34m\u001b[1malbumentations: \u001b[0mversion 1.0.3 required by YOLOv5, but version 0.1.12 is currently installed\n",
            "\u001b[34m\u001b[1mtrain: \u001b[0mScanning '/content/yolov5/Ejercicio3/labels/train' images and labels...465 found, 0 missing, 0 empty, 0 corrupt: 100% 465/465 [00:00<00:00, 657.44it/s]\n",
            "\u001b[34m\u001b[1mtrain: \u001b[0mNew cache created: /content/yolov5/Ejercicio3/labels/train.cache\n",
            "\u001b[34m\u001b[1mval: \u001b[0mScanning '/content/yolov5/Ejercicio3/labels/test' images and labels...200 found, 0 missing, 0 empty, 0 corrupt: 100% 200/200 [00:00<00:00, 518.67it/s]\n",
            "\u001b[34m\u001b[1mval: \u001b[0mNew cache created: /content/yolov5/Ejercicio3/labels/test.cache\n",
            "Plotting labels to runs/train/exp/labels.jpg... \n",
            "\n",
            "\u001b[34m\u001b[1mAutoAnchor: \u001b[0m4.05 anchors/target, 0.998 Best Possible Recall (BPR). Current anchors are a good fit to dataset ✅\n",
            "Image sizes 800 train, 800 val\n",
            "Using 2 dataloader workers\n",
            "Logging results to \u001b[1mruns/train/exp\u001b[0m\n",
            "Starting training for 20 epochs...\n",
            "\n",
            "     Epoch   gpu_mem       box       obj       cls    labels  img_size\n",
            "      0/19     4.85G    0.1049   0.03877         0         1       800: 100% 30/30 [00:53<00:00,  1.77s/it]\n",
            "               Class     Images     Labels          P          R     mAP@.5 mAP@.5:.95: 100% 7/7 [00:07<00:00,  1.03s/it]\n",
            "                 all        200        526     0.0226     0.0875    0.00952    0.00168\n",
            "\n",
            "     Epoch   gpu_mem       box       obj       cls    labels  img_size\n",
            "      1/19     7.01G   0.07682   0.02797         0         1       800: 100% 30/30 [00:49<00:00,  1.66s/it]\n",
            "               Class     Images     Labels          P          R     mAP@.5 mAP@.5:.95: 100% 7/7 [00:05<00:00,  1.22it/s]\n",
            "                 all        200        526     0.0921      0.106      0.027    0.00595\n",
            "\n",
            "     Epoch   gpu_mem       box       obj       cls    labels  img_size\n",
            "      2/19     7.01G   0.06406   0.02571         0         1       800: 100% 30/30 [00:49<00:00,  1.66s/it]\n",
            "               Class     Images     Labels          P          R     mAP@.5 mAP@.5:.95: 100% 7/7 [00:05<00:00,  1.18it/s]\n",
            "                 all        200        526      0.085      0.116     0.0289    0.00519\n",
            "\n",
            "     Epoch   gpu_mem       box       obj       cls    labels  img_size\n",
            "      3/19     7.01G   0.06502   0.02326         0         1       800: 100% 30/30 [00:49<00:00,  1.66s/it]\n",
            "               Class     Images     Labels          P          R     mAP@.5 mAP@.5:.95: 100% 7/7 [00:05<00:00,  1.18it/s]\n",
            "                 all        200        526      0.425      0.274      0.247       0.07\n",
            "\n",
            "     Epoch   gpu_mem       box       obj       cls    labels  img_size\n",
            "      4/19     7.01G   0.05206    0.0229         0         1       800: 100% 30/30 [00:49<00:00,  1.66s/it]\n",
            "               Class     Images     Labels          P          R     mAP@.5 mAP@.5:.95: 100% 7/7 [00:05<00:00,  1.20it/s]\n",
            "                 all        200        526      0.454      0.388      0.364      0.124\n",
            "\n",
            "     Epoch   gpu_mem       box       obj       cls    labels  img_size\n",
            "      5/19     7.01G   0.04923   0.02163         0         2       800: 100% 30/30 [00:49<00:00,  1.66s/it]\n",
            "               Class     Images     Labels          P          R     mAP@.5 mAP@.5:.95: 100% 7/7 [00:05<00:00,  1.23it/s]\n",
            "                 all        200        526      0.493      0.407      0.398      0.165\n",
            "\n",
            "     Epoch   gpu_mem       box       obj       cls    labels  img_size\n",
            "      6/19     7.01G   0.04317   0.01986         0         2       800: 100% 30/30 [00:49<00:00,  1.65s/it]\n",
            "               Class     Images     Labels          P          R     mAP@.5 mAP@.5:.95: 100% 7/7 [00:05<00:00,  1.27it/s]\n",
            "                 all        200        526      0.557      0.388      0.423      0.127\n",
            "\n",
            "     Epoch   gpu_mem       box       obj       cls    labels  img_size\n",
            "      7/19     7.01G   0.03715   0.01818         0         2       800: 100% 30/30 [00:49<00:00,  1.66s/it]\n",
            "               Class     Images     Labels          P          R     mAP@.5 mAP@.5:.95: 100% 7/7 [00:05<00:00,  1.28it/s]\n",
            "                 all        200        526      0.651      0.507      0.566      0.223\n",
            "\n",
            "     Epoch   gpu_mem       box       obj       cls    labels  img_size\n",
            "      8/19     7.01G   0.03622   0.01658         0         1       800: 100% 30/30 [00:49<00:00,  1.66s/it]\n",
            "               Class     Images     Labels          P          R     mAP@.5 mAP@.5:.95: 100% 7/7 [00:05<00:00,  1.30it/s]\n",
            "                 all        200        526      0.613      0.481      0.523      0.228\n",
            "\n",
            "     Epoch   gpu_mem       box       obj       cls    labels  img_size\n",
            "      9/19     7.01G   0.03157     0.015         0         1       800: 100% 30/30 [00:49<00:00,  1.66s/it]\n",
            "               Class     Images     Labels          P          R     mAP@.5 mAP@.5:.95: 100% 7/7 [00:05<00:00,  1.31it/s]\n",
            "                 all        200        526      0.672      0.525      0.607      0.297\n",
            "\n",
            "     Epoch   gpu_mem       box       obj       cls    labels  img_size\n",
            "     10/19     7.01G   0.03174   0.01339         0         1       800: 100% 30/30 [00:49<00:00,  1.67s/it]\n",
            "               Class     Images     Labels          P          R     mAP@.5 mAP@.5:.95: 100% 7/7 [00:06<00:00,  1.05it/s]\n",
            "                 all        200        526      0.676      0.579      0.639      0.248\n",
            "\n",
            "     Epoch   gpu_mem       box       obj       cls    labels  img_size\n",
            "     11/19     7.01G   0.02928   0.01233         0         1       800: 100% 30/30 [00:49<00:00,  1.66s/it]\n",
            "               Class     Images     Labels          P          R     mAP@.5 mAP@.5:.95: 100% 7/7 [00:05<00:00,  1.30it/s]\n",
            "                 all        200        526      0.708      0.605      0.678      0.353\n",
            "\n",
            "     Epoch   gpu_mem       box       obj       cls    labels  img_size\n",
            "     12/19     7.01G   0.02703   0.01166         0         3       800: 100% 30/30 [00:49<00:00,  1.65s/it]\n",
            "               Class     Images     Labels          P          R     mAP@.5 mAP@.5:.95: 100% 7/7 [00:05<00:00,  1.28it/s]\n",
            "                 all        200        526      0.672      0.624      0.668      0.339\n",
            "\n",
            "     Epoch   gpu_mem       box       obj       cls    labels  img_size\n",
            "     13/19     7.01G   0.02263   0.01026         0         1       800: 100% 30/30 [00:49<00:00,  1.66s/it]\n",
            "               Class     Images     Labels          P          R     mAP@.5 mAP@.5:.95: 100% 7/7 [00:05<00:00,  1.31it/s]\n",
            "                 all        200        526      0.761      0.589      0.683      0.358\n",
            "\n",
            "     Epoch   gpu_mem       box       obj       cls    labels  img_size\n",
            "     14/19     7.01G   0.02166  0.009452         0         1       800: 100% 30/30 [00:49<00:00,  1.65s/it]\n",
            "               Class     Images     Labels          P          R     mAP@.5 mAP@.5:.95: 100% 7/7 [00:05<00:00,  1.31it/s]\n",
            "                 all        200        526      0.715       0.65      0.689      0.348\n",
            "\n",
            "     Epoch   gpu_mem       box       obj       cls    labels  img_size\n",
            "     15/19     7.01G    0.0221  0.008839         0         3       800: 100% 30/30 [00:49<00:00,  1.66s/it]\n",
            "               Class     Images     Labels          P          R     mAP@.5 mAP@.5:.95: 100% 7/7 [00:05<00:00,  1.31it/s]\n",
            "                 all        200        526      0.775      0.602      0.685      0.356\n",
            "\n",
            "     Epoch   gpu_mem       box       obj       cls    labels  img_size\n",
            "     16/19     7.01G   0.01838  0.008094         0         1       800: 100% 30/30 [00:49<00:00,  1.66s/it]\n",
            "               Class     Images     Labels          P          R     mAP@.5 mAP@.5:.95: 100% 7/7 [00:05<00:00,  1.31it/s]\n",
            "                 all        200        526       0.75      0.627      0.693      0.369\n",
            "\n",
            "     Epoch   gpu_mem       box       obj       cls    labels  img_size\n",
            "     17/19     7.01G   0.01866  0.008074         0         3       800: 100% 30/30 [00:49<00:00,  1.66s/it]\n",
            "               Class     Images     Labels          P          R     mAP@.5 mAP@.5:.95: 100% 7/7 [00:05<00:00,  1.28it/s]\n",
            "                 all        200        526       0.78      0.627      0.701      0.383\n",
            "\n",
            "     Epoch   gpu_mem       box       obj       cls    labels  img_size\n",
            "     18/19     7.01G    0.0154  0.007171         0         1       800: 100% 30/30 [00:49<00:00,  1.65s/it]\n",
            "               Class     Images     Labels          P          R     mAP@.5 mAP@.5:.95: 100% 7/7 [00:05<00:00,  1.32it/s]\n",
            "                 all        200        526      0.742      0.618      0.691      0.368\n",
            "\n",
            "     Epoch   gpu_mem       box       obj       cls    labels  img_size\n",
            "     19/19     7.01G    0.0152  0.006897         0         2       800: 100% 30/30 [00:49<00:00,  1.65s/it]\n",
            "               Class     Images     Labels          P          R     mAP@.5 mAP@.5:.95: 100% 7/7 [00:05<00:00,  1.31it/s]\n",
            "                 all        200        526      0.729      0.648        0.7      0.376\n",
            "\n",
            "20 epochs completed in 0.314 hours.\n",
            "Optimizer stripped from runs/train/exp/weights/last.pt, 14.6MB\n",
            "Optimizer stripped from runs/train/exp/weights/best.pt, 14.6MB\n",
            "\n",
            "Validating runs/train/exp/weights/best.pt...\n",
            "Fusing layers... \n",
            "Model summary: 213 layers, 7012822 parameters, 0 gradients, 15.8 GFLOPs\n",
            "               Class     Images     Labels          P          R     mAP@.5 mAP@.5:.95: 100% 7/7 [00:08<00:00,  1.18s/it]\n",
            "                 all        200        526      0.779      0.627      0.701      0.383\n",
            "Results saved to \u001b[1mruns/train/exp\u001b[0m\n"
          ]
        }
      ]
    },
    {
      "cell_type": "markdown",
      "source": [
        "Se repite el entrenamiento pero con los hiperparámetro establecidos por defecto."
      ],
      "metadata": {
        "id": "EWeGyaSnWA9m"
      }
    },
    {
      "cell_type": "code",
      "source": [
        "!python train.py --img 800 --batch 16 --epochs 30 --data ./data/pothole.yaml --weights yolov5s.pt --hyp hyp.scratch-low.yaml"
      ],
      "metadata": {
        "colab": {
          "base_uri": "https://localhost:8080/"
        },
        "id": "cFfRcx_2SgwD",
        "outputId": "3f7c0178-6f6d-42f8-bd43-619df65a1eef"
      },
      "execution_count": 20,
      "outputs": [
        {
          "output_type": "stream",
          "name": "stdout",
          "text": [
            "\u001b[34m\u001b[1mtrain: \u001b[0mweights=yolov5s.pt, cfg=, data=./data/pothole.yaml, hyp=hyp.scratch-low.yaml, epochs=30, batch_size=16, imgsz=800, rect=False, resume=False, nosave=False, noval=False, noautoanchor=False, noplots=False, evolve=None, bucket=, cache=None, image_weights=False, device=, multi_scale=False, single_cls=False, optimizer=SGD, sync_bn=False, workers=8, project=runs/train, name=exp, exist_ok=False, quad=False, cos_lr=False, label_smoothing=0.0, patience=100, freeze=[0], save_period=-1, local_rank=-1, entity=None, upload_dataset=False, bbox_interval=-1, artifact_alias=latest\n",
            "\u001b[34m\u001b[1mgithub: \u001b[0mup to date with https://github.com/ultralytics/yolov5 ✅\n",
            "YOLOv5 🚀 v6.1-176-gaa7a0e9 torch 1.11.0+cu113 CUDA:0 (Tesla K80, 11441MiB)\n",
            "\n",
            "\u001b[34m\u001b[1mhyperparameters: \u001b[0mlr0=0.01, lrf=0.01, momentum=0.937, weight_decay=0.0005, warmup_epochs=3.0, warmup_momentum=0.8, warmup_bias_lr=0.1, box=0.05, cls=0.5, cls_pw=1.0, obj=1.0, obj_pw=1.0, iou_t=0.2, anchor_t=4.0, fl_gamma=0.0, hsv_h=0.015, hsv_s=0.7, hsv_v=0.4, degrees=0.0, translate=0.1, scale=0.5, shear=0.0, perspective=0.0, flipud=0.0, fliplr=0.5, mosaic=1.0, mixup=0.0, copy_paste=0.0\n",
            "\u001b[34m\u001b[1mWeights & Biases: \u001b[0mrun 'pip install wandb' to automatically track and visualize YOLOv5 🚀 runs (RECOMMENDED)\n",
            "\u001b[34m\u001b[1mTensorBoard: \u001b[0mStart with 'tensorboard --logdir runs/train', view at http://localhost:6006/\n",
            "Overriding model.yaml nc=80 with nc=1\n",
            "\n",
            "                 from  n    params  module                                  arguments                     \n",
            "  0                -1  1      3520  models.common.Conv                      [3, 32, 6, 2, 2]              \n",
            "  1                -1  1     18560  models.common.Conv                      [32, 64, 3, 2]                \n",
            "  2                -1  1     18816  models.common.C3                        [64, 64, 1]                   \n",
            "  3                -1  1     73984  models.common.Conv                      [64, 128, 3, 2]               \n",
            "  4                -1  2    115712  models.common.C3                        [128, 128, 2]                 \n",
            "  5                -1  1    295424  models.common.Conv                      [128, 256, 3, 2]              \n",
            "  6                -1  3    625152  models.common.C3                        [256, 256, 3]                 \n",
            "  7                -1  1   1180672  models.common.Conv                      [256, 512, 3, 2]              \n",
            "  8                -1  1   1182720  models.common.C3                        [512, 512, 1]                 \n",
            "  9                -1  1    656896  models.common.SPPF                      [512, 512, 5]                 \n",
            " 10                -1  1    131584  models.common.Conv                      [512, 256, 1, 1]              \n",
            " 11                -1  1         0  torch.nn.modules.upsampling.Upsample    [None, 2, 'nearest']          \n",
            " 12           [-1, 6]  1         0  models.common.Concat                    [1]                           \n",
            " 13                -1  1    361984  models.common.C3                        [512, 256, 1, False]          \n",
            " 14                -1  1     33024  models.common.Conv                      [256, 128, 1, 1]              \n",
            " 15                -1  1         0  torch.nn.modules.upsampling.Upsample    [None, 2, 'nearest']          \n",
            " 16           [-1, 4]  1         0  models.common.Concat                    [1]                           \n",
            " 17                -1  1     90880  models.common.C3                        [256, 128, 1, False]          \n",
            " 18                -1  1    147712  models.common.Conv                      [128, 128, 3, 2]              \n",
            " 19          [-1, 14]  1         0  models.common.Concat                    [1]                           \n",
            " 20                -1  1    296448  models.common.C3                        [256, 256, 1, False]          \n",
            " 21                -1  1    590336  models.common.Conv                      [256, 256, 3, 2]              \n",
            " 22          [-1, 10]  1         0  models.common.Concat                    [1]                           \n",
            " 23                -1  1   1182720  models.common.C3                        [512, 512, 1, False]          \n",
            " 24      [17, 20, 23]  1     16182  models.yolo.Detect                      [1, [[10, 13, 16, 30, 33, 23], [30, 61, 62, 45, 59, 119], [116, 90, 156, 198, 373, 326]], [128, 256, 512]]\n",
            "Model summary: 270 layers, 7022326 parameters, 7022326 gradients, 15.8 GFLOPs\n",
            "\n",
            "Transferred 343/349 items from yolov5s.pt\n",
            "Scaled weight_decay = 0.0005\n",
            "\u001b[34m\u001b[1moptimizer:\u001b[0m SGD with parameter groups 57 weight (no decay), 60 weight, 60 bias\n",
            "\u001b[34m\u001b[1malbumentations: \u001b[0mversion 1.0.3 required by YOLOv5, but version 0.1.12 is currently installed\n",
            "\u001b[34m\u001b[1mtrain: \u001b[0mScanning '/content/yolov5/Ejercicio3/labels/train.cache' images and labels... 465 found, 0 missing, 0 empty, 0 corrupt: 100% 465/465 [00:00<?, ?it/s]\n",
            "\u001b[34m\u001b[1mval: \u001b[0mScanning '/content/yolov5/Ejercicio3/labels/test.cache' images and labels... 200 found, 0 missing, 0 empty, 0 corrupt: 100% 200/200 [00:00<?, ?it/s]\n",
            "Plotting labels to runs/train/exp2/labels.jpg... \n",
            "\n",
            "\u001b[34m\u001b[1mAutoAnchor: \u001b[0m4.05 anchors/target, 0.998 Best Possible Recall (BPR). Current anchors are a good fit to dataset ✅\n",
            "Image sizes 800 train, 800 val\n",
            "Using 2 dataloader workers\n",
            "Logging results to \u001b[1mruns/train/exp2\u001b[0m\n",
            "Starting training for 30 epochs...\n",
            "\n",
            "     Epoch   gpu_mem       box       obj       cls    labels  img_size\n",
            "      0/29     4.85G    0.1094   0.04939         0         5       800: 100% 30/30 [00:51<00:00,  1.72s/it]\n",
            "               Class     Images     Labels          P          R     mAP@.5 mAP@.5:.95: 100% 7/7 [00:07<00:00,  1.10s/it]\n",
            "                 all        200        526     0.0478     0.0894     0.0129    0.00257\n",
            "\n",
            "     Epoch   gpu_mem       box       obj       cls    labels  img_size\n",
            "      1/29     7.01G   0.08128   0.04302         0         1       800: 100% 30/30 [00:50<00:00,  1.68s/it]\n",
            "               Class     Images     Labels          P          R     mAP@.5 mAP@.5:.95: 100% 7/7 [00:06<00:00,  1.14it/s]\n",
            "                 all        200        526      0.159      0.171      0.074     0.0161\n",
            "\n",
            "     Epoch   gpu_mem       box       obj       cls    labels  img_size\n",
            "      2/29     7.01G   0.06987   0.03945         0         1       800: 100% 30/30 [00:50<00:00,  1.67s/it]\n",
            "               Class     Images     Labels          P          R     mAP@.5 mAP@.5:.95: 100% 7/7 [00:06<00:00,  1.16it/s]\n",
            "                 all        200        526      0.191      0.186     0.0836     0.0186\n",
            "\n",
            "     Epoch   gpu_mem       box       obj       cls    labels  img_size\n",
            "      3/29     7.01G   0.06519    0.0369         0         0       800: 100% 30/30 [00:50<00:00,  1.67s/it]\n",
            "               Class     Images     Labels          P          R     mAP@.5 mAP@.5:.95: 100% 7/7 [00:06<00:00,  1.16it/s]\n",
            "                 all        200        526      0.361       0.34      0.276      0.106\n",
            "\n",
            "     Epoch   gpu_mem       box       obj       cls    labels  img_size\n",
            "      4/29     7.01G   0.05942   0.03584         0         1       800: 100% 30/30 [00:50<00:00,  1.67s/it]\n",
            "               Class     Images     Labels          P          R     mAP@.5 mAP@.5:.95: 100% 7/7 [00:06<00:00,  1.15it/s]\n",
            "                 all        200        526      0.365      0.306      0.242     0.0683\n",
            "\n",
            "     Epoch   gpu_mem       box       obj       cls    labels  img_size\n",
            "      5/29     7.01G    0.0506   0.03463         0         3       800: 100% 30/30 [00:50<00:00,  1.68s/it]\n",
            "               Class     Images     Labels          P          R     mAP@.5 mAP@.5:.95: 100% 7/7 [00:05<00:00,  1.23it/s]\n",
            "                 all        200        526      0.557      0.517      0.531      0.235\n",
            "\n",
            "     Epoch   gpu_mem       box       obj       cls    labels  img_size\n",
            "      6/29     7.01G   0.04741   0.03394         0        10       800: 100% 30/30 [00:50<00:00,  1.67s/it]\n",
            "               Class     Images     Labels          P          R     mAP@.5 mAP@.5:.95: 100% 7/7 [00:05<00:00,  1.21it/s]\n",
            "                 all        200        526      0.518      0.523      0.524        0.2\n",
            "\n",
            "     Epoch   gpu_mem       box       obj       cls    labels  img_size\n",
            "      7/29     7.01G   0.04353   0.02984         0         2       800: 100% 30/30 [00:50<00:00,  1.67s/it]\n",
            "               Class     Images     Labels          P          R     mAP@.5 mAP@.5:.95: 100% 7/7 [00:05<00:00,  1.18it/s]\n",
            "                 all        200        526      0.543      0.576      0.574      0.268\n",
            "\n",
            "     Epoch   gpu_mem       box       obj       cls    labels  img_size\n",
            "      8/29     7.01G   0.04436   0.03093         0         2       800: 100% 30/30 [00:50<00:00,  1.68s/it]\n",
            "               Class     Images     Labels          P          R     mAP@.5 mAP@.5:.95: 100% 7/7 [00:05<00:00,  1.24it/s]\n",
            "                 all        200        526       0.55      0.608      0.601      0.205\n",
            "\n",
            "     Epoch   gpu_mem       box       obj       cls    labels  img_size\n",
            "      9/29     7.01G   0.04235    0.0277         0         1       800: 100% 30/30 [00:50<00:00,  1.67s/it]\n",
            "               Class     Images     Labels          P          R     mAP@.5 mAP@.5:.95: 100% 7/7 [00:05<00:00,  1.21it/s]\n",
            "                 all        200        526      0.628      0.587      0.624      0.312\n",
            "\n",
            "     Epoch   gpu_mem       box       obj       cls    labels  img_size\n",
            "     10/29     7.01G   0.04027     0.027         0         1       800: 100% 30/30 [00:50<00:00,  1.67s/it]\n",
            "               Class     Images     Labels          P          R     mAP@.5 mAP@.5:.95: 100% 7/7 [00:05<00:00,  1.25it/s]\n",
            "                 all        200        526      0.665      0.646       0.69      0.334\n",
            "\n",
            "     Epoch   gpu_mem       box       obj       cls    labels  img_size\n",
            "     11/29     7.01G   0.03817   0.02969         0         9       800: 100% 30/30 [00:49<00:00,  1.66s/it]\n",
            "               Class     Images     Labels          P          R     mAP@.5 mAP@.5:.95: 100% 7/7 [00:05<00:00,  1.26it/s]\n",
            "                 all        200        526      0.691      0.618       0.69      0.364\n",
            "\n",
            "     Epoch   gpu_mem       box       obj       cls    labels  img_size\n",
            "     12/29     7.01G   0.03514   0.02865         0         2       800: 100% 30/30 [00:49<00:00,  1.65s/it]\n",
            "               Class     Images     Labels          P          R     mAP@.5 mAP@.5:.95: 100% 7/7 [00:05<00:00,  1.23it/s]\n",
            "                 all        200        526      0.766      0.635      0.717      0.372\n",
            "\n",
            "     Epoch   gpu_mem       box       obj       cls    labels  img_size\n",
            "     13/29     7.01G    0.0355   0.02721         0         4       800: 100% 30/30 [00:49<00:00,  1.66s/it]\n",
            "               Class     Images     Labels          P          R     mAP@.5 mAP@.5:.95: 100% 7/7 [00:05<00:00,  1.28it/s]\n",
            "                 all        200        526       0.75      0.688      0.764      0.425\n",
            "\n",
            "     Epoch   gpu_mem       box       obj       cls    labels  img_size\n",
            "     14/29     7.01G   0.03605   0.02962         0         7       800: 100% 30/30 [00:49<00:00,  1.65s/it]\n",
            "               Class     Images     Labels          P          R     mAP@.5 mAP@.5:.95: 100% 7/7 [00:05<00:00,  1.23it/s]\n",
            "                 all        200        526      0.754      0.601      0.709       0.37\n",
            "\n",
            "     Epoch   gpu_mem       box       obj       cls    labels  img_size\n",
            "     15/29     7.01G   0.03509   0.02899         0         7       800: 100% 30/30 [00:49<00:00,  1.66s/it]\n",
            "               Class     Images     Labels          P          R     mAP@.5 mAP@.5:.95: 100% 7/7 [00:05<00:00,  1.26it/s]\n",
            "                 all        200        526      0.744       0.62      0.716      0.385\n",
            "\n",
            "     Epoch   gpu_mem       box       obj       cls    labels  img_size\n",
            "     16/29     7.01G   0.03312   0.02545         0         3       800: 100% 30/30 [00:49<00:00,  1.65s/it]\n",
            "               Class     Images     Labels          P          R     mAP@.5 mAP@.5:.95: 100% 7/7 [00:05<00:00,  1.27it/s]\n",
            "                 all        200        526      0.719      0.684      0.738      0.412\n",
            "\n",
            "     Epoch   gpu_mem       box       obj       cls    labels  img_size\n",
            "     17/29     7.01G   0.03308   0.02567         0         4       800: 100% 30/30 [00:50<00:00,  1.67s/it]\n",
            "               Class     Images     Labels          P          R     mAP@.5 mAP@.5:.95: 100% 7/7 [00:05<00:00,  1.26it/s]\n",
            "                 all        200        526      0.726      0.675      0.744      0.418\n",
            "\n",
            "     Epoch   gpu_mem       box       obj       cls    labels  img_size\n",
            "     18/29     7.01G   0.03201    0.0258         0         3       800: 100% 30/30 [00:50<00:00,  1.67s/it]\n",
            "               Class     Images     Labels          P          R     mAP@.5 mAP@.5:.95: 100% 7/7 [00:05<00:00,  1.27it/s]\n",
            "                 all        200        526      0.799       0.62      0.732      0.397\n",
            "\n",
            "     Epoch   gpu_mem       box       obj       cls    labels  img_size\n",
            "     19/29     7.01G   0.03218   0.02416         0         6       800: 100% 30/30 [00:50<00:00,  1.67s/it]\n",
            "               Class     Images     Labels          P          R     mAP@.5 mAP@.5:.95: 100% 7/7 [00:05<00:00,  1.26it/s]\n",
            "                 all        200        526      0.743      0.684      0.752      0.428\n",
            "\n",
            "     Epoch   gpu_mem       box       obj       cls    labels  img_size\n",
            "     20/29     7.01G   0.03033   0.02562         0        10       800: 100% 30/30 [00:50<00:00,  1.67s/it]\n",
            "               Class     Images     Labels          P          R     mAP@.5 mAP@.5:.95: 100% 7/7 [00:05<00:00,  1.25it/s]\n",
            "                 all        200        526       0.71      0.741      0.786      0.457\n",
            "\n",
            "     Epoch   gpu_mem       box       obj       cls    labels  img_size\n",
            "     21/29     7.01G    0.0314    0.0245         0        10       800: 100% 30/30 [00:50<00:00,  1.67s/it]\n",
            "               Class     Images     Labels          P          R     mAP@.5 mAP@.5:.95: 100% 7/7 [00:05<00:00,  1.27it/s]\n",
            "                 all        200        526      0.728      0.726      0.785      0.448\n",
            "\n",
            "     Epoch   gpu_mem       box       obj       cls    labels  img_size\n",
            "     22/29     7.01G   0.03067   0.02368         0         4       800: 100% 30/30 [00:50<00:00,  1.67s/it]\n",
            "               Class     Images     Labels          P          R     mAP@.5 mAP@.5:.95: 100% 7/7 [00:05<00:00,  1.27it/s]\n",
            "                 all        200        526      0.738      0.754      0.795      0.464\n",
            "\n",
            "     Epoch   gpu_mem       box       obj       cls    labels  img_size\n",
            "     23/29     7.01G   0.03052   0.02375         0        11       800: 100% 30/30 [00:50<00:00,  1.67s/it]\n",
            "               Class     Images     Labels          P          R     mAP@.5 mAP@.5:.95: 100% 7/7 [00:05<00:00,  1.26it/s]\n",
            "                 all        200        526      0.773      0.715      0.791      0.465\n",
            "\n",
            "     Epoch   gpu_mem       box       obj       cls    labels  img_size\n",
            "     24/29     7.01G   0.03076   0.02376         0         5       800: 100% 30/30 [00:50<00:00,  1.68s/it]\n",
            "               Class     Images     Labels          P          R     mAP@.5 mAP@.5:.95: 100% 7/7 [00:05<00:00,  1.27it/s]\n",
            "                 all        200        526      0.733      0.732      0.792      0.467\n",
            "\n",
            "     Epoch   gpu_mem       box       obj       cls    labels  img_size\n",
            "     25/29     7.01G   0.02925   0.02468         0         4       800: 100% 30/30 [00:50<00:00,  1.68s/it]\n",
            "               Class     Images     Labels          P          R     mAP@.5 mAP@.5:.95: 100% 7/7 [00:05<00:00,  1.27it/s]\n",
            "                 all        200        526      0.762      0.696      0.775      0.446\n",
            "\n",
            "     Epoch   gpu_mem       box       obj       cls    labels  img_size\n",
            "     26/29     7.01G   0.02896    0.0232         0         7       800: 100% 30/30 [00:50<00:00,  1.67s/it]\n",
            "               Class     Images     Labels          P          R     mAP@.5 mAP@.5:.95: 100% 7/7 [00:05<00:00,  1.25it/s]\n",
            "                 all        200        526      0.772      0.715      0.781      0.458\n",
            "\n",
            "     Epoch   gpu_mem       box       obj       cls    labels  img_size\n",
            "     27/29     7.01G   0.02791   0.02344         0         3       800: 100% 30/30 [00:50<00:00,  1.67s/it]\n",
            "               Class     Images     Labels          P          R     mAP@.5 mAP@.5:.95: 100% 7/7 [00:05<00:00,  1.25it/s]\n",
            "                 all        200        526      0.763      0.728      0.787      0.461\n",
            "\n",
            "     Epoch   gpu_mem       box       obj       cls    labels  img_size\n",
            "     28/29     7.01G   0.02828   0.02298         0         2       800: 100% 30/30 [00:50<00:00,  1.67s/it]\n",
            "               Class     Images     Labels          P          R     mAP@.5 mAP@.5:.95: 100% 7/7 [00:05<00:00,  1.25it/s]\n",
            "                 all        200        526      0.789      0.732      0.794      0.468\n",
            "\n",
            "     Epoch   gpu_mem       box       obj       cls    labels  img_size\n",
            "     29/29     7.01G     0.028   0.02346         0        10       800: 100% 30/30 [00:50<00:00,  1.67s/it]\n",
            "               Class     Images     Labels          P          R     mAP@.5 mAP@.5:.95: 100% 7/7 [00:05<00:00,  1.25it/s]\n",
            "                 all        200        526      0.781      0.728      0.791       0.47\n",
            "\n",
            "30 epochs completed in 0.473 hours.\n",
            "Optimizer stripped from runs/train/exp2/weights/last.pt, 14.6MB\n",
            "Optimizer stripped from runs/train/exp2/weights/best.pt, 14.6MB\n",
            "\n",
            "Validating runs/train/exp2/weights/best.pt...\n",
            "Fusing layers... \n",
            "Model summary: 213 layers, 7012822 parameters, 0 gradients, 15.8 GFLOPs\n",
            "               Class     Images     Labels          P          R     mAP@.5 mAP@.5:.95: 100% 7/7 [00:08<00:00,  1.22s/it]\n",
            "                 all        200        526      0.779      0.726      0.789       0.47\n",
            "Results saved to \u001b[1mruns/train/exp2\u001b[0m\n"
          ]
        }
      ]
    },
    {
      "cell_type": "code",
      "source": [
        "runs_zip_file_name = shutil.make_archive('runs', 'zip', '/content/yolov5/runs')\n",
        "files.download(runs_zip_file_name)"
      ],
      "metadata": {
        "colab": {
          "base_uri": "https://localhost:8080/",
          "height": 17
        },
        "id": "QKWrYV-aWJm2",
        "outputId": "30a2bd27-85d9-4657-9d81-d5dd395de381"
      },
      "execution_count": 21,
      "outputs": [
        {
          "output_type": "display_data",
          "data": {
            "text/plain": [
              "<IPython.core.display.Javascript object>"
            ],
            "application/javascript": [
              "\n",
              "    async function download(id, filename, size) {\n",
              "      if (!google.colab.kernel.accessAllowed) {\n",
              "        return;\n",
              "      }\n",
              "      const div = document.createElement('div');\n",
              "      const label = document.createElement('label');\n",
              "      label.textContent = `Downloading \"${filename}\": `;\n",
              "      div.appendChild(label);\n",
              "      const progress = document.createElement('progress');\n",
              "      progress.max = size;\n",
              "      div.appendChild(progress);\n",
              "      document.body.appendChild(div);\n",
              "\n",
              "      const buffers = [];\n",
              "      let downloaded = 0;\n",
              "\n",
              "      const channel = await google.colab.kernel.comms.open(id);\n",
              "      // Send a message to notify the kernel that we're ready.\n",
              "      channel.send({})\n",
              "\n",
              "      for await (const message of channel.messages) {\n",
              "        // Send a message to notify the kernel that we're ready.\n",
              "        channel.send({})\n",
              "        if (message.buffers) {\n",
              "          for (const buffer of message.buffers) {\n",
              "            buffers.push(buffer);\n",
              "            downloaded += buffer.byteLength;\n",
              "            progress.value = downloaded;\n",
              "          }\n",
              "        }\n",
              "      }\n",
              "      const blob = new Blob(buffers, {type: 'application/binary'});\n",
              "      const a = document.createElement('a');\n",
              "      a.href = window.URL.createObjectURL(blob);\n",
              "      a.download = filename;\n",
              "      div.appendChild(a);\n",
              "      a.click();\n",
              "      div.remove();\n",
              "    }\n",
              "  "
            ]
          },
          "metadata": {}
        },
        {
          "output_type": "display_data",
          "data": {
            "text/plain": [
              "<IPython.core.display.Javascript object>"
            ],
            "application/javascript": [
              "download(\"download_f0e8a7b4-b535-454c-8b78-8e4a102294d2\", \"runs.zip\", 67097805)"
            ]
          },
          "metadata": {}
        }
      ]
    }
  ]
}